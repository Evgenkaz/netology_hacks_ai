{
 "cells": [
  {
   "cell_type": "markdown",
   "metadata": {
    "id": "qb_ajqWXuguV"
   },
   "source": [
    "## Import"
   ]
  },
  {
   "cell_type": "code",
   "execution_count": 1,
   "metadata": {
    "id": "MTgpe_1quUDs"
   },
   "outputs": [],
   "source": [
    "import pandas as pd\n",
    "import tqdm\n",
    "import seaborn as sns\n",
    "import matplotlib.pyplot as plt\n",
    "from sklearn.model_selection import train_test_split, KFold\n",
    "import numpy as np\n",
    "import optuna\n",
    "import shap\n",
    "from sklearn.feature_selection import SelectFromModel\n",
    "from functools import partial\n",
    "from optuna.trial import FrozenTrial\n",
    "from optuna.trial import TrialState\n",
    "from sklearn.metrics import recall_score, precision_score\n",
    "from sklearn.model_selection import cross_val_score\n",
    "from sklearn.pipeline import Pipeline\n",
    "from xgboost import plot_importance\n",
    "from sklearn.preprocessing import StandardScaler\n",
    "from sklearn.ensemble import RandomForestClassifier\n",
    "from xgboost import XGBClassifier \n",
    "from sklearn.linear_model import RidgeClassifier\n",
    "from sklearn.linear_model import LogisticRegression\n",
    "import warnings\n",
    "warnings.simplefilter(\"ignore\")"
   ]
  },
  {
   "cell_type": "code",
   "execution_count": 2,
   "metadata": {
    "id": "o9N4JbcWudk2"
   },
   "outputs": [],
   "source": [
    "train = pd.read_csv(r\"C:\\work\\Чемпионат_Оренбург/train_dataset_train.csv\")"
   ]
  },
  {
   "cell_type": "code",
   "execution_count": 3,
   "metadata": {},
   "outputs": [],
   "source": [
    "test = pd.read_csv(r\"C:\\work\\Чемпионат_Оренбург/test_dataset_test.csv\")"
   ]
  },
  {
   "cell_type": "code",
   "execution_count": 4,
   "metadata": {},
   "outputs": [],
   "source": [
    "sub = pd.read_csv(r\"C:\\work\\Чемпионат_Оренбург\\Оренбург/sample_solution.csv\")"
   ]
  },
  {
   "cell_type": "code",
   "execution_count": 5,
   "metadata": {},
   "outputs": [
    {
     "data": {
      "text/plain": [
       "float64    38\n",
       "int64      11\n",
       "object     10\n",
       "dtype: int64"
      ]
     },
     "execution_count": 5,
     "metadata": {},
     "output_type": "execute_result"
    }
   ],
   "source": [
    "train.dtypes.value_counts()"
   ]
  },
  {
   "cell_type": "code",
   "execution_count": 6,
   "metadata": {},
   "outputs": [
    {
     "data": {
      "text/plain": [
       "0    174301\n",
       "1     13512\n",
       "5      3678\n",
       "4      3659\n",
       "3      3027\n",
       "2      1823\n",
       "Name: target, dtype: int64"
      ]
     },
     "execution_count": 6,
     "metadata": {},
     "output_type": "execute_result"
    }
   ],
   "source": [
    "train.target.value_counts()"
   ]
  },
  {
   "cell_type": "code",
   "execution_count": 7,
   "metadata": {},
   "outputs": [
    {
     "data": {
      "image/png": "[encoded data removed]",
      "text/plain": [
       "<Figure size 432x288 with 1 Axes>"
      ]
     },
     "metadata": {
      "needs_background": "light"
     },
     "output_type": "display_data"
    }
   ],
   "source": [
    "sns.barplot(y=train[\"target\"].value_counts().index,x=train[\"target\"].value_counts().values);"
   ]
  },
  {
   "cell_type": "code",
   "execution_count": 8,
   "metadata": {
    "colab": {
     "base_uri": "https://localhost:8080/"
    },
    "id": "NUHy7c-tuegn",
    "outputId": "91ae5ab5-7104-4a34-853e-3a4dd4b6832e"
   },
   "outputs": [
    {
     "name": "stdout",
     "output_type": "stream",
     "text": [
      "<class 'pandas.core.frame.DataFrame'>\n",
      "RangeIndex: 200000 entries, 0 to 199999\n",
      "Data columns (total 59 columns):\n",
      " #   Column                     Non-Null Count   Dtype  \n",
      "---  ------                     --------------   -----  \n",
      " 0   id                         200000 non-null  int64  \n",
      " 1   age_indicator              159123 non-null  float64\n",
      " 2   month_id                   200000 non-null  object \n",
      " 3   student_id                 200000 non-null  int64  \n",
      " 4   program_id                 200000 non-null  int64  \n",
      " 5   carts_created_at           200000 non-null  object \n",
      " 6   spent_time_total           86309 non-null   float64\n",
      " 7   spent_time_to_complete_hw  42467 non-null   float64\n",
      " 8   completed_hw               97599 non-null   float64\n",
      " 9   failed_hw                  97599 non-null   float64\n",
      " 10  reworked_hw                97599 non-null   float64\n",
      " 11  interacted_hw              97599 non-null   float64\n",
      " 12  avg_hw_mark                44496 non-null   float64\n",
      " 13  test_with_good_mark        97599 non-null   float64\n",
      " 14  test_with_great_mark       97599 non-null   float64\n",
      " 15  webinars                   97599 non-null   float64\n",
      " 16  avg_quiz_result            16259 non-null   float64\n",
      " 17  notes                      97599 non-null   float64\n",
      " 18  hw_leader                  97599 non-null   float64\n",
      " 19  lessons                    97599 non-null   float64\n",
      " 20  activity                   97599 non-null   float64\n",
      " 21  bought_d1                  200000 non-null  int64  \n",
      " 22  bought_d2                  200000 non-null  int64  \n",
      " 23  bought_d3                  200000 non-null  int64  \n",
      " 24  bought_d4                  200000 non-null  int64  \n",
      " 25  bought_d5                  200000 non-null  int64  \n",
      " 26  bought_avg_duration        10359 non-null   float64\n",
      " 27  payment_type               200000 non-null  int64  \n",
      " 28  promo                      200000 non-null  object \n",
      " 29  price                      200000 non-null  float64\n",
      " 30  communication_type         198595 non-null  object \n",
      " 31  auto_payment               200000 non-null  int64  \n",
      " 32  ABC                        200000 non-null  object \n",
      " 33  city                       13592 non-null   object \n",
      " 34  country                    12944 non-null   object \n",
      " 35  gender                     199940 non-null  float64\n",
      " 36  speed_recall               21880 non-null   float64\n",
      " 37  os                         77374 non-null   object \n",
      " 38  browser                    77374 non-null   object \n",
      " 39  platform                   77361 non-null   object \n",
      " 40  m_avg_talk_duration        51537 non-null   float64\n",
      " 41  m_avg_duration             45764 non-null   float64\n",
      " 42  m_missed_calls             51537 non-null   float64\n",
      " 43  m_total_calls              51537 non-null   float64\n",
      " 44  m_was_conversations        51537 non-null   float64\n",
      " 45  m_total_duration           51537 non-null   float64\n",
      " 46  p_avg_talk_duration        16453 non-null   float64\n",
      " 47  p_avg_duration             13488 non-null   float64\n",
      " 48  p_missed_calls             16453 non-null   float64\n",
      " 49  p_total_calls              16453 non-null   float64\n",
      " 50  p_was_conversations        16453 non-null   float64\n",
      " 51  p_total_duration           16453 non-null   float64\n",
      " 52  support_feedback_avg       37557 non-null   float64\n",
      " 53  feedback_avg_d1            48496 non-null   float64\n",
      " 54  feedback_avg_d2            14805 non-null   float64\n",
      " 55  feedback_avg_d3            17778 non-null   float64\n",
      " 56  feedback_avg_d4            25076 non-null   float64\n",
      " 57  feedback_avg_d5            15733 non-null   float64\n",
      " 58  target                     200000 non-null  int64  \n",
      "dtypes: float64(38), int64(11), object(10)\n",
      "memory usage: 90.0+ MB\n"
     ]
    }
   ],
   "source": [
    "train.info()"
   ]
  },
  {
   "cell_type": "code",
   "execution_count": 9,
   "metadata": {},
   "outputs": [
    {
     "data": {
      "text/plain": [
       "id                           200000\n",
       "age_indicator                    40\n",
       "month_id                         18\n",
       "student_id                    31153\n",
       "program_id                      267\n",
       "carts_created_at                447\n",
       "spent_time_total                945\n",
       "spent_time_to_complete_hw         2\n",
       "completed_hw                     20\n",
       "failed_hw                        36\n",
       "reworked_hw                     216\n",
       "interacted_hw                    23\n",
       "avg_hw_mark                      74\n",
       "test_with_good_mark              83\n",
       "test_with_great_mark             59\n",
       "webinars                         62\n",
       "avg_quiz_result                2608\n",
       "notes                           311\n",
       "hw_leader                        49\n",
       "lessons                          62\n",
       "activity                        140\n",
       "bought_d1                        10\n",
       "bought_d2                         4\n",
       "bought_d3                         6\n",
       "bought_d4                         4\n",
       "bought_d5                         5\n",
       "bought_avg_duration             158\n",
       "payment_type                      2\n",
       "promo                             2\n",
       "price                          7270\n",
       "communication_type                3\n",
       "auto_payment                      2\n",
       "ABC                               4\n",
       "city                            276\n",
       "country                          39\n",
       "gender                            3\n",
       "speed_recall                      7\n",
       "os                                8\n",
       "browser                          26\n",
       "platform                          3\n",
       "m_avg_talk_duration            5094\n",
       "m_avg_duration                 4640\n",
       "m_missed_calls                   29\n",
       "m_total_calls                    39\n",
       "m_was_conversations              28\n",
       "m_total_duration               4813\n",
       "p_avg_talk_duration             748\n",
       "p_avg_duration                  609\n",
       "p_missed_calls                   19\n",
       "p_total_calls                    23\n",
       "p_was_conversations              14\n",
       "p_total_duration                688\n",
       "support_feedback_avg             83\n",
       "feedback_avg_d1                1059\n",
       "feedback_avg_d2                 577\n",
       "feedback_avg_d3                 730\n",
       "feedback_avg_d4                1081\n",
       "feedback_avg_d5                 693\n",
       "target                            6\n",
       "dtype: int64"
      ]
     },
     "execution_count": 9,
     "metadata": {},
     "output_type": "execute_result"
    }
   ],
   "source": [
    "train.nunique()"
   ]
  },
  {
   "cell_type": "code",
   "execution_count": 10,
   "metadata": {},
   "outputs": [
    {
     "data": {
      "text/plain": [
       "id                           84997\n",
       "age_indicator                   40\n",
       "month_id                        18\n",
       "student_id                   26833\n",
       "program_id                     261\n",
       "carts_created_at               447\n",
       "spent_time_total               800\n",
       "spent_time_to_complete_hw        2\n",
       "completed_hw                    18\n",
       "failed_hw                       32\n",
       "reworked_hw                    165\n",
       "interacted_hw                   19\n",
       "avg_hw_mark                     42\n",
       "test_with_good_mark             74\n",
       "test_with_great_mark            52\n",
       "webinars                        57\n",
       "avg_quiz_result               1336\n",
       "notes                          234\n",
       "hw_leader                       44\n",
       "lessons                         56\n",
       "activity                       122\n",
       "bought_d1                        9\n",
       "bought_d2                        4\n",
       "bought_d3                        6\n",
       "bought_d4                        4\n",
       "bought_d5                        5\n",
       "bought_avg_duration            154\n",
       "payment_type                     2\n",
       "promo                            2\n",
       "price                         6457\n",
       "communication_type               3\n",
       "auto_payment                     2\n",
       "ABC                              4\n",
       "city                           258\n",
       "country                         36\n",
       "gender                           3\n",
       "speed_recall                     7\n",
       "os                               8\n",
       "browser                         27\n",
       "platform                         3\n",
       "m_avg_talk_duration           4031\n",
       "m_avg_duration                3675\n",
       "m_missed_calls                  29\n",
       "m_total_calls                   36\n",
       "m_was_conversations             27\n",
       "m_total_duration              3855\n",
       "p_avg_talk_duration            640\n",
       "p_avg_duration                 539\n",
       "p_missed_calls                  19\n",
       "p_total_calls                   22\n",
       "p_was_conversations             13\n",
       "p_total_duration               587\n",
       "support_feedback_avg            68\n",
       "feedback_avg_d1                784\n",
       "feedback_avg_d2                447\n",
       "feedback_avg_d3                513\n",
       "feedback_avg_d4                740\n",
       "feedback_avg_d5                479\n",
       "dtype: int64"
      ]
     },
     "execution_count": 10,
     "metadata": {},
     "output_type": "execute_result"
    }
   ],
   "source": [
    "test.nunique()"
   ]
  },
  {
   "cell_type": "code",
   "execution_count": 11,
   "metadata": {
    "id": "sWf6o_06uei9"
   },
   "outputs": [],
   "source": [
    "idx = train.shape[0]\n",
    "data = pd.concat([train, test], sort=False)"
   ]
  },
  {
   "cell_type": "code",
   "execution_count": 12,
   "metadata": {},
   "outputs": [],
   "source": [
    "data['age_indicator'].fillna(data['age_indicator'].median(), inplace=True)"
   ]
  },
  {
   "cell_type": "code",
   "execution_count": 13,
   "metadata": {},
   "outputs": [],
   "source": [
    "data['carts_created_at']=data['carts_created_at'].str.replace('/','.')\n",
    "data['month_id']=data['month_id'].str.replace('/','.')"
   ]
  },
  {
   "cell_type": "code",
   "execution_count": 14,
   "metadata": {},
   "outputs": [],
   "source": [
    "data['time_1'] = data[['carts_created_at']].apply(pd.to_datetime)\n",
    "data['time_2'] = data[['month_id']].apply(pd.to_datetime)"
   ]
  },
  {
   "cell_type": "code",
   "execution_count": 15,
   "metadata": {},
   "outputs": [],
   "source": [
    "data['time_day']=(data['time_2']-data['time_1']).dt.days"
   ]
  },
  {
   "cell_type": "code",
   "execution_count": 16,
   "metadata": {},
   "outputs": [],
   "source": [
    "data['price_day']=data['price']/data['time_day']"
   ]
  },
  {
   "cell_type": "code",
   "execution_count": 17,
   "metadata": {},
   "outputs": [],
   "source": [
    "#data['total_day']=(data['time_day']/365)*100"
   ]
  },
  {
   "cell_type": "code",
   "execution_count": 18,
   "metadata": {},
   "outputs": [],
   "source": [
    "data = data.fillna(0)"
   ]
  },
  {
   "cell_type": "code",
   "execution_count": 19,
   "metadata": {},
   "outputs": [],
   "source": [
    "categorial=['month_id','city','country','os','browser','platform','communication_type','ABC','promo','carts_created_at']"
   ]
  },
  {
   "cell_type": "code",
   "execution_count": 20,
   "metadata": {},
   "outputs": [],
   "source": [
    "for i in categorial:\n",
    "        data[i] = data[i].astype('category')\n",
    "        data[i] = data[i].cat.codes\n",
    "        data[i] = data[i].astype('int')\n",
    "  \n",
    "        "
   ]
  },
  {
   "cell_type": "code",
   "execution_count": 21,
   "metadata": {},
   "outputs": [],
   "source": [
    "data.price_day=data.price_day.replace(np.inf,0)"
   ]
  },
  {
   "cell_type": "code",
   "execution_count": 22,
   "metadata": {
    "colab": {
     "base_uri": "https://localhost:8080/",
     "height": 313
    },
    "id": "205eCTRPu3Au",
    "outputId": "b35b3048-6e15-431c-d206-344e488f29ef"
   },
   "outputs": [
    {
     "data": {
      "image/png": "[encoded data removed]",
      "text/plain": [
       "<Figure size 1440x1440 with 64 Axes>"
      ]
     },
     "metadata": {
      "needs_background": "light"
     },
     "output_type": "display_data"
    }
   ],
   "source": [
    "data.hist(figsize=(20,20))\n",
    "plt.show()"
   ]
  },
  {
   "cell_type": "code",
   "execution_count": 24,
   "metadata": {
    "id": "Q0CkiEzGwusL"
   },
   "outputs": [
    {
     "data": {
      "text/plain": [
       "<AxesSubplot:>"
      ]
     },
     "execution_count": 24,
     "metadata": {},
     "output_type": "execute_result"
    },
    {
     "data": {
      "image/png": "[encoded data removed]",
      "text/plain": [
       "<Figure size 1080x720 with 2 Axes>"
      ]
     },
     "metadata": {
      "needs_background": "light"
     },
     "output_type": "display_data"
    }
   ],
   "source": [
    "plt.figure(figsize=(15, 10))\n",
    "sns.heatmap(data[['price','age_indicator','month_id','program_id','student_id','time_day','price_day','target',]].corr(), annot = True, cmap = 'YlGn', fmt=\".2f\", vmin = -1, vmax = 1, linewidths = 0.1, linecolor = 'white')"
   ]
  },
  {
   "cell_type": "code",
   "execution_count": 22,
   "metadata": {},
   "outputs": [],
   "source": [
    "data_train = data[:idx]\n",
    "data_test = data[idx:]"
   ]
  },
  {
   "cell_type": "code",
   "execution_count": 23,
   "metadata": {
    "id": "czsoZexkyyTw"
   },
   "outputs": [],
   "source": [
    "X = data_train.drop(['time_1','time_2','target'], axis = 1)\n",
    "y= data_train[[\"target\"]].values\n",
    "X_valid = data_test.drop(['time_1','time_2','target'], axis = 1)"
   ]
  },
  {
   "cell_type": "code",
   "execution_count": 39,
   "metadata": {},
   "outputs": [],
   "source": [
    "sc = ('Scaler', StandardScaler())\n",
    "est =[]\n",
    "est.append(('RandomForestClassifier', Pipeline([sc, ('RandomForestClassifier', RandomForestClassifier())])))\n",
    "est.append(('XGBClassifier', Pipeline([('XGBClassifier', XGBClassifier())])))\n",
    "est.append(('RidgeClassifier', Pipeline([sc,('RidgeClassifier', RidgeClassifier())])))\n",
    "est.append(('LogisticRegression', Pipeline([sc, ('LogisticRegression', LogisticRegression(multi_class='multinomial'))])))"
   ]
  },
  {
   "cell_type": "code",
   "execution_count": 40,
   "metadata": {},
   "outputs": [
    {
     "data": {
      "text/plain": [
       "[('RandomForestClassifier', 0.9025499953951045),\n",
       " ('XGBClassifier', 0.9000049984449925),\n",
       " ('RidgeClassifier', 0.8717399932935535),\n",
       " ('LogisticRegression', 0.8714099939685402)]"
      ]
     },
     "execution_count": 40,
     "metadata": {},
     "output_type": "execute_result"
    }
   ],
   "source": [
    "seed = 42\n",
    "splits = 3\n",
    "models_score ={}\n",
    "for i in est:\n",
    "    kfold = KFold(n_splits=splits, random_state=seed, shuffle=True)\n",
    "    results = cross_val_score(i[1],X, y, cv=kfold)\n",
    "    models_score.update({i[0] : results.mean()})\n",
    "    \n",
    "sorted(models_score.items(), key= lambda v:v[1], reverse=True)"
   ]
  },
  {
   "cell_type": "code",
   "execution_count": 41,
   "metadata": {},
   "outputs": [],
   "source": [
    "future=X.columns"
   ]
  },
  {
   "cell_type": "code",
   "execution_count": 171,
   "metadata": {},
   "outputs": [],
   "source": [
    "def run(trial, data=X,target=y):\n",
    "    \n",
    "    X_train, X_valid, y_train, y_valid = train_test_split(X, y, test_size=0.1, random_state=7777)\n",
    "   \n",
    "    \n",
    "    params = {  \n",
    "                 'n_estimators': trial.suggest_int('n_estimators', 1000, 1300),\n",
    "                  'max_depth': trial.suggest_int('max_depth', 9, 10),\n",
    "                 'learning_rate': trial.suggest_uniform('learning_rate', 0.005, 0.7),\n",
    "                 'subsample': trial.suggest_categorical('subsample', [0.4, 0.5, 0.6, 0.7, 0.8, 0.9, 1.0]),\n",
    "                 'colsample_bylevel': trial.suggest_categorical('colsample_bylevel', [0.4, 0.5, 0.6, 0.7, 0.8, 0.9, 1.0]),            \n",
    "                \n",
    "                  'reg_lambda': trial.suggest_loguniform('reg_lambda', 1e-3, 100),\n",
    "                  'reg_alpha': trial.suggest_loguniform('reg_alpha', 1e-3, 100),\n",
    "              \n",
    "                \n",
    "            }\n",
    "    model = XGBClassifier(**params,nthread=32,use_label_encoder=False,tree_method='gpu_hist')\n",
    "    model.fit(X_train, y_train,\n",
    "           eval_set=[(X_train, y_train),(X_valid, y_valid)],eval_metric=['mlogloss'],early_stopping_rounds=50, verbose=50,\n",
    "           callbacks=[optuna.integration.XGBoostPruningCallback(trial, observation_key='validation_0-mlogloss')],\n",
    "          )\n",
    "    y_proba = model.predict(X_valid)\n",
    "    test_score =0.2* recall_score(y_valid, y_proba, average='macro') + 0.8* precision_score(y_valid,y_proba, average='macro')\n",
    "    \n",
    "    return test_score\n",
    "    "
   ]
  },
  {
   "cell_type": "code",
   "execution_count": 172,
   "metadata": {},
   "outputs": [
    {
     "name": "stderr",
     "output_type": "stream",
     "text": [
      "\u001b[32m[I 2022-08-03 20:38:24,419]\u001b[0m A new study created in memory with name: no-name-e9c0c204-1ec7-4664-bab2-ce408bc763cf\u001b[0m\n",
      "C:\\Users\\Oksana\\anaconda3\\envs\\TEST\\lib\\site-packages\\xgboost\\sklearn.py:793: UserWarning:\n",
      "\n",
      "`eval_metric` in `fit` method is deprecated for better compatibility with scikit-learn, use `eval_metric` in constructor or`set_params` instead.\n",
      "\n",
      "C:\\Users\\Oksana\\anaconda3\\envs\\TEST\\lib\\site-packages\\xgboost\\sklearn.py:793: UserWarning:\n",
      "\n",
      "`early_stopping_rounds` in `fit` method is deprecated for better compatibility with scikit-learn, use `early_stopping_rounds` in constructor or`set_params` instead.\n",
      "\n",
      "C:\\Users\\Oksana\\anaconda3\\envs\\TEST\\lib\\site-packages\\xgboost\\sklearn.py:793: UserWarning:\n",
      "\n",
      "`callbacks` in `fit` method is deprecated for better compatibility with scikit-learn, use `callbacks` in constructor or`set_params` instead.\n",
      "\n"
     ]
    },
    {
     "name": "stdout",
     "output_type": "stream",
     "text": [
      "[0]\tvalidation_0-mlogloss:1.14440\tvalidation_1-mlogloss:1.15168\n",
      "[50]\tvalidation_0-mlogloss:0.13595\tvalidation_1-mlogloss:0.21499\n",
      "[100]\tvalidation_0-mlogloss:0.06898\tvalidation_1-mlogloss:0.16099\n",
      "[150]\tvalidation_0-mlogloss:0.03759\tvalidation_1-mlogloss:0.13191\n",
      "[200]\tvalidation_0-mlogloss:0.02247\tvalidation_1-mlogloss:0.11815\n",
      "[250]\tvalidation_0-mlogloss:0.01375\tvalidation_1-mlogloss:0.10956\n",
      "[300]\tvalidation_0-mlogloss:0.00912\tvalidation_1-mlogloss:0.10538\n",
      "[350]\tvalidation_0-mlogloss:0.00650\tvalidation_1-mlogloss:0.10315\n",
      "[400]\tvalidation_0-mlogloss:0.00483\tvalidation_1-mlogloss:0.10143\n",
      "[450]\tvalidation_0-mlogloss:0.00372\tvalidation_1-mlogloss:0.10061\n",
      "[500]\tvalidation_0-mlogloss:0.00298\tvalidation_1-mlogloss:0.10037\n",
      "[550]\tvalidation_0-mlogloss:0.00246\tvalidation_1-mlogloss:0.10044\n",
      "[600]\tvalidation_0-mlogloss:0.00206\tvalidation_1-mlogloss:0.10051\n",
      "[611]\tvalidation_0-mlogloss:0.00200\tvalidation_1-mlogloss:0.10048\n"
     ]
    },
    {
     "name": "stderr",
     "output_type": "stream",
     "text": [
      "\u001b[32m[I 2022-08-03 20:39:58,932]\u001b[0m Trial 0 finished with value: 0.9273540806836547 and parameters: {'n_estimators': 1291, 'max_depth': 9, 'learning_rate': 0.31297321970563313, 'subsample': 1.0, 'colsample_bylevel': 0.8, 'reg_lambda': 0.20517224524396982, 'reg_alpha': 0.026602415025049536}. Best is trial 0 with value: 0.9273540806836547.\u001b[0m\n",
      "C:\\Users\\Oksana\\anaconda3\\envs\\TEST\\lib\\site-packages\\xgboost\\sklearn.py:793: UserWarning:\n",
      "\n",
      "`eval_metric` in `fit` method is deprecated for better compatibility with scikit-learn, use `eval_metric` in constructor or`set_params` instead.\n",
      "\n",
      "C:\\Users\\Oksana\\anaconda3\\envs\\TEST\\lib\\site-packages\\xgboost\\sklearn.py:793: UserWarning:\n",
      "\n",
      "`early_stopping_rounds` in `fit` method is deprecated for better compatibility with scikit-learn, use `early_stopping_rounds` in constructor or`set_params` instead.\n",
      "\n",
      "C:\\Users\\Oksana\\anaconda3\\envs\\TEST\\lib\\site-packages\\xgboost\\sklearn.py:793: UserWarning:\n",
      "\n",
      "`callbacks` in `fit` method is deprecated for better compatibility with scikit-learn, use `callbacks` in constructor or`set_params` instead.\n",
      "\n"
     ]
    },
    {
     "name": "stdout",
     "output_type": "stream",
     "text": [
      "[0]\tvalidation_0-mlogloss:0.74540\tvalidation_1-mlogloss:0.75780\n",
      "[50]\tvalidation_0-mlogloss:0.06789\tvalidation_1-mlogloss:0.16964\n",
      "[100]\tvalidation_0-mlogloss:0.02086\tvalidation_1-mlogloss:0.13040\n",
      "[150]\tvalidation_0-mlogloss:0.00909\tvalidation_1-mlogloss:0.11998\n",
      "[200]\tvalidation_0-mlogloss:0.00513\tvalidation_1-mlogloss:0.11747\n",
      "[250]\tvalidation_0-mlogloss:0.00338\tvalidation_1-mlogloss:0.11730\n",
      "[288]\tvalidation_0-mlogloss:0.00266\tvalidation_1-mlogloss:0.11737\n"
     ]
    },
    {
     "name": "stderr",
     "output_type": "stream",
     "text": [
      "\u001b[32m[I 2022-08-03 20:40:49,749]\u001b[0m Trial 1 finished with value: 0.9159084036339008 and parameters: {'n_estimators': 1129, 'max_depth': 9, 'learning_rate': 0.5979353003733764, 'subsample': 0.8, 'colsample_bylevel': 0.8, 'reg_lambda': 0.8364067519700136, 'reg_alpha': 0.03642600579383272}. Best is trial 0 with value: 0.9273540806836547.\u001b[0m\n",
      "C:\\Users\\Oksana\\anaconda3\\envs\\TEST\\lib\\site-packages\\xgboost\\sklearn.py:793: UserWarning:\n",
      "\n",
      "`eval_metric` in `fit` method is deprecated for better compatibility with scikit-learn, use `eval_metric` in constructor or`set_params` instead.\n",
      "\n",
      "C:\\Users\\Oksana\\anaconda3\\envs\\TEST\\lib\\site-packages\\xgboost\\sklearn.py:793: UserWarning:\n",
      "\n",
      "`early_stopping_rounds` in `fit` method is deprecated for better compatibility with scikit-learn, use `early_stopping_rounds` in constructor or`set_params` instead.\n",
      "\n",
      "C:\\Users\\Oksana\\anaconda3\\envs\\TEST\\lib\\site-packages\\xgboost\\sklearn.py:793: UserWarning:\n",
      "\n",
      "`callbacks` in `fit` method is deprecated for better compatibility with scikit-learn, use `callbacks` in constructor or`set_params` instead.\n",
      "\n"
     ]
    },
    {
     "name": "stdout",
     "output_type": "stream",
     "text": [
      "[0]\tvalidation_0-mlogloss:1.59900\tvalidation_1-mlogloss:1.60046\n",
      "[50]\tvalidation_0-mlogloss:0.29131\tvalidation_1-mlogloss:0.33787\n",
      "[100]\tvalidation_0-mlogloss:0.20341\tvalidation_1-mlogloss:0.26951\n",
      "[150]\tvalidation_0-mlogloss:0.15902\tvalidation_1-mlogloss:0.23503\n",
      "[200]\tvalidation_0-mlogloss:0.12496\tvalidation_1-mlogloss:0.20908\n",
      "[250]\tvalidation_0-mlogloss:0.10015\tvalidation_1-mlogloss:0.19010\n",
      "[300]\tvalidation_0-mlogloss:0.08158\tvalidation_1-mlogloss:0.17594\n",
      "[350]\tvalidation_0-mlogloss:0.06683\tvalidation_1-mlogloss:0.16402\n",
      "[400]\tvalidation_0-mlogloss:0.05600\tvalidation_1-mlogloss:0.15553\n",
      "[450]\tvalidation_0-mlogloss:0.04683\tvalidation_1-mlogloss:0.14837\n",
      "[500]\tvalidation_0-mlogloss:0.03972\tvalidation_1-mlogloss:0.14224\n",
      "[550]\tvalidation_0-mlogloss:0.03367\tvalidation_1-mlogloss:0.13720\n",
      "[600]\tvalidation_0-mlogloss:0.02904\tvalidation_1-mlogloss:0.13314\n",
      "[650]\tvalidation_0-mlogloss:0.02522\tvalidation_1-mlogloss:0.12993\n",
      "[700]\tvalidation_0-mlogloss:0.02218\tvalidation_1-mlogloss:0.12729\n",
      "[750]\tvalidation_0-mlogloss:0.01974\tvalidation_1-mlogloss:0.12517\n",
      "[800]\tvalidation_0-mlogloss:0.01757\tvalidation_1-mlogloss:0.12331\n",
      "[850]\tvalidation_0-mlogloss:0.01576\tvalidation_1-mlogloss:0.12181\n",
      "[900]\tvalidation_0-mlogloss:0.01427\tvalidation_1-mlogloss:0.12042\n",
      "[950]\tvalidation_0-mlogloss:0.01295\tvalidation_1-mlogloss:0.11956\n",
      "[1000]\tvalidation_0-mlogloss:0.01182\tvalidation_1-mlogloss:0.11853\n",
      "[1022]\tvalidation_0-mlogloss:0.01138\tvalidation_1-mlogloss:0.11808\n"
     ]
    },
    {
     "name": "stderr",
     "output_type": "stream",
     "text": [
      "\u001b[32m[I 2022-08-03 20:45:13,052]\u001b[0m Trial 2 finished with value: 0.910441053041654 and parameters: {'n_estimators': 1023, 'max_depth': 10, 'learning_rate': 0.08585809843630281, 'subsample': 0.7, 'colsample_bylevel': 0.6, 'reg_lambda': 4.120685587991366, 'reg_alpha': 0.0017975367372769896}. Best is trial 0 with value: 0.9273540806836547.\u001b[0m\n",
      "C:\\Users\\Oksana\\anaconda3\\envs\\TEST\\lib\\site-packages\\xgboost\\sklearn.py:793: UserWarning:\n",
      "\n",
      "`eval_metric` in `fit` method is deprecated for better compatibility with scikit-learn, use `eval_metric` in constructor or`set_params` instead.\n",
      "\n",
      "C:\\Users\\Oksana\\anaconda3\\envs\\TEST\\lib\\site-packages\\xgboost\\sklearn.py:793: UserWarning:\n",
      "\n",
      "`early_stopping_rounds` in `fit` method is deprecated for better compatibility with scikit-learn, use `early_stopping_rounds` in constructor or`set_params` instead.\n",
      "\n",
      "C:\\Users\\Oksana\\anaconda3\\envs\\TEST\\lib\\site-packages\\xgboost\\sklearn.py:793: UserWarning:\n",
      "\n",
      "`callbacks` in `fit` method is deprecated for better compatibility with scikit-learn, use `callbacks` in constructor or`set_params` instead.\n",
      "\n"
     ]
    },
    {
     "name": "stdout",
     "output_type": "stream",
     "text": [
      "[0]\tvalidation_0-mlogloss:1.37299\tvalidation_1-mlogloss:1.37484\n",
      "[50]\tvalidation_0-mlogloss:0.33839\tvalidation_1-mlogloss:0.36636\n",
      "[100]\tvalidation_0-mlogloss:0.29714\tvalidation_1-mlogloss:0.33608\n",
      "[150]\tvalidation_0-mlogloss:0.27514\tvalidation_1-mlogloss:0.32054\n",
      "[200]\tvalidation_0-mlogloss:0.26120\tvalidation_1-mlogloss:0.31062\n",
      "[250]\tvalidation_0-mlogloss:0.25062\tvalidation_1-mlogloss:0.30351\n",
      "[300]\tvalidation_0-mlogloss:0.24204\tvalidation_1-mlogloss:0.29722\n",
      "[350]\tvalidation_0-mlogloss:0.23496\tvalidation_1-mlogloss:0.29242\n",
      "[400]\tvalidation_0-mlogloss:0.22874\tvalidation_1-mlogloss:0.28799\n",
      "[450]\tvalidation_0-mlogloss:0.22402\tvalidation_1-mlogloss:0.28463\n",
      "[500]\tvalidation_0-mlogloss:0.21966\tvalidation_1-mlogloss:0.28153\n",
      "[550]\tvalidation_0-mlogloss:0.21587\tvalidation_1-mlogloss:0.27884\n",
      "[600]\tvalidation_0-mlogloss:0.21252\tvalidation_1-mlogloss:0.27648\n",
      "[650]\tvalidation_0-mlogloss:0.20968\tvalidation_1-mlogloss:0.27447\n",
      "[700]\tvalidation_0-mlogloss:0.20689\tvalidation_1-mlogloss:0.27261\n",
      "[750]\tvalidation_0-mlogloss:0.20446\tvalidation_1-mlogloss:0.27102\n",
      "[800]\tvalidation_0-mlogloss:0.20225\tvalidation_1-mlogloss:0.26944\n",
      "[850]\tvalidation_0-mlogloss:0.20022\tvalidation_1-mlogloss:0.26807\n",
      "[900]\tvalidation_0-mlogloss:0.19829\tvalidation_1-mlogloss:0.26662\n",
      "[950]\tvalidation_0-mlogloss:0.19660\tvalidation_1-mlogloss:0.26547\n",
      "[1000]\tvalidation_0-mlogloss:0.19489\tvalidation_1-mlogloss:0.26427\n",
      "[1050]\tvalidation_0-mlogloss:0.19334\tvalidation_1-mlogloss:0.26319\n",
      "[1100]\tvalidation_0-mlogloss:0.19203\tvalidation_1-mlogloss:0.26224\n",
      "[1150]\tvalidation_0-mlogloss:0.19068\tvalidation_1-mlogloss:0.26127\n",
      "[1200]\tvalidation_0-mlogloss:0.18941\tvalidation_1-mlogloss:0.26042\n",
      "[1207]\tvalidation_0-mlogloss:0.18933\tvalidation_1-mlogloss:0.26036\n"
     ]
    },
    {
     "name": "stderr",
     "output_type": "stream",
     "text": [
      "\u001b[32m[I 2022-08-03 20:46:32,464]\u001b[0m Trial 3 finished with value: 0.7402093012505893 and parameters: {'n_estimators': 1208, 'max_depth': 10, 'learning_rate': 0.19830666266888286, 'subsample': 0.9, 'colsample_bylevel': 0.6, 'reg_lambda': 0.9581474631275095, 'reg_alpha': 35.09966874374019}. Best is trial 0 with value: 0.9273540806836547.\u001b[0m\n",
      "C:\\Users\\Oksana\\anaconda3\\envs\\TEST\\lib\\site-packages\\xgboost\\sklearn.py:793: UserWarning:\n",
      "\n",
      "`eval_metric` in `fit` method is deprecated for better compatibility with scikit-learn, use `eval_metric` in constructor or`set_params` instead.\n",
      "\n",
      "C:\\Users\\Oksana\\anaconda3\\envs\\TEST\\lib\\site-packages\\xgboost\\sklearn.py:793: UserWarning:\n",
      "\n",
      "`early_stopping_rounds` in `fit` method is deprecated for better compatibility with scikit-learn, use `early_stopping_rounds` in constructor or`set_params` instead.\n",
      "\n",
      "C:\\Users\\Oksana\\anaconda3\\envs\\TEST\\lib\\site-packages\\xgboost\\sklearn.py:793: UserWarning:\n",
      "\n",
      "`callbacks` in `fit` method is deprecated for better compatibility with scikit-learn, use `callbacks` in constructor or`set_params` instead.\n",
      "\n"
     ]
    },
    {
     "name": "stdout",
     "output_type": "stream",
     "text": [
      "[0]\tvalidation_0-mlogloss:1.25331\tvalidation_1-mlogloss:1.26055\n",
      "[50]\tvalidation_0-mlogloss:0.11379\tvalidation_1-mlogloss:0.19823\n",
      "[100]\tvalidation_0-mlogloss:0.04891\tvalidation_1-mlogloss:0.14295\n",
      "[150]\tvalidation_0-mlogloss:0.02418\tvalidation_1-mlogloss:0.12092\n",
      "[200]\tvalidation_0-mlogloss:0.01311\tvalidation_1-mlogloss:0.10988\n",
      "[250]\tvalidation_0-mlogloss:0.00804\tvalidation_1-mlogloss:0.10441\n",
      "[300]\tvalidation_0-mlogloss:0.00543\tvalidation_1-mlogloss:0.10206\n",
      "[350]\tvalidation_0-mlogloss:0.00406\tvalidation_1-mlogloss:0.10106\n",
      "[400]\tvalidation_0-mlogloss:0.00320\tvalidation_1-mlogloss:0.10064\n",
      "[450]\tvalidation_0-mlogloss:0.00266\tvalidation_1-mlogloss:0.10055\n",
      "[500]\tvalidation_0-mlogloss:0.00227\tvalidation_1-mlogloss:0.10054\n",
      "[533]\tvalidation_0-mlogloss:0.00207\tvalidation_1-mlogloss:0.10062\n"
     ]
    },
    {
     "name": "stderr",
     "output_type": "stream",
     "text": [
      "\u001b[32m[I 2022-08-03 20:48:32,093]\u001b[0m Trial 4 finished with value: 0.9263493033289019 and parameters: {'n_estimators': 1284, 'max_depth': 10, 'learning_rate': 0.2503262908832366, 'subsample': 0.9, 'colsample_bylevel': 0.8, 'reg_lambda': 0.0165148138833241, 'reg_alpha': 0.12976661213023596}. Best is trial 0 with value: 0.9273540806836547.\u001b[0m\n",
      "C:\\Users\\Oksana\\anaconda3\\envs\\TEST\\lib\\site-packages\\xgboost\\sklearn.py:793: UserWarning:\n",
      "\n",
      "`eval_metric` in `fit` method is deprecated for better compatibility with scikit-learn, use `eval_metric` in constructor or`set_params` instead.\n",
      "\n",
      "C:\\Users\\Oksana\\anaconda3\\envs\\TEST\\lib\\site-packages\\xgboost\\sklearn.py:793: UserWarning:\n",
      "\n",
      "`early_stopping_rounds` in `fit` method is deprecated for better compatibility with scikit-learn, use `early_stopping_rounds` in constructor or`set_params` instead.\n",
      "\n",
      "C:\\Users\\Oksana\\anaconda3\\envs\\TEST\\lib\\site-packages\\xgboost\\sklearn.py:793: UserWarning:\n",
      "\n",
      "`callbacks` in `fit` method is deprecated for better compatibility with scikit-learn, use `callbacks` in constructor or`set_params` instead.\n",
      "\n",
      "\u001b[32m[I 2022-08-03 20:48:32,833]\u001b[0m Trial 5 pruned. Trial was pruned at iteration 0.\u001b[0m\n",
      "C:\\Users\\Oksana\\anaconda3\\envs\\TEST\\lib\\site-packages\\xgboost\\sklearn.py:793: UserWarning:\n",
      "\n",
      "`eval_metric` in `fit` method is deprecated for better compatibility with scikit-learn, use `eval_metric` in constructor or`set_params` instead.\n",
      "\n",
      "C:\\Users\\Oksana\\anaconda3\\envs\\TEST\\lib\\site-packages\\xgboost\\sklearn.py:793: UserWarning:\n",
      "\n",
      "`early_stopping_rounds` in `fit` method is deprecated for better compatibility with scikit-learn, use `early_stopping_rounds` in constructor or`set_params` instead.\n",
      "\n",
      "C:\\Users\\Oksana\\anaconda3\\envs\\TEST\\lib\\site-packages\\xgboost\\sklearn.py:793: UserWarning:\n",
      "\n",
      "`callbacks` in `fit` method is deprecated for better compatibility with scikit-learn, use `callbacks` in constructor or`set_params` instead.\n",
      "\n",
      "\u001b[32m[I 2022-08-03 20:48:33,690]\u001b[0m Trial 6 pruned. Trial was pruned at iteration 0.\u001b[0m\n",
      "C:\\Users\\Oksana\\anaconda3\\envs\\TEST\\lib\\site-packages\\xgboost\\sklearn.py:793: UserWarning:\n",
      "\n",
      "`eval_metric` in `fit` method is deprecated for better compatibility with scikit-learn, use `eval_metric` in constructor or`set_params` instead.\n",
      "\n",
      "C:\\Users\\Oksana\\anaconda3\\envs\\TEST\\lib\\site-packages\\xgboost\\sklearn.py:793: UserWarning:\n",
      "\n",
      "`early_stopping_rounds` in `fit` method is deprecated for better compatibility with scikit-learn, use `early_stopping_rounds` in constructor or`set_params` instead.\n",
      "\n",
      "C:\\Users\\Oksana\\anaconda3\\envs\\TEST\\lib\\site-packages\\xgboost\\sklearn.py:793: UserWarning:\n",
      "\n",
      "`callbacks` in `fit` method is deprecated for better compatibility with scikit-learn, use `callbacks` in constructor or`set_params` instead.\n",
      "\n"
     ]
    },
    {
     "name": "stdout",
     "output_type": "stream",
     "text": [
      "[0]\tvalidation_0-mlogloss:1.19240\tvalidation_1-mlogloss:1.19544\n"
     ]
    },
    {
     "name": "stderr",
     "output_type": "stream",
     "text": [
      "\u001b[32m[I 2022-08-03 20:48:34,295]\u001b[0m Trial 7 pruned. Trial was pruned at iteration 0.\u001b[0m\n",
      "C:\\Users\\Oksana\\anaconda3\\envs\\TEST\\lib\\site-packages\\xgboost\\sklearn.py:793: UserWarning:\n",
      "\n",
      "`eval_metric` in `fit` method is deprecated for better compatibility with scikit-learn, use `eval_metric` in constructor or`set_params` instead.\n",
      "\n",
      "C:\\Users\\Oksana\\anaconda3\\envs\\TEST\\lib\\site-packages\\xgboost\\sklearn.py:793: UserWarning:\n",
      "\n",
      "`early_stopping_rounds` in `fit` method is deprecated for better compatibility with scikit-learn, use `early_stopping_rounds` in constructor or`set_params` instead.\n",
      "\n",
      "C:\\Users\\Oksana\\anaconda3\\envs\\TEST\\lib\\site-packages\\xgboost\\sklearn.py:793: UserWarning:\n",
      "\n",
      "`callbacks` in `fit` method is deprecated for better compatibility with scikit-learn, use `callbacks` in constructor or`set_params` instead.\n",
      "\n"
     ]
    },
    {
     "name": "stdout",
     "output_type": "stream",
     "text": [
      "[0]\tvalidation_0-mlogloss:0.94999\tvalidation_1-mlogloss:0.95439\n"
     ]
    },
    {
     "name": "stderr",
     "output_type": "stream",
     "text": [
      "\u001b[32m[I 2022-08-03 20:48:34,952]\u001b[0m Trial 8 pruned. Trial was pruned at iteration 0.\u001b[0m\n",
      "C:\\Users\\Oksana\\anaconda3\\envs\\TEST\\lib\\site-packages\\xgboost\\sklearn.py:793: UserWarning:\n",
      "\n",
      "`eval_metric` in `fit` method is deprecated for better compatibility with scikit-learn, use `eval_metric` in constructor or`set_params` instead.\n",
      "\n",
      "C:\\Users\\Oksana\\anaconda3\\envs\\TEST\\lib\\site-packages\\xgboost\\sklearn.py:793: UserWarning:\n",
      "\n",
      "`early_stopping_rounds` in `fit` method is deprecated for better compatibility with scikit-learn, use `early_stopping_rounds` in constructor or`set_params` instead.\n",
      "\n",
      "C:\\Users\\Oksana\\anaconda3\\envs\\TEST\\lib\\site-packages\\xgboost\\sklearn.py:793: UserWarning:\n",
      "\n",
      "`callbacks` in `fit` method is deprecated for better compatibility with scikit-learn, use `callbacks` in constructor or`set_params` instead.\n",
      "\n",
      "\u001b[32m[I 2022-08-03 20:48:35,582]\u001b[0m Trial 9 pruned. Trial was pruned at iteration 0.\u001b[0m\n",
      "C:\\Users\\Oksana\\anaconda3\\envs\\TEST\\lib\\site-packages\\xgboost\\sklearn.py:793: UserWarning:\n",
      "\n",
      "`eval_metric` in `fit` method is deprecated for better compatibility with scikit-learn, use `eval_metric` in constructor or`set_params` instead.\n",
      "\n",
      "C:\\Users\\Oksana\\anaconda3\\envs\\TEST\\lib\\site-packages\\xgboost\\sklearn.py:793: UserWarning:\n",
      "\n",
      "`early_stopping_rounds` in `fit` method is deprecated for better compatibility with scikit-learn, use `early_stopping_rounds` in constructor or`set_params` instead.\n",
      "\n",
      "C:\\Users\\Oksana\\anaconda3\\envs\\TEST\\lib\\site-packages\\xgboost\\sklearn.py:793: UserWarning:\n",
      "\n",
      "`callbacks` in `fit` method is deprecated for better compatibility with scikit-learn, use `callbacks` in constructor or`set_params` instead.\n",
      "\n"
     ]
    },
    {
     "name": "stdout",
     "output_type": "stream",
     "text": [
      "[0]\tvalidation_0-mlogloss:1.59495\tvalidation_1-mlogloss:1.59570\n",
      "[50]\tvalidation_0-mlogloss:0.39272\tvalidation_1-mlogloss:0.40935\n",
      "[100]\tvalidation_0-mlogloss:0.34434\tvalidation_1-mlogloss:0.37111\n",
      "[150]\tvalidation_0-mlogloss:0.31541\tvalidation_1-mlogloss:0.35105\n",
      "[200]\tvalidation_0-mlogloss:0.29121\tvalidation_1-mlogloss:0.33491\n",
      "[250]\tvalidation_0-mlogloss:0.27115\tvalidation_1-mlogloss:0.32222\n",
      "[300]\tvalidation_0-mlogloss:0.25339\tvalidation_1-mlogloss:0.31108\n",
      "[350]\tvalidation_0-mlogloss:0.23793\tvalidation_1-mlogloss:0.30185\n",
      "[400]\tvalidation_0-mlogloss:0.22421\tvalidation_1-mlogloss:0.29340\n",
      "[450]\tvalidation_0-mlogloss:0.21172\tvalidation_1-mlogloss:0.28554\n",
      "[500]\tvalidation_0-mlogloss:0.20020\tvalidation_1-mlogloss:0.27856\n",
      "[550]\tvalidation_0-mlogloss:0.18967\tvalidation_1-mlogloss:0.27209\n",
      "[600]\tvalidation_0-mlogloss:0.18003\tvalidation_1-mlogloss:0.26584\n",
      "[650]\tvalidation_0-mlogloss:0.17138\tvalidation_1-mlogloss:0.26044\n",
      "[700]\tvalidation_0-mlogloss:0.16309\tvalidation_1-mlogloss:0.25543\n",
      "[750]\tvalidation_0-mlogloss:0.15546\tvalidation_1-mlogloss:0.25051\n",
      "[800]\tvalidation_0-mlogloss:0.14855\tvalidation_1-mlogloss:0.24613\n",
      "[850]\tvalidation_0-mlogloss:0.14216\tvalidation_1-mlogloss:0.24196\n",
      "[900]\tvalidation_0-mlogloss:0.13591\tvalidation_1-mlogloss:0.23791\n",
      "[950]\tvalidation_0-mlogloss:0.13028\tvalidation_1-mlogloss:0.23416\n",
      "[1000]\tvalidation_0-mlogloss:0.12504\tvalidation_1-mlogloss:0.23057\n",
      "[1050]\tvalidation_0-mlogloss:0.12022\tvalidation_1-mlogloss:0.22747\n",
      "[1100]\tvalidation_0-mlogloss:0.11562\tvalidation_1-mlogloss:0.22444\n",
      "[1150]\tvalidation_0-mlogloss:0.11138\tvalidation_1-mlogloss:0.22167\n",
      "[1183]\tvalidation_0-mlogloss:0.10864\tvalidation_1-mlogloss:0.21984\n"
     ]
    },
    {
     "name": "stderr",
     "output_type": "stream",
     "text": [
      "\u001b[32m[I 2022-08-03 20:53:15,435]\u001b[0m Trial 10 finished with value: 0.8163061269664831 and parameters: {'n_estimators': 1184, 'max_depth': 9, 'learning_rate': 0.09151825116103024, 'subsample': 0.4, 'colsample_bylevel': 0.5, 'reg_lambda': 86.28433362454979, 'reg_alpha': 1.1063167188934584}. Best is trial 0 with value: 0.9273540806836547.\u001b[0m\n",
      "C:\\Users\\Oksana\\anaconda3\\envs\\TEST\\lib\\site-packages\\xgboost\\sklearn.py:793: UserWarning:\n",
      "\n",
      "`eval_metric` in `fit` method is deprecated for better compatibility with scikit-learn, use `eval_metric` in constructor or`set_params` instead.\n",
      "\n",
      "C:\\Users\\Oksana\\anaconda3\\envs\\TEST\\lib\\site-packages\\xgboost\\sklearn.py:793: UserWarning:\n",
      "\n",
      "`early_stopping_rounds` in `fit` method is deprecated for better compatibility with scikit-learn, use `early_stopping_rounds` in constructor or`set_params` instead.\n",
      "\n",
      "C:\\Users\\Oksana\\anaconda3\\envs\\TEST\\lib\\site-packages\\xgboost\\sklearn.py:793: UserWarning:\n",
      "\n",
      "`callbacks` in `fit` method is deprecated for better compatibility with scikit-learn, use `callbacks` in constructor or`set_params` instead.\n",
      "\n"
     ]
    },
    {
     "name": "stdout",
     "output_type": "stream",
     "text": [
      "[0]\tvalidation_0-mlogloss:1.36563\tvalidation_1-mlogloss:1.37030\n",
      "[50]\tvalidation_0-mlogloss:0.17712\tvalidation_1-mlogloss:0.24721\n",
      "[100]\tvalidation_0-mlogloss:0.10399\tvalidation_1-mlogloss:0.18751\n",
      "[150]\tvalidation_0-mlogloss:0.06507\tvalidation_1-mlogloss:0.15473\n",
      "[200]\tvalidation_0-mlogloss:0.04145\tvalidation_1-mlogloss:0.13380\n",
      "[250]\tvalidation_0-mlogloss:0.02782\tvalidation_1-mlogloss:0.12113\n",
      "[300]\tvalidation_0-mlogloss:0.01934\tvalidation_1-mlogloss:0.11297\n",
      "[350]\tvalidation_0-mlogloss:0.01358\tvalidation_1-mlogloss:0.10763\n",
      "[400]\tvalidation_0-mlogloss:0.00992\tvalidation_1-mlogloss:0.10382\n",
      "[450]\tvalidation_0-mlogloss:0.00748\tvalidation_1-mlogloss:0.10174\n",
      "[500]\tvalidation_0-mlogloss:0.00589\tvalidation_1-mlogloss:0.10010\n",
      "[550]\tvalidation_0-mlogloss:0.00478\tvalidation_1-mlogloss:0.09918\n",
      "[600]\tvalidation_0-mlogloss:0.00397\tvalidation_1-mlogloss:0.09865\n",
      "[650]\tvalidation_0-mlogloss:0.00339\tvalidation_1-mlogloss:0.09836\n",
      "[700]\tvalidation_0-mlogloss:0.00294\tvalidation_1-mlogloss:0.09825\n",
      "[750]\tvalidation_0-mlogloss:0.00259\tvalidation_1-mlogloss:0.09808\n",
      "[790]\tvalidation_0-mlogloss:0.00237\tvalidation_1-mlogloss:0.09824\n"
     ]
    },
    {
     "name": "stderr",
     "output_type": "stream",
     "text": [
      "\u001b[32m[I 2022-08-03 20:55:43,901]\u001b[0m Trial 11 finished with value: 0.9259178781935213 and parameters: {'n_estimators': 1291, 'max_depth': 9, 'learning_rate': 0.19543574075908532, 'subsample': 0.9, 'colsample_bylevel': 0.9, 'reg_lambda': 0.013100680491982456, 'reg_alpha': 0.10306108386322044}. Best is trial 0 with value: 0.9273540806836547.\u001b[0m\n",
      "C:\\Users\\Oksana\\anaconda3\\envs\\TEST\\lib\\site-packages\\xgboost\\sklearn.py:793: UserWarning:\n",
      "\n",
      "`eval_metric` in `fit` method is deprecated for better compatibility with scikit-learn, use `eval_metric` in constructor or`set_params` instead.\n",
      "\n",
      "C:\\Users\\Oksana\\anaconda3\\envs\\TEST\\lib\\site-packages\\xgboost\\sklearn.py:793: UserWarning:\n",
      "\n",
      "`early_stopping_rounds` in `fit` method is deprecated for better compatibility with scikit-learn, use `early_stopping_rounds` in constructor or`set_params` instead.\n",
      "\n",
      "C:\\Users\\Oksana\\anaconda3\\envs\\TEST\\lib\\site-packages\\xgboost\\sklearn.py:793: UserWarning:\n",
      "\n",
      "`callbacks` in `fit` method is deprecated for better compatibility with scikit-learn, use `callbacks` in constructor or`set_params` instead.\n",
      "\n"
     ]
    },
    {
     "name": "stdout",
     "output_type": "stream",
     "text": [
      "[0]\tvalidation_0-mlogloss:0.98869\tvalidation_1-mlogloss:0.99828\n"
     ]
    },
    {
     "name": "stderr",
     "output_type": "stream",
     "text": [
      "\u001b[32m[I 2022-08-03 20:55:44,702]\u001b[0m Trial 12 pruned. Trial was pruned at iteration 0.\u001b[0m\n",
      "C:\\Users\\Oksana\\anaconda3\\envs\\TEST\\lib\\site-packages\\xgboost\\sklearn.py:793: UserWarning:\n",
      "\n",
      "`eval_metric` in `fit` method is deprecated for better compatibility with scikit-learn, use `eval_metric` in constructor or`set_params` instead.\n",
      "\n",
      "C:\\Users\\Oksana\\anaconda3\\envs\\TEST\\lib\\site-packages\\xgboost\\sklearn.py:793: UserWarning:\n",
      "\n",
      "`early_stopping_rounds` in `fit` method is deprecated for better compatibility with scikit-learn, use `early_stopping_rounds` in constructor or`set_params` instead.\n",
      "\n",
      "C:\\Users\\Oksana\\anaconda3\\envs\\TEST\\lib\\site-packages\\xgboost\\sklearn.py:793: UserWarning:\n",
      "\n",
      "`callbacks` in `fit` method is deprecated for better compatibility with scikit-learn, use `callbacks` in constructor or`set_params` instead.\n",
      "\n",
      "\u001b[32m[I 2022-08-03 20:55:45,485]\u001b[0m Trial 13 pruned. Trial was pruned at iteration 0.\u001b[0m\n",
      "C:\\Users\\Oksana\\anaconda3\\envs\\TEST\\lib\\site-packages\\xgboost\\sklearn.py:793: UserWarning:\n",
      "\n",
      "`eval_metric` in `fit` method is deprecated for better compatibility with scikit-learn, use `eval_metric` in constructor or`set_params` instead.\n",
      "\n",
      "C:\\Users\\Oksana\\anaconda3\\envs\\TEST\\lib\\site-packages\\xgboost\\sklearn.py:793: UserWarning:\n",
      "\n",
      "`early_stopping_rounds` in `fit` method is deprecated for better compatibility with scikit-learn, use `early_stopping_rounds` in constructor or`set_params` instead.\n",
      "\n",
      "C:\\Users\\Oksana\\anaconda3\\envs\\TEST\\lib\\site-packages\\xgboost\\sklearn.py:793: UserWarning:\n",
      "\n",
      "`callbacks` in `fit` method is deprecated for better compatibility with scikit-learn, use `callbacks` in constructor or`set_params` instead.\n",
      "\n"
     ]
    },
    {
     "name": "stdout",
     "output_type": "stream",
     "text": [
      "[0]\tvalidation_0-mlogloss:1.34168\tvalidation_1-mlogloss:1.34542\n"
     ]
    },
    {
     "name": "stderr",
     "output_type": "stream",
     "text": [
      "\u001b[32m[I 2022-08-03 20:55:46,207]\u001b[0m Trial 14 pruned. Trial was pruned at iteration 0.\u001b[0m\n",
      "C:\\Users\\Oksana\\anaconda3\\envs\\TEST\\lib\\site-packages\\xgboost\\sklearn.py:793: UserWarning:\n",
      "\n",
      "`eval_metric` in `fit` method is deprecated for better compatibility with scikit-learn, use `eval_metric` in constructor or`set_params` instead.\n",
      "\n",
      "C:\\Users\\Oksana\\anaconda3\\envs\\TEST\\lib\\site-packages\\xgboost\\sklearn.py:793: UserWarning:\n",
      "\n",
      "`early_stopping_rounds` in `fit` method is deprecated for better compatibility with scikit-learn, use `early_stopping_rounds` in constructor or`set_params` instead.\n",
      "\n",
      "C:\\Users\\Oksana\\anaconda3\\envs\\TEST\\lib\\site-packages\\xgboost\\sklearn.py:793: UserWarning:\n",
      "\n",
      "`callbacks` in `fit` method is deprecated for better compatibility with scikit-learn, use `callbacks` in constructor or`set_params` instead.\n",
      "\n",
      "\u001b[32m[I 2022-08-03 20:55:46,989]\u001b[0m Trial 15 pruned. Trial was pruned at iteration 0.\u001b[0m\n",
      "C:\\Users\\Oksana\\anaconda3\\envs\\TEST\\lib\\site-packages\\xgboost\\sklearn.py:793: UserWarning:\n",
      "\n",
      "`eval_metric` in `fit` method is deprecated for better compatibility with scikit-learn, use `eval_metric` in constructor or`set_params` instead.\n",
      "\n",
      "C:\\Users\\Oksana\\anaconda3\\envs\\TEST\\lib\\site-packages\\xgboost\\sklearn.py:793: UserWarning:\n",
      "\n",
      "`early_stopping_rounds` in `fit` method is deprecated for better compatibility with scikit-learn, use `early_stopping_rounds` in constructor or`set_params` instead.\n",
      "\n",
      "C:\\Users\\Oksana\\anaconda3\\envs\\TEST\\lib\\site-packages\\xgboost\\sklearn.py:793: UserWarning:\n",
      "\n",
      "`callbacks` in `fit` method is deprecated for better compatibility with scikit-learn, use `callbacks` in constructor or`set_params` instead.\n",
      "\n"
     ]
    },
    {
     "name": "stdout",
     "output_type": "stream",
     "text": [
      "[0]\tvalidation_0-mlogloss:1.67956\tvalidation_1-mlogloss:1.68047\n",
      "[50]\tvalidation_0-mlogloss:0.41125\tvalidation_1-mlogloss:0.44200\n",
      "[100]\tvalidation_0-mlogloss:0.28576\tvalidation_1-mlogloss:0.33746\n",
      "[150]\tvalidation_0-mlogloss:0.23730\tvalidation_1-mlogloss:0.30110\n",
      "[200]\tvalidation_0-mlogloss:0.20614\tvalidation_1-mlogloss:0.27801\n",
      "[250]\tvalidation_0-mlogloss:0.18105\tvalidation_1-mlogloss:0.25946\n",
      "[300]\tvalidation_0-mlogloss:0.16127\tvalidation_1-mlogloss:0.24555\n",
      "[350]\tvalidation_0-mlogloss:0.14279\tvalidation_1-mlogloss:0.23211\n",
      "[400]\tvalidation_0-mlogloss:0.12771\tvalidation_1-mlogloss:0.22184\n",
      "[450]\tvalidation_0-mlogloss:0.11463\tvalidation_1-mlogloss:0.21303\n",
      "[500]\tvalidation_0-mlogloss:0.10280\tvalidation_1-mlogloss:0.20425\n",
      "[550]\tvalidation_0-mlogloss:0.09290\tvalidation_1-mlogloss:0.19727\n",
      "[600]\tvalidation_0-mlogloss:0.08426\tvalidation_1-mlogloss:0.19099\n",
      "[650]\tvalidation_0-mlogloss:0.07669\tvalidation_1-mlogloss:0.18560\n",
      "[700]\tvalidation_0-mlogloss:0.06951\tvalidation_1-mlogloss:0.18019\n",
      "[750]\tvalidation_0-mlogloss:0.06343\tvalidation_1-mlogloss:0.17574\n",
      "[800]\tvalidation_0-mlogloss:0.05798\tvalidation_1-mlogloss:0.17171\n",
      "[850]\tvalidation_0-mlogloss:0.05306\tvalidation_1-mlogloss:0.16810\n",
      "[900]\tvalidation_0-mlogloss:0.04868\tvalidation_1-mlogloss:0.16502\n",
      "[950]\tvalidation_0-mlogloss:0.04488\tvalidation_1-mlogloss:0.16243\n",
      "[1000]\tvalidation_0-mlogloss:0.04131\tvalidation_1-mlogloss:0.15995\n",
      "[1050]\tvalidation_0-mlogloss:0.03807\tvalidation_1-mlogloss:0.15757\n",
      "[1100]\tvalidation_0-mlogloss:0.03516\tvalidation_1-mlogloss:0.15573\n",
      "[1150]\tvalidation_0-mlogloss:0.03258\tvalidation_1-mlogloss:0.15409\n",
      "[1200]\tvalidation_0-mlogloss:0.03025\tvalidation_1-mlogloss:0.15212\n",
      "[1228]\tvalidation_0-mlogloss:0.02907\tvalidation_1-mlogloss:0.15128\n"
     ]
    },
    {
     "name": "stderr",
     "output_type": "stream",
     "text": [
      "\u001b[32m[I 2022-08-03 20:59:30,802]\u001b[0m Trial 16 finished with value: 0.8967602745560722 and parameters: {'n_estimators': 1229, 'max_depth': 9, 'learning_rate': 0.04920529571649118, 'subsample': 0.5, 'colsample_bylevel': 0.4, 'reg_lambda': 0.009502731276522397, 'reg_alpha': 0.0062742014444701405}. Best is trial 0 with value: 0.9273540806836547.\u001b[0m\n",
      "C:\\Users\\Oksana\\anaconda3\\envs\\TEST\\lib\\site-packages\\xgboost\\sklearn.py:793: UserWarning:\n",
      "\n",
      "`eval_metric` in `fit` method is deprecated for better compatibility with scikit-learn, use `eval_metric` in constructor or`set_params` instead.\n",
      "\n",
      "C:\\Users\\Oksana\\anaconda3\\envs\\TEST\\lib\\site-packages\\xgboost\\sklearn.py:793: UserWarning:\n",
      "\n",
      "`early_stopping_rounds` in `fit` method is deprecated for better compatibility with scikit-learn, use `early_stopping_rounds` in constructor or`set_params` instead.\n",
      "\n",
      "C:\\Users\\Oksana\\anaconda3\\envs\\TEST\\lib\\site-packages\\xgboost\\sklearn.py:793: UserWarning:\n",
      "\n",
      "`callbacks` in `fit` method is deprecated for better compatibility with scikit-learn, use `callbacks` in constructor or`set_params` instead.\n",
      "\n"
     ]
    },
    {
     "name": "stdout",
     "output_type": "stream",
     "text": [
      "[0]\tvalidation_0-mlogloss:1.04820\tvalidation_1-mlogloss:1.05788\n"
     ]
    },
    {
     "name": "stderr",
     "output_type": "stream",
     "text": [
      "\u001b[32m[I 2022-08-03 20:59:31,836]\u001b[0m Trial 17 pruned. Trial was pruned at iteration 0.\u001b[0m\n",
      "C:\\Users\\Oksana\\anaconda3\\envs\\TEST\\lib\\site-packages\\xgboost\\sklearn.py:793: UserWarning:\n",
      "\n",
      "`eval_metric` in `fit` method is deprecated for better compatibility with scikit-learn, use `eval_metric` in constructor or`set_params` instead.\n",
      "\n",
      "C:\\Users\\Oksana\\anaconda3\\envs\\TEST\\lib\\site-packages\\xgboost\\sklearn.py:793: UserWarning:\n",
      "\n",
      "`early_stopping_rounds` in `fit` method is deprecated for better compatibility with scikit-learn, use `early_stopping_rounds` in constructor or`set_params` instead.\n",
      "\n",
      "C:\\Users\\Oksana\\anaconda3\\envs\\TEST\\lib\\site-packages\\xgboost\\sklearn.py:793: UserWarning:\n",
      "\n",
      "`callbacks` in `fit` method is deprecated for better compatibility with scikit-learn, use `callbacks` in constructor or`set_params` instead.\n",
      "\n"
     ]
    },
    {
     "name": "stdout",
     "output_type": "stream",
     "text": [
      "[0]\tvalidation_0-mlogloss:1.24007\tvalidation_1-mlogloss:1.24381\n"
     ]
    },
    {
     "name": "stderr",
     "output_type": "stream",
     "text": [
      "\u001b[32m[I 2022-08-03 20:59:32,530]\u001b[0m Trial 18 pruned. Trial was pruned at iteration 0.\u001b[0m\n",
      "C:\\Users\\Oksana\\anaconda3\\envs\\TEST\\lib\\site-packages\\xgboost\\sklearn.py:793: UserWarning:\n",
      "\n",
      "`eval_metric` in `fit` method is deprecated for better compatibility with scikit-learn, use `eval_metric` in constructor or`set_params` instead.\n",
      "\n",
      "C:\\Users\\Oksana\\anaconda3\\envs\\TEST\\lib\\site-packages\\xgboost\\sklearn.py:793: UserWarning:\n",
      "\n",
      "`early_stopping_rounds` in `fit` method is deprecated for better compatibility with scikit-learn, use `early_stopping_rounds` in constructor or`set_params` instead.\n",
      "\n",
      "C:\\Users\\Oksana\\anaconda3\\envs\\TEST\\lib\\site-packages\\xgboost\\sklearn.py:793: UserWarning:\n",
      "\n",
      "`callbacks` in `fit` method is deprecated for better compatibility with scikit-learn, use `callbacks` in constructor or`set_params` instead.\n",
      "\n"
     ]
    },
    {
     "name": "stdout",
     "output_type": "stream",
     "text": [
      "[0]\tvalidation_0-mlogloss:1.47509\tvalidation_1-mlogloss:1.47634\n",
      "[50]\tvalidation_0-mlogloss:0.38761\tvalidation_1-mlogloss:0.40297\n",
      "[100]\tvalidation_0-mlogloss:0.37026\tvalidation_1-mlogloss:0.38845\n",
      "[150]\tvalidation_0-mlogloss:0.36375\tvalidation_1-mlogloss:0.38338\n",
      "[200]\tvalidation_0-mlogloss:0.36040\tvalidation_1-mlogloss:0.38074\n",
      "[250]\tvalidation_0-mlogloss:0.36034\tvalidation_1-mlogloss:0.38070\n",
      "[252]\tvalidation_0-mlogloss:0.36034\tvalidation_1-mlogloss:0.38070\n"
     ]
    },
    {
     "name": "stderr",
     "output_type": "stream",
     "text": [
      "C:\\Users\\Oksana\\anaconda3\\envs\\TEST\\lib\\site-packages\\sklearn\\metrics\\_classification.py:1327: UndefinedMetricWarning:\n",
      "\n",
      "Precision is ill-defined and being set to 0.0 in labels with no predicted samples. Use `zero_division` parameter to control this behavior.\n",
      "\n",
      "\u001b[32m[I 2022-08-03 20:59:48,925]\u001b[0m Trial 19 finished with value: 0.518198057731992 and parameters: {'n_estimators': 1055, 'max_depth': 10, 'learning_rate': 0.14837488461957715, 'subsample': 1.0, 'colsample_bylevel': 0.9, 'reg_lambda': 0.35722113488504875, 'reg_alpha': 96.67338226351158}. Best is trial 0 with value: 0.9273540806836547.\u001b[0m\n",
      "C:\\Users\\Oksana\\anaconda3\\envs\\TEST\\lib\\site-packages\\xgboost\\sklearn.py:793: UserWarning:\n",
      "\n",
      "`eval_metric` in `fit` method is deprecated for better compatibility with scikit-learn, use `eval_metric` in constructor or`set_params` instead.\n",
      "\n",
      "C:\\Users\\Oksana\\anaconda3\\envs\\TEST\\lib\\site-packages\\xgboost\\sklearn.py:793: UserWarning:\n",
      "\n",
      "`early_stopping_rounds` in `fit` method is deprecated for better compatibility with scikit-learn, use `early_stopping_rounds` in constructor or`set_params` instead.\n",
      "\n",
      "C:\\Users\\Oksana\\anaconda3\\envs\\TEST\\lib\\site-packages\\xgboost\\sklearn.py:793: UserWarning:\n",
      "\n",
      "`callbacks` in `fit` method is deprecated for better compatibility with scikit-learn, use `callbacks` in constructor or`set_params` instead.\n",
      "\n",
      "\u001b[32m[I 2022-08-03 20:59:49,850]\u001b[0m Trial 20 pruned. Trial was pruned at iteration 0.\u001b[0m\n",
      "C:\\Users\\Oksana\\anaconda3\\envs\\TEST\\lib\\site-packages\\xgboost\\sklearn.py:793: UserWarning:\n",
      "\n",
      "`eval_metric` in `fit` method is deprecated for better compatibility with scikit-learn, use `eval_metric` in constructor or`set_params` instead.\n",
      "\n",
      "C:\\Users\\Oksana\\anaconda3\\envs\\TEST\\lib\\site-packages\\xgboost\\sklearn.py:793: UserWarning:\n",
      "\n",
      "`early_stopping_rounds` in `fit` method is deprecated for better compatibility with scikit-learn, use `early_stopping_rounds` in constructor or`set_params` instead.\n",
      "\n",
      "C:\\Users\\Oksana\\anaconda3\\envs\\TEST\\lib\\site-packages\\xgboost\\sklearn.py:793: UserWarning:\n",
      "\n",
      "`callbacks` in `fit` method is deprecated for better compatibility with scikit-learn, use `callbacks` in constructor or`set_params` instead.\n",
      "\n"
     ]
    },
    {
     "name": "stdout",
     "output_type": "stream",
     "text": [
      "[0]\tvalidation_0-mlogloss:1.32340\tvalidation_1-mlogloss:1.32861\n"
     ]
    },
    {
     "name": "stderr",
     "output_type": "stream",
     "text": [
      "\u001b[32m[I 2022-08-03 20:59:50,712]\u001b[0m Trial 21 pruned. Trial was pruned at iteration 0.\u001b[0m\n",
      "C:\\Users\\Oksana\\anaconda3\\envs\\TEST\\lib\\site-packages\\xgboost\\sklearn.py:793: UserWarning:\n",
      "\n",
      "`eval_metric` in `fit` method is deprecated for better compatibility with scikit-learn, use `eval_metric` in constructor or`set_params` instead.\n",
      "\n",
      "C:\\Users\\Oksana\\anaconda3\\envs\\TEST\\lib\\site-packages\\xgboost\\sklearn.py:793: UserWarning:\n",
      "\n",
      "`early_stopping_rounds` in `fit` method is deprecated for better compatibility with scikit-learn, use `early_stopping_rounds` in constructor or`set_params` instead.\n",
      "\n",
      "C:\\Users\\Oksana\\anaconda3\\envs\\TEST\\lib\\site-packages\\xgboost\\sklearn.py:793: UserWarning:\n",
      "\n",
      "`callbacks` in `fit` method is deprecated for better compatibility with scikit-learn, use `callbacks` in constructor or`set_params` instead.\n",
      "\n"
     ]
    },
    {
     "name": "stdout",
     "output_type": "stream",
     "text": [
      "[0]\tvalidation_0-mlogloss:1.44871\tvalidation_1-mlogloss:1.45244\n",
      "[50]\tvalidation_0-mlogloss:0.19974\tvalidation_1-mlogloss:0.26477\n",
      "[100]\tvalidation_0-mlogloss:0.12830\tvalidation_1-mlogloss:0.20739\n",
      "[150]\tvalidation_0-mlogloss:0.08593\tvalidation_1-mlogloss:0.17287\n",
      "[200]\tvalidation_0-mlogloss:0.06005\tvalidation_1-mlogloss:0.15062\n",
      "[250]\tvalidation_0-mlogloss:0.04237\tvalidation_1-mlogloss:0.13458\n",
      "[300]\tvalidation_0-mlogloss:0.03057\tvalidation_1-mlogloss:0.12398\n",
      "[350]\tvalidation_0-mlogloss:0.02260\tvalidation_1-mlogloss:0.11625\n",
      "[400]\tvalidation_0-mlogloss:0.01700\tvalidation_1-mlogloss:0.11090\n",
      "[450]\tvalidation_0-mlogloss:0.01316\tvalidation_1-mlogloss:0.10702\n",
      "[500]\tvalidation_0-mlogloss:0.01031\tvalidation_1-mlogloss:0.10465\n",
      "[550]\tvalidation_0-mlogloss:0.00820\tvalidation_1-mlogloss:0.10248\n",
      "[600]\tvalidation_0-mlogloss:0.00672\tvalidation_1-mlogloss:0.10118\n",
      "[650]\tvalidation_0-mlogloss:0.00562\tvalidation_1-mlogloss:0.10054\n",
      "[700]\tvalidation_0-mlogloss:0.00472\tvalidation_1-mlogloss:0.09970\n",
      "[750]\tvalidation_0-mlogloss:0.00408\tvalidation_1-mlogloss:0.09929\n",
      "[800]\tvalidation_0-mlogloss:0.00357\tvalidation_1-mlogloss:0.09915\n",
      "[850]\tvalidation_0-mlogloss:0.00317\tvalidation_1-mlogloss:0.09895\n",
      "[900]\tvalidation_0-mlogloss:0.00283\tvalidation_1-mlogloss:0.09879\n",
      "[941]\tvalidation_0-mlogloss:0.00263\tvalidation_1-mlogloss:0.09882\n"
     ]
    },
    {
     "name": "stderr",
     "output_type": "stream",
     "text": [
      "\u001b[32m[I 2022-08-03 21:02:51,955]\u001b[0m Trial 22 finished with value: 0.926646837351568 and parameters: {'n_estimators': 1268, 'max_depth': 9, 'learning_rate': 0.1548012505470977, 'subsample': 0.9, 'colsample_bylevel': 0.9, 'reg_lambda': 0.003617968485056644, 'reg_alpha': 0.10430745859157373}. Best is trial 0 with value: 0.9273540806836547.\u001b[0m\n",
      "C:\\Users\\Oksana\\anaconda3\\envs\\TEST\\lib\\site-packages\\xgboost\\sklearn.py:793: UserWarning:\n",
      "\n",
      "`eval_metric` in `fit` method is deprecated for better compatibility with scikit-learn, use `eval_metric` in constructor or`set_params` instead.\n",
      "\n",
      "C:\\Users\\Oksana\\anaconda3\\envs\\TEST\\lib\\site-packages\\xgboost\\sklearn.py:793: UserWarning:\n",
      "\n",
      "`early_stopping_rounds` in `fit` method is deprecated for better compatibility with scikit-learn, use `early_stopping_rounds` in constructor or`set_params` instead.\n",
      "\n",
      "C:\\Users\\Oksana\\anaconda3\\envs\\TEST\\lib\\site-packages\\xgboost\\sklearn.py:793: UserWarning:\n",
      "\n",
      "`callbacks` in `fit` method is deprecated for better compatibility with scikit-learn, use `callbacks` in constructor or`set_params` instead.\n",
      "\n"
     ]
    },
    {
     "name": "stdout",
     "output_type": "stream",
     "text": [
      "[0]\tvalidation_0-mlogloss:1.47739\tvalidation_1-mlogloss:1.48073\n",
      "[50]\tvalidation_0-mlogloss:0.21704\tvalidation_1-mlogloss:0.27860\n",
      "[100]\tvalidation_0-mlogloss:0.13934\tvalidation_1-mlogloss:0.21602\n",
      "[150]\tvalidation_0-mlogloss:0.09688\tvalidation_1-mlogloss:0.18172\n",
      "[200]\tvalidation_0-mlogloss:0.06673\tvalidation_1-mlogloss:0.15559\n",
      "[250]\tvalidation_0-mlogloss:0.04830\tvalidation_1-mlogloss:0.13907\n",
      "[300]\tvalidation_0-mlogloss:0.03595\tvalidation_1-mlogloss:0.12763\n",
      "[350]\tvalidation_0-mlogloss:0.02701\tvalidation_1-mlogloss:0.11987\n",
      "[400]\tvalidation_0-mlogloss:0.02083\tvalidation_1-mlogloss:0.11339\n",
      "[450]\tvalidation_0-mlogloss:0.01644\tvalidation_1-mlogloss:0.10913\n",
      "[500]\tvalidation_0-mlogloss:0.01346\tvalidation_1-mlogloss:0.10601\n",
      "[550]\tvalidation_0-mlogloss:0.01126\tvalidation_1-mlogloss:0.10378\n",
      "[600]\tvalidation_0-mlogloss:0.00959\tvalidation_1-mlogloss:0.10207\n",
      "[650]\tvalidation_0-mlogloss:0.00828\tvalidation_1-mlogloss:0.10083\n",
      "[700]\tvalidation_0-mlogloss:0.00729\tvalidation_1-mlogloss:0.10005\n",
      "[750]\tvalidation_0-mlogloss:0.00655\tvalidation_1-mlogloss:0.09926\n",
      "[800]\tvalidation_0-mlogloss:0.00594\tvalidation_1-mlogloss:0.09883\n",
      "[850]\tvalidation_0-mlogloss:0.00543\tvalidation_1-mlogloss:0.09838\n",
      "[900]\tvalidation_0-mlogloss:0.00501\tvalidation_1-mlogloss:0.09811\n",
      "[950]\tvalidation_0-mlogloss:0.00466\tvalidation_1-mlogloss:0.09794\n",
      "[1000]\tvalidation_0-mlogloss:0.00438\tvalidation_1-mlogloss:0.09773\n",
      "[1050]\tvalidation_0-mlogloss:0.00413\tvalidation_1-mlogloss:0.09772\n",
      "[1083]\tvalidation_0-mlogloss:0.00400\tvalidation_1-mlogloss:0.09773\n"
     ]
    },
    {
     "name": "stderr",
     "output_type": "stream",
     "text": [
      "\u001b[32m[I 2022-08-03 21:06:21,322]\u001b[0m Trial 23 finished with value: 0.926758286082049 and parameters: {'n_estimators': 1264, 'max_depth': 9, 'learning_rate': 0.14124782097985328, 'subsample': 0.9, 'colsample_bylevel': 0.9, 'reg_lambda': 0.002729294959775577, 'reg_alpha': 0.434741160422396}. Best is trial 0 with value: 0.9273540806836547.\u001b[0m\n",
      "C:\\Users\\Oksana\\anaconda3\\envs\\TEST\\lib\\site-packages\\xgboost\\sklearn.py:793: UserWarning:\n",
      "\n",
      "`eval_metric` in `fit` method is deprecated for better compatibility with scikit-learn, use `eval_metric` in constructor or`set_params` instead.\n",
      "\n",
      "C:\\Users\\Oksana\\anaconda3\\envs\\TEST\\lib\\site-packages\\xgboost\\sklearn.py:793: UserWarning:\n",
      "\n",
      "`early_stopping_rounds` in `fit` method is deprecated for better compatibility with scikit-learn, use `early_stopping_rounds` in constructor or`set_params` instead.\n",
      "\n",
      "C:\\Users\\Oksana\\anaconda3\\envs\\TEST\\lib\\site-packages\\xgboost\\sklearn.py:793: UserWarning:\n",
      "\n",
      "`callbacks` in `fit` method is deprecated for better compatibility with scikit-learn, use `callbacks` in constructor or`set_params` instead.\n",
      "\n"
     ]
    },
    {
     "name": "stdout",
     "output_type": "stream",
     "text": [
      "[0]\tvalidation_0-mlogloss:1.77038\tvalidation_1-mlogloss:1.77061\n",
      "[50]\tvalidation_0-mlogloss:1.10941\tvalidation_1-mlogloss:1.11790\n",
      "[100]\tvalidation_0-mlogloss:0.79310\tvalidation_1-mlogloss:0.80745\n",
      "[150]\tvalidation_0-mlogloss:0.61125\tvalidation_1-mlogloss:0.63071\n",
      "[200]\tvalidation_0-mlogloss:0.49893\tvalidation_1-mlogloss:0.52315\n",
      "[250]\tvalidation_0-mlogloss:0.42600\tvalidation_1-mlogloss:0.45492\n",
      "[300]\tvalidation_0-mlogloss:0.37687\tvalidation_1-mlogloss:0.41031\n",
      "[350]\tvalidation_0-mlogloss:0.34239\tvalidation_1-mlogloss:0.38008\n",
      "[400]\tvalidation_0-mlogloss:0.31654\tvalidation_1-mlogloss:0.35794\n",
      "[450]\tvalidation_0-mlogloss:0.29623\tvalidation_1-mlogloss:0.34117\n",
      "[500]\tvalidation_0-mlogloss:0.27952\tvalidation_1-mlogloss:0.32780\n",
      "[550]\tvalidation_0-mlogloss:0.26476\tvalidation_1-mlogloss:0.31605\n",
      "[600]\tvalidation_0-mlogloss:0.25204\tvalidation_1-mlogloss:0.30582\n",
      "[650]\tvalidation_0-mlogloss:0.24101\tvalidation_1-mlogloss:0.29677\n",
      "[700]\tvalidation_0-mlogloss:0.23167\tvalidation_1-mlogloss:0.28919\n",
      "[750]\tvalidation_0-mlogloss:0.22324\tvalidation_1-mlogloss:0.28232\n",
      "[800]\tvalidation_0-mlogloss:0.21574\tvalidation_1-mlogloss:0.27620\n",
      "[850]\tvalidation_0-mlogloss:0.20907\tvalidation_1-mlogloss:0.27095\n",
      "[900]\tvalidation_0-mlogloss:0.20286\tvalidation_1-mlogloss:0.26589\n",
      "[950]\tvalidation_0-mlogloss:0.19685\tvalidation_1-mlogloss:0.26097\n",
      "[1000]\tvalidation_0-mlogloss:0.19140\tvalidation_1-mlogloss:0.25650\n",
      "[1050]\tvalidation_0-mlogloss:0.18588\tvalidation_1-mlogloss:0.25188\n",
      "[1100]\tvalidation_0-mlogloss:0.18082\tvalidation_1-mlogloss:0.24777\n",
      "[1150]\tvalidation_0-mlogloss:0.17585\tvalidation_1-mlogloss:0.24374\n",
      "[1200]\tvalidation_0-mlogloss:0.17088\tvalidation_1-mlogloss:0.23960\n",
      "[1250]\tvalidation_0-mlogloss:0.16630\tvalidation_1-mlogloss:0.23590\n",
      "[1251]\tvalidation_0-mlogloss:0.16620\tvalidation_1-mlogloss:0.23583\n"
     ]
    },
    {
     "name": "stderr",
     "output_type": "stream",
     "text": [
      "\u001b[32m[I 2022-08-03 21:11:34,369]\u001b[0m Trial 24 finished with value: 0.84823758833284 and parameters: {'n_estimators': 1252, 'max_depth': 9, 'learning_rate': 0.009188097722870964, 'subsample': 0.9, 'colsample_bylevel': 0.9, 'reg_lambda': 0.0020248999755080573, 'reg_alpha': 0.5204693167423035}. Best is trial 0 with value: 0.9273540806836547.\u001b[0m\n",
      "C:\\Users\\Oksana\\anaconda3\\envs\\TEST\\lib\\site-packages\\xgboost\\sklearn.py:793: UserWarning:\n",
      "\n",
      "`eval_metric` in `fit` method is deprecated for better compatibility with scikit-learn, use `eval_metric` in constructor or`set_params` instead.\n",
      "\n",
      "C:\\Users\\Oksana\\anaconda3\\envs\\TEST\\lib\\site-packages\\xgboost\\sklearn.py:793: UserWarning:\n",
      "\n",
      "`early_stopping_rounds` in `fit` method is deprecated for better compatibility with scikit-learn, use `early_stopping_rounds` in constructor or`set_params` instead.\n",
      "\n",
      "C:\\Users\\Oksana\\anaconda3\\envs\\TEST\\lib\\site-packages\\xgboost\\sklearn.py:793: UserWarning:\n",
      "\n",
      "`callbacks` in `fit` method is deprecated for better compatibility with scikit-learn, use `callbacks` in constructor or`set_params` instead.\n",
      "\n"
     ]
    },
    {
     "name": "stdout",
     "output_type": "stream",
     "text": [
      "[0]\tvalidation_0-mlogloss:1.47449\tvalidation_1-mlogloss:1.47796\n",
      "[50]\tvalidation_0-mlogloss:0.21180\tvalidation_1-mlogloss:0.27409\n",
      "[100]\tvalidation_0-mlogloss:0.13842\tvalidation_1-mlogloss:0.21569\n",
      "[150]\tvalidation_0-mlogloss:0.09668\tvalidation_1-mlogloss:0.18125\n",
      "[200]\tvalidation_0-mlogloss:0.06802\tvalidation_1-mlogloss:0.15739\n",
      "[250]\tvalidation_0-mlogloss:0.04923\tvalidation_1-mlogloss:0.13995\n",
      "[300]\tvalidation_0-mlogloss:0.03649\tvalidation_1-mlogloss:0.12870\n",
      "[350]\tvalidation_0-mlogloss:0.02774\tvalidation_1-mlogloss:0.12094\n",
      "[400]\tvalidation_0-mlogloss:0.02115\tvalidation_1-mlogloss:0.11479\n",
      "[450]\tvalidation_0-mlogloss:0.01641\tvalidation_1-mlogloss:0.11034\n",
      "[500]\tvalidation_0-mlogloss:0.01283\tvalidation_1-mlogloss:0.10718\n",
      "[550]\tvalidation_0-mlogloss:0.01036\tvalidation_1-mlogloss:0.10476\n",
      "[600]\tvalidation_0-mlogloss:0.00854\tvalidation_1-mlogloss:0.10338\n",
      "[650]\tvalidation_0-mlogloss:0.00706\tvalidation_1-mlogloss:0.10212\n",
      "[700]\tvalidation_0-mlogloss:0.00596\tvalidation_1-mlogloss:0.10141\n",
      "[750]\tvalidation_0-mlogloss:0.00513\tvalidation_1-mlogloss:0.10072\n",
      "[800]\tvalidation_0-mlogloss:0.00446\tvalidation_1-mlogloss:0.10036\n",
      "[850]\tvalidation_0-mlogloss:0.00393\tvalidation_1-mlogloss:0.10033\n",
      "[872]\tvalidation_0-mlogloss:0.00373\tvalidation_1-mlogloss:0.10033\n"
     ]
    },
    {
     "name": "stderr",
     "output_type": "stream",
     "text": [
      "\u001b[32m[I 2022-08-03 21:13:54,175]\u001b[0m Trial 25 finished with value: 0.9267744222205516 and parameters: {'n_estimators': 1239, 'max_depth': 9, 'learning_rate': 0.14247777131451203, 'subsample': 0.9, 'colsample_bylevel': 0.9, 'reg_lambda': 0.0036920288435831673, 'reg_alpha': 0.0188344222447286}. Best is trial 0 with value: 0.9273540806836547.\u001b[0m\n",
      "C:\\Users\\Oksana\\anaconda3\\envs\\TEST\\lib\\site-packages\\xgboost\\sklearn.py:793: UserWarning:\n",
      "\n",
      "`eval_metric` in `fit` method is deprecated for better compatibility with scikit-learn, use `eval_metric` in constructor or`set_params` instead.\n",
      "\n",
      "C:\\Users\\Oksana\\anaconda3\\envs\\TEST\\lib\\site-packages\\xgboost\\sklearn.py:793: UserWarning:\n",
      "\n",
      "`early_stopping_rounds` in `fit` method is deprecated for better compatibility with scikit-learn, use `early_stopping_rounds` in constructor or`set_params` instead.\n",
      "\n",
      "C:\\Users\\Oksana\\anaconda3\\envs\\TEST\\lib\\site-packages\\xgboost\\sklearn.py:793: UserWarning:\n",
      "\n",
      "`callbacks` in `fit` method is deprecated for better compatibility with scikit-learn, use `callbacks` in constructor or`set_params` instead.\n",
      "\n"
     ]
    },
    {
     "name": "stdout",
     "output_type": "stream",
     "text": [
      "[0]\tvalidation_0-mlogloss:1.51457\tvalidation_1-mlogloss:1.51680\n",
      "[50]\tvalidation_0-mlogloss:0.26316\tvalidation_1-mlogloss:0.31324\n",
      "[100]\tvalidation_0-mlogloss:0.18187\tvalidation_1-mlogloss:0.25186\n",
      "[150]\tvalidation_0-mlogloss:0.13591\tvalidation_1-mlogloss:0.21726\n",
      "[200]\tvalidation_0-mlogloss:0.10621\tvalidation_1-mlogloss:0.19541\n",
      "[250]\tvalidation_0-mlogloss:0.08581\tvalidation_1-mlogloss:0.17981\n",
      "[300]\tvalidation_0-mlogloss:0.07129\tvalidation_1-mlogloss:0.16825\n",
      "[350]\tvalidation_0-mlogloss:0.06048\tvalidation_1-mlogloss:0.16002\n",
      "[400]\tvalidation_0-mlogloss:0.05252\tvalidation_1-mlogloss:0.15413\n",
      "[450]\tvalidation_0-mlogloss:0.04619\tvalidation_1-mlogloss:0.14933\n",
      "[500]\tvalidation_0-mlogloss:0.04132\tvalidation_1-mlogloss:0.14520\n",
      "[550]\tvalidation_0-mlogloss:0.03752\tvalidation_1-mlogloss:0.14242\n",
      "[600]\tvalidation_0-mlogloss:0.03437\tvalidation_1-mlogloss:0.14016\n",
      "[650]\tvalidation_0-mlogloss:0.03185\tvalidation_1-mlogloss:0.13806\n",
      "[700]\tvalidation_0-mlogloss:0.02967\tvalidation_1-mlogloss:0.13637\n",
      "[750]\tvalidation_0-mlogloss:0.02776\tvalidation_1-mlogloss:0.13468\n",
      "[800]\tvalidation_0-mlogloss:0.02617\tvalidation_1-mlogloss:0.13357\n",
      "[850]\tvalidation_0-mlogloss:0.02476\tvalidation_1-mlogloss:0.13222\n",
      "[900]\tvalidation_0-mlogloss:0.02360\tvalidation_1-mlogloss:0.13132\n",
      "[950]\tvalidation_0-mlogloss:0.02256\tvalidation_1-mlogloss:0.13068\n",
      "[1000]\tvalidation_0-mlogloss:0.02165\tvalidation_1-mlogloss:0.12991\n",
      "[1050]\tvalidation_0-mlogloss:0.02083\tvalidation_1-mlogloss:0.12932\n",
      "[1100]\tvalidation_0-mlogloss:0.02011\tvalidation_1-mlogloss:0.12900\n",
      "[1150]\tvalidation_0-mlogloss:0.01946\tvalidation_1-mlogloss:0.12856\n",
      "[1161]\tvalidation_0-mlogloss:0.01931\tvalidation_1-mlogloss:0.12839\n"
     ]
    },
    {
     "name": "stderr",
     "output_type": "stream",
     "text": [
      "\u001b[32m[I 2022-08-03 21:17:13,867]\u001b[0m Trial 26 finished with value: 0.8990555150616097 and parameters: {'n_estimators': 1162, 'max_depth': 9, 'learning_rate': 0.125091952498079, 'subsample': 0.6, 'colsample_bylevel': 0.9, 'reg_lambda': 0.0010071302654548933, 'reg_alpha': 2.3620263040060356}. Best is trial 0 with value: 0.9273540806836547.\u001b[0m\n",
      "C:\\Users\\Oksana\\anaconda3\\envs\\TEST\\lib\\site-packages\\xgboost\\sklearn.py:793: UserWarning:\n",
      "\n",
      "`eval_metric` in `fit` method is deprecated for better compatibility with scikit-learn, use `eval_metric` in constructor or`set_params` instead.\n",
      "\n",
      "C:\\Users\\Oksana\\anaconda3\\envs\\TEST\\lib\\site-packages\\xgboost\\sklearn.py:793: UserWarning:\n",
      "\n",
      "`early_stopping_rounds` in `fit` method is deprecated for better compatibility with scikit-learn, use `early_stopping_rounds` in constructor or`set_params` instead.\n",
      "\n",
      "C:\\Users\\Oksana\\anaconda3\\envs\\TEST\\lib\\site-packages\\xgboost\\sklearn.py:793: UserWarning:\n",
      "\n",
      "`callbacks` in `fit` method is deprecated for better compatibility with scikit-learn, use `callbacks` in constructor or`set_params` instead.\n",
      "\n"
     ]
    },
    {
     "name": "stdout",
     "output_type": "stream",
     "text": [
      "[0]\tvalidation_0-mlogloss:1.72208\tvalidation_1-mlogloss:1.72269\n",
      "[50]\tvalidation_0-mlogloss:0.56578\tvalidation_1-mlogloss:0.58756\n",
      "[100]\tvalidation_0-mlogloss:0.35528\tvalidation_1-mlogloss:0.39276\n",
      "[150]\tvalidation_0-mlogloss:0.28326\tvalidation_1-mlogloss:0.33349\n",
      "[200]\tvalidation_0-mlogloss:0.24340\tvalidation_1-mlogloss:0.30261\n",
      "[250]\tvalidation_0-mlogloss:0.21631\tvalidation_1-mlogloss:0.28163\n",
      "[300]\tvalidation_0-mlogloss:0.19604\tvalidation_1-mlogloss:0.26638\n",
      "[350]\tvalidation_0-mlogloss:0.17862\tvalidation_1-mlogloss:0.25336\n",
      "[400]\tvalidation_0-mlogloss:0.16375\tvalidation_1-mlogloss:0.24216\n",
      "[450]\tvalidation_0-mlogloss:0.15035\tvalidation_1-mlogloss:0.23228\n",
      "[500]\tvalidation_0-mlogloss:0.13812\tvalidation_1-mlogloss:0.22296\n",
      "[550]\tvalidation_0-mlogloss:0.12745\tvalidation_1-mlogloss:0.21524\n",
      "[600]\tvalidation_0-mlogloss:0.11747\tvalidation_1-mlogloss:0.20778\n",
      "[650]\tvalidation_0-mlogloss:0.10907\tvalidation_1-mlogloss:0.20151\n",
      "[700]\tvalidation_0-mlogloss:0.10108\tvalidation_1-mlogloss:0.19562\n",
      "[750]\tvalidation_0-mlogloss:0.09411\tvalidation_1-mlogloss:0.19028\n",
      "[800]\tvalidation_0-mlogloss:0.08766\tvalidation_1-mlogloss:0.18532\n",
      "[850]\tvalidation_0-mlogloss:0.08143\tvalidation_1-mlogloss:0.18056\n",
      "[900]\tvalidation_0-mlogloss:0.07577\tvalidation_1-mlogloss:0.17642\n",
      "[950]\tvalidation_0-mlogloss:0.07080\tvalidation_1-mlogloss:0.17257\n",
      "[1000]\tvalidation_0-mlogloss:0.06604\tvalidation_1-mlogloss:0.16884\n",
      "[1050]\tvalidation_0-mlogloss:0.06162\tvalidation_1-mlogloss:0.16531\n",
      "[1100]\tvalidation_0-mlogloss:0.05778\tvalidation_1-mlogloss:0.16244\n",
      "[1150]\tvalidation_0-mlogloss:0.05430\tvalidation_1-mlogloss:0.15985\n",
      "[1200]\tvalidation_0-mlogloss:0.05095\tvalidation_1-mlogloss:0.15724\n",
      "[1239]\tvalidation_0-mlogloss:0.04854\tvalidation_1-mlogloss:0.15542\n"
     ]
    },
    {
     "name": "stderr",
     "output_type": "stream",
     "text": [
      "\u001b[32m[I 2022-08-03 21:21:26,930]\u001b[0m Trial 27 finished with value: 0.891547003843691 and parameters: {'n_estimators': 1240, 'max_depth': 9, 'learning_rate': 0.030192807754922057, 'subsample': 0.5, 'colsample_bylevel': 0.9, 'reg_lambda': 0.0034807890608535698, 'reg_alpha': 0.017423344100808903}. Best is trial 0 with value: 0.9273540806836547.\u001b[0m\n",
      "C:\\Users\\Oksana\\anaconda3\\envs\\TEST\\lib\\site-packages\\xgboost\\sklearn.py:793: UserWarning:\n",
      "\n",
      "`eval_metric` in `fit` method is deprecated for better compatibility with scikit-learn, use `eval_metric` in constructor or`set_params` instead.\n",
      "\n",
      "C:\\Users\\Oksana\\anaconda3\\envs\\TEST\\lib\\site-packages\\xgboost\\sklearn.py:793: UserWarning:\n",
      "\n",
      "`early_stopping_rounds` in `fit` method is deprecated for better compatibility with scikit-learn, use `early_stopping_rounds` in constructor or`set_params` instead.\n",
      "\n",
      "C:\\Users\\Oksana\\anaconda3\\envs\\TEST\\lib\\site-packages\\xgboost\\sklearn.py:793: UserWarning:\n",
      "\n",
      "`callbacks` in `fit` method is deprecated for better compatibility with scikit-learn, use `callbacks` in constructor or`set_params` instead.\n",
      "\n"
     ]
    },
    {
     "name": "stdout",
     "output_type": "stream",
     "text": [
      "[0]\tvalidation_0-mlogloss:1.08350\tvalidation_1-mlogloss:1.08742\n"
     ]
    },
    {
     "name": "stderr",
     "output_type": "stream",
     "text": [
      "\u001b[32m[I 2022-08-03 21:21:27,698]\u001b[0m Trial 28 pruned. Trial was pruned at iteration 0.\u001b[0m\n",
      "C:\\Users\\Oksana\\anaconda3\\envs\\TEST\\lib\\site-packages\\xgboost\\sklearn.py:793: UserWarning:\n",
      "\n",
      "`eval_metric` in `fit` method is deprecated for better compatibility with scikit-learn, use `eval_metric` in constructor or`set_params` instead.\n",
      "\n",
      "C:\\Users\\Oksana\\anaconda3\\envs\\TEST\\lib\\site-packages\\xgboost\\sklearn.py:793: UserWarning:\n",
      "\n",
      "`early_stopping_rounds` in `fit` method is deprecated for better compatibility with scikit-learn, use `early_stopping_rounds` in constructor or`set_params` instead.\n",
      "\n",
      "C:\\Users\\Oksana\\anaconda3\\envs\\TEST\\lib\\site-packages\\xgboost\\sklearn.py:793: UserWarning:\n",
      "\n",
      "`callbacks` in `fit` method is deprecated for better compatibility with scikit-learn, use `callbacks` in constructor or`set_params` instead.\n",
      "\n"
     ]
    },
    {
     "name": "stdout",
     "output_type": "stream",
     "text": [
      "[0]\tvalidation_0-mlogloss:1.61943\tvalidation_1-mlogloss:1.62091\n",
      "[50]\tvalidation_0-mlogloss:0.31763\tvalidation_1-mlogloss:0.36008\n",
      "[100]\tvalidation_0-mlogloss:0.22777\tvalidation_1-mlogloss:0.28852\n",
      "[150]\tvalidation_0-mlogloss:0.18280\tvalidation_1-mlogloss:0.25195\n",
      "[200]\tvalidation_0-mlogloss:0.15153\tvalidation_1-mlogloss:0.22845\n",
      "[250]\tvalidation_0-mlogloss:0.12625\tvalidation_1-mlogloss:0.21005\n",
      "[300]\tvalidation_0-mlogloss:0.10596\tvalidation_1-mlogloss:0.19385\n",
      "[350]\tvalidation_0-mlogloss:0.08863\tvalidation_1-mlogloss:0.18002\n",
      "[400]\tvalidation_0-mlogloss:0.07563\tvalidation_1-mlogloss:0.16984\n",
      "[450]\tvalidation_0-mlogloss:0.06494\tvalidation_1-mlogloss:0.16134\n",
      "[500]\tvalidation_0-mlogloss:0.05591\tvalidation_1-mlogloss:0.15379\n",
      "[550]\tvalidation_0-mlogloss:0.04862\tvalidation_1-mlogloss:0.14799\n",
      "[600]\tvalidation_0-mlogloss:0.04233\tvalidation_1-mlogloss:0.14235\n",
      "[650]\tvalidation_0-mlogloss:0.03720\tvalidation_1-mlogloss:0.13810\n",
      "[700]\tvalidation_0-mlogloss:0.03266\tvalidation_1-mlogloss:0.13378\n",
      "[750]\tvalidation_0-mlogloss:0.02896\tvalidation_1-mlogloss:0.13058\n",
      "[800]\tvalidation_0-mlogloss:0.02585\tvalidation_1-mlogloss:0.12786\n",
      "[850]\tvalidation_0-mlogloss:0.02319\tvalidation_1-mlogloss:0.12559\n",
      "[900]\tvalidation_0-mlogloss:0.02088\tvalidation_1-mlogloss:0.12333\n",
      "[950]\tvalidation_0-mlogloss:0.01899\tvalidation_1-mlogloss:0.12155\n",
      "[1000]\tvalidation_0-mlogloss:0.01730\tvalidation_1-mlogloss:0.12016\n",
      "[1050]\tvalidation_0-mlogloss:0.01576\tvalidation_1-mlogloss:0.11888\n",
      "[1100]\tvalidation_0-mlogloss:0.01454\tvalidation_1-mlogloss:0.11790\n",
      "[1122]\tvalidation_0-mlogloss:0.01403\tvalidation_1-mlogloss:0.11747\n"
     ]
    },
    {
     "name": "stderr",
     "output_type": "stream",
     "text": [
      "\u001b[32m[I 2022-08-03 21:24:43,951]\u001b[0m Trial 29 finished with value: 0.9143796294169614 and parameters: {'n_estimators': 1123, 'max_depth': 9, 'learning_rate': 0.0762823683491904, 'subsample': 0.8, 'colsample_bylevel': 0.4, 'reg_lambda': 0.21486979724315203, 'reg_alpha': 0.38510763743270165}. Best is trial 0 with value: 0.9273540806836547.\u001b[0m\n",
      "C:\\Users\\Oksana\\anaconda3\\envs\\TEST\\lib\\site-packages\\xgboost\\sklearn.py:793: UserWarning:\n",
      "\n",
      "`eval_metric` in `fit` method is deprecated for better compatibility with scikit-learn, use `eval_metric` in constructor or`set_params` instead.\n",
      "\n",
      "C:\\Users\\Oksana\\anaconda3\\envs\\TEST\\lib\\site-packages\\xgboost\\sklearn.py:793: UserWarning:\n",
      "\n",
      "`early_stopping_rounds` in `fit` method is deprecated for better compatibility with scikit-learn, use `early_stopping_rounds` in constructor or`set_params` instead.\n",
      "\n",
      "C:\\Users\\Oksana\\anaconda3\\envs\\TEST\\lib\\site-packages\\xgboost\\sklearn.py:793: UserWarning:\n",
      "\n",
      "`callbacks` in `fit` method is deprecated for better compatibility with scikit-learn, use `callbacks` in constructor or`set_params` instead.\n",
      "\n"
     ]
    },
    {
     "name": "stdout",
     "output_type": "stream",
     "text": [
      "[0]\tvalidation_0-mlogloss:1.49470\tvalidation_1-mlogloss:1.49781\n",
      "[50]\tvalidation_0-mlogloss:0.22805\tvalidation_1-mlogloss:0.28680\n",
      "[100]\tvalidation_0-mlogloss:0.15214\tvalidation_1-mlogloss:0.22629\n",
      "[150]\tvalidation_0-mlogloss:0.10951\tvalidation_1-mlogloss:0.19230\n",
      "[200]\tvalidation_0-mlogloss:0.07935\tvalidation_1-mlogloss:0.16769\n",
      "[250]\tvalidation_0-mlogloss:0.05886\tvalidation_1-mlogloss:0.15106\n",
      "[300]\tvalidation_0-mlogloss:0.04457\tvalidation_1-mlogloss:0.13947\n",
      "[350]\tvalidation_0-mlogloss:0.03384\tvalidation_1-mlogloss:0.12960\n",
      "[400]\tvalidation_0-mlogloss:0.02650\tvalidation_1-mlogloss:0.12315\n",
      "[450]\tvalidation_0-mlogloss:0.02110\tvalidation_1-mlogloss:0.11809\n",
      "[500]\tvalidation_0-mlogloss:0.01691\tvalidation_1-mlogloss:0.11453\n",
      "[550]\tvalidation_0-mlogloss:0.01381\tvalidation_1-mlogloss:0.11198\n",
      "[600]\tvalidation_0-mlogloss:0.01150\tvalidation_1-mlogloss:0.10965\n",
      "[650]\tvalidation_0-mlogloss:0.00971\tvalidation_1-mlogloss:0.10838\n",
      "[700]\tvalidation_0-mlogloss:0.00830\tvalidation_1-mlogloss:0.10719\n",
      "[750]\tvalidation_0-mlogloss:0.00714\tvalidation_1-mlogloss:0.10614\n",
      "[800]\tvalidation_0-mlogloss:0.00624\tvalidation_1-mlogloss:0.10523\n",
      "[850]\tvalidation_0-mlogloss:0.00548\tvalidation_1-mlogloss:0.10475\n",
      "[900]\tvalidation_0-mlogloss:0.00488\tvalidation_1-mlogloss:0.10452\n",
      "[950]\tvalidation_0-mlogloss:0.00440\tvalidation_1-mlogloss:0.10429\n",
      "[1000]\tvalidation_0-mlogloss:0.00400\tvalidation_1-mlogloss:0.10418\n",
      "[1050]\tvalidation_0-mlogloss:0.00363\tvalidation_1-mlogloss:0.10416\n",
      "[1100]\tvalidation_0-mlogloss:0.00335\tvalidation_1-mlogloss:0.10426\n",
      "[1130]\tvalidation_0-mlogloss:0.00318\tvalidation_1-mlogloss:0.10417\n"
     ]
    },
    {
     "name": "stderr",
     "output_type": "stream",
     "text": [
      "\u001b[32m[I 2022-08-03 21:27:53,598]\u001b[0m Trial 30 finished with value: 0.9230879677609882 and parameters: {'n_estimators': 1270, 'max_depth': 9, 'learning_rate': 0.13323196849667177, 'subsample': 0.8, 'colsample_bylevel': 1.0, 'reg_lambda': 0.6077790078159315, 'reg_alpha': 0.030446454724002474}. Best is trial 0 with value: 0.9273540806836547.\u001b[0m\n",
      "C:\\Users\\Oksana\\anaconda3\\envs\\TEST\\lib\\site-packages\\xgboost\\sklearn.py:793: UserWarning:\n",
      "\n",
      "`eval_metric` in `fit` method is deprecated for better compatibility with scikit-learn, use `eval_metric` in constructor or`set_params` instead.\n",
      "\n",
      "C:\\Users\\Oksana\\anaconda3\\envs\\TEST\\lib\\site-packages\\xgboost\\sklearn.py:793: UserWarning:\n",
      "\n",
      "`early_stopping_rounds` in `fit` method is deprecated for better compatibility with scikit-learn, use `early_stopping_rounds` in constructor or`set_params` instead.\n",
      "\n",
      "C:\\Users\\Oksana\\anaconda3\\envs\\TEST\\lib\\site-packages\\xgboost\\sklearn.py:793: UserWarning:\n",
      "\n",
      "`callbacks` in `fit` method is deprecated for better compatibility with scikit-learn, use `callbacks` in constructor or`set_params` instead.\n",
      "\n"
     ]
    },
    {
     "name": "stdout",
     "output_type": "stream",
     "text": [
      "[0]\tvalidation_0-mlogloss:1.44269\tvalidation_1-mlogloss:1.44650\n"
     ]
    },
    {
     "name": "stderr",
     "output_type": "stream",
     "text": [
      "\u001b[32m[I 2022-08-03 21:27:54,336]\u001b[0m Trial 31 pruned. Trial was pruned at iteration 0.\u001b[0m\n",
      "C:\\Users\\Oksana\\anaconda3\\envs\\TEST\\lib\\site-packages\\xgboost\\sklearn.py:793: UserWarning:\n",
      "\n",
      "`eval_metric` in `fit` method is deprecated for better compatibility with scikit-learn, use `eval_metric` in constructor or`set_params` instead.\n",
      "\n",
      "C:\\Users\\Oksana\\anaconda3\\envs\\TEST\\lib\\site-packages\\xgboost\\sklearn.py:793: UserWarning:\n",
      "\n",
      "`early_stopping_rounds` in `fit` method is deprecated for better compatibility with scikit-learn, use `early_stopping_rounds` in constructor or`set_params` instead.\n",
      "\n",
      "C:\\Users\\Oksana\\anaconda3\\envs\\TEST\\lib\\site-packages\\xgboost\\sklearn.py:793: UserWarning:\n",
      "\n",
      "`callbacks` in `fit` method is deprecated for better compatibility with scikit-learn, use `callbacks` in constructor or`set_params` instead.\n",
      "\n"
     ]
    },
    {
     "name": "stdout",
     "output_type": "stream",
     "text": [
      "[0]\tvalidation_0-mlogloss:1.54717\tvalidation_1-mlogloss:1.54983\n",
      "[50]\tvalidation_0-mlogloss:0.24626\tvalidation_1-mlogloss:0.30209\n",
      "[100]\tvalidation_0-mlogloss:0.16760\tvalidation_1-mlogloss:0.23801\n",
      "[150]\tvalidation_0-mlogloss:0.12606\tvalidation_1-mlogloss:0.20475\n",
      "[200]\tvalidation_0-mlogloss:0.09644\tvalidation_1-mlogloss:0.18077\n",
      "[250]\tvalidation_0-mlogloss:0.07397\tvalidation_1-mlogloss:0.16200\n",
      "[300]\tvalidation_0-mlogloss:0.05806\tvalidation_1-mlogloss:0.14779\n",
      "[350]\tvalidation_0-mlogloss:0.04562\tvalidation_1-mlogloss:0.13692\n",
      "[400]\tvalidation_0-mlogloss:0.03653\tvalidation_1-mlogloss:0.12879\n",
      "[450]\tvalidation_0-mlogloss:0.02933\tvalidation_1-mlogloss:0.12249\n",
      "[500]\tvalidation_0-mlogloss:0.02413\tvalidation_1-mlogloss:0.11780\n",
      "[550]\tvalidation_0-mlogloss:0.01963\tvalidation_1-mlogloss:0.11362\n",
      "[600]\tvalidation_0-mlogloss:0.01633\tvalidation_1-mlogloss:0.11025\n",
      "[650]\tvalidation_0-mlogloss:0.01368\tvalidation_1-mlogloss:0.10772\n",
      "[700]\tvalidation_0-mlogloss:0.01141\tvalidation_1-mlogloss:0.10516\n",
      "[750]\tvalidation_0-mlogloss:0.00968\tvalidation_1-mlogloss:0.10345\n",
      "[800]\tvalidation_0-mlogloss:0.00836\tvalidation_1-mlogloss:0.10241\n",
      "[850]\tvalidation_0-mlogloss:0.00726\tvalidation_1-mlogloss:0.10178\n",
      "[900]\tvalidation_0-mlogloss:0.00637\tvalidation_1-mlogloss:0.10103\n",
      "[950]\tvalidation_0-mlogloss:0.00567\tvalidation_1-mlogloss:0.10046\n",
      "[1000]\tvalidation_0-mlogloss:0.00504\tvalidation_1-mlogloss:0.09999\n",
      "[1050]\tvalidation_0-mlogloss:0.00451\tvalidation_1-mlogloss:0.09982\n",
      "[1094]\tvalidation_0-mlogloss:0.00415\tvalidation_1-mlogloss:0.09989\n"
     ]
    },
    {
     "name": "stderr",
     "output_type": "stream",
     "text": [
      "\u001b[32m[I 2022-08-03 21:30:52,138]\u001b[0m Trial 32 finished with value: 0.9278230740575764 and parameters: {'n_estimators': 1238, 'max_depth': 9, 'learning_rate': 0.10846692523927018, 'subsample': 0.9, 'colsample_bylevel': 0.9, 'reg_lambda': 0.004688748882647761, 'reg_alpha': 0.009825482290623943}. Best is trial 32 with value: 0.9278230740575764.\u001b[0m\n",
      "C:\\Users\\Oksana\\anaconda3\\envs\\TEST\\lib\\site-packages\\xgboost\\sklearn.py:793: UserWarning:\n",
      "\n",
      "`eval_metric` in `fit` method is deprecated for better compatibility with scikit-learn, use `eval_metric` in constructor or`set_params` instead.\n",
      "\n",
      "C:\\Users\\Oksana\\anaconda3\\envs\\TEST\\lib\\site-packages\\xgboost\\sklearn.py:793: UserWarning:\n",
      "\n",
      "`early_stopping_rounds` in `fit` method is deprecated for better compatibility with scikit-learn, use `early_stopping_rounds` in constructor or`set_params` instead.\n",
      "\n",
      "C:\\Users\\Oksana\\anaconda3\\envs\\TEST\\lib\\site-packages\\xgboost\\sklearn.py:793: UserWarning:\n",
      "\n",
      "`callbacks` in `fit` method is deprecated for better compatibility with scikit-learn, use `callbacks` in constructor or`set_params` instead.\n",
      "\n"
     ]
    },
    {
     "name": "stdout",
     "output_type": "stream",
     "text": [
      "[0]\tvalidation_0-mlogloss:1.54862\tvalidation_1-mlogloss:1.55157\n",
      "[50]\tvalidation_0-mlogloss:0.24851\tvalidation_1-mlogloss:0.30546\n",
      "[100]\tvalidation_0-mlogloss:0.16818\tvalidation_1-mlogloss:0.24212\n",
      "[150]\tvalidation_0-mlogloss:0.12478\tvalidation_1-mlogloss:0.20873\n",
      "[200]\tvalidation_0-mlogloss:0.09404\tvalidation_1-mlogloss:0.18384\n",
      "[250]\tvalidation_0-mlogloss:0.07185\tvalidation_1-mlogloss:0.16627\n",
      "[300]\tvalidation_0-mlogloss:0.05625\tvalidation_1-mlogloss:0.15357\n",
      "[350]\tvalidation_0-mlogloss:0.04438\tvalidation_1-mlogloss:0.14366\n",
      "[400]\tvalidation_0-mlogloss:0.03539\tvalidation_1-mlogloss:0.13631\n",
      "[450]\tvalidation_0-mlogloss:0.02866\tvalidation_1-mlogloss:0.13058\n",
      "[500]\tvalidation_0-mlogloss:0.02339\tvalidation_1-mlogloss:0.12619\n",
      "[550]\tvalidation_0-mlogloss:0.01908\tvalidation_1-mlogloss:0.12252\n",
      "[600]\tvalidation_0-mlogloss:0.01591\tvalidation_1-mlogloss:0.11996\n",
      "[650]\tvalidation_0-mlogloss:0.01329\tvalidation_1-mlogloss:0.11752\n",
      "[700]\tvalidation_0-mlogloss:0.01133\tvalidation_1-mlogloss:0.11568\n",
      "[750]\tvalidation_0-mlogloss:0.00986\tvalidation_1-mlogloss:0.11466\n",
      "[800]\tvalidation_0-mlogloss:0.00854\tvalidation_1-mlogloss:0.11339\n",
      "[850]\tvalidation_0-mlogloss:0.00748\tvalidation_1-mlogloss:0.11273\n",
      "[900]\tvalidation_0-mlogloss:0.00665\tvalidation_1-mlogloss:0.11206\n",
      "[950]\tvalidation_0-mlogloss:0.00593\tvalidation_1-mlogloss:0.11165\n",
      "[1000]\tvalidation_0-mlogloss:0.00534\tvalidation_1-mlogloss:0.11144\n",
      "[1050]\tvalidation_0-mlogloss:0.00482\tvalidation_1-mlogloss:0.11131\n",
      "[1087]\tvalidation_0-mlogloss:0.00451\tvalidation_1-mlogloss:0.11137\n"
     ]
    },
    {
     "name": "stderr",
     "output_type": "stream",
     "text": [
      "\u001b[32m[I 2022-08-03 21:33:50,476]\u001b[0m Trial 33 finished with value: 0.9170157685324553 and parameters: {'n_estimators': 1211, 'max_depth': 9, 'learning_rate': 0.1078497794291817, 'subsample': 0.7, 'colsample_bylevel': 0.9, 'reg_lambda': 0.0017114837610517613, 'reg_alpha': 0.005835925732366542}. Best is trial 32 with value: 0.9278230740575764.\u001b[0m\n",
      "C:\\Users\\Oksana\\anaconda3\\envs\\TEST\\lib\\site-packages\\xgboost\\sklearn.py:793: UserWarning:\n",
      "\n",
      "`eval_metric` in `fit` method is deprecated for better compatibility with scikit-learn, use `eval_metric` in constructor or`set_params` instead.\n",
      "\n",
      "C:\\Users\\Oksana\\anaconda3\\envs\\TEST\\lib\\site-packages\\xgboost\\sklearn.py:793: UserWarning:\n",
      "\n",
      "`early_stopping_rounds` in `fit` method is deprecated for better compatibility with scikit-learn, use `early_stopping_rounds` in constructor or`set_params` instead.\n",
      "\n",
      "C:\\Users\\Oksana\\anaconda3\\envs\\TEST\\lib\\site-packages\\xgboost\\sklearn.py:793: UserWarning:\n",
      "\n",
      "`callbacks` in `fit` method is deprecated for better compatibility with scikit-learn, use `callbacks` in constructor or`set_params` instead.\n",
      "\n",
      "\u001b[32m[I 2022-08-03 21:33:51,134]\u001b[0m Trial 34 pruned. Trial was pruned at iteration 0.\u001b[0m\n",
      "C:\\Users\\Oksana\\anaconda3\\envs\\TEST\\lib\\site-packages\\xgboost\\sklearn.py:793: UserWarning:\n",
      "\n",
      "`eval_metric` in `fit` method is deprecated for better compatibility with scikit-learn, use `eval_metric` in constructor or`set_params` instead.\n",
      "\n",
      "C:\\Users\\Oksana\\anaconda3\\envs\\TEST\\lib\\site-packages\\xgboost\\sklearn.py:793: UserWarning:\n",
      "\n",
      "`early_stopping_rounds` in `fit` method is deprecated for better compatibility with scikit-learn, use `early_stopping_rounds` in constructor or`set_params` instead.\n",
      "\n",
      "C:\\Users\\Oksana\\anaconda3\\envs\\TEST\\lib\\site-packages\\xgboost\\sklearn.py:793: UserWarning:\n",
      "\n",
      "`callbacks` in `fit` method is deprecated for better compatibility with scikit-learn, use `callbacks` in constructor or`set_params` instead.\n",
      "\n"
     ]
    },
    {
     "name": "stdout",
     "output_type": "stream",
     "text": [
      "[0]\tvalidation_0-mlogloss:1.64491\tvalidation_1-mlogloss:1.64640\n",
      "[50]\tvalidation_0-mlogloss:0.33238\tvalidation_1-mlogloss:0.37216\n",
      "[100]\tvalidation_0-mlogloss:0.22531\tvalidation_1-mlogloss:0.28535\n",
      "[150]\tvalidation_0-mlogloss:0.18145\tvalidation_1-mlogloss:0.24869\n",
      "[200]\tvalidation_0-mlogloss:0.15132\tvalidation_1-mlogloss:0.22392\n",
      "[250]\tvalidation_0-mlogloss:0.12856\tvalidation_1-mlogloss:0.20613\n",
      "[300]\tvalidation_0-mlogloss:0.10908\tvalidation_1-mlogloss:0.19007\n",
      "[350]\tvalidation_0-mlogloss:0.09417\tvalidation_1-mlogloss:0.17781\n",
      "[400]\tvalidation_0-mlogloss:0.08124\tvalidation_1-mlogloss:0.16663\n",
      "[450]\tvalidation_0-mlogloss:0.06973\tvalidation_1-mlogloss:0.15689\n",
      "[500]\tvalidation_0-mlogloss:0.06050\tvalidation_1-mlogloss:0.14912\n",
      "[550]\tvalidation_0-mlogloss:0.05287\tvalidation_1-mlogloss:0.14230\n",
      "[600]\tvalidation_0-mlogloss:0.04596\tvalidation_1-mlogloss:0.13616\n",
      "[650]\tvalidation_0-mlogloss:0.04029\tvalidation_1-mlogloss:0.13117\n",
      "[700]\tvalidation_0-mlogloss:0.03544\tvalidation_1-mlogloss:0.12678\n",
      "[750]\tvalidation_0-mlogloss:0.03117\tvalidation_1-mlogloss:0.12262\n",
      "[800]\tvalidation_0-mlogloss:0.02749\tvalidation_1-mlogloss:0.11915\n",
      "[850]\tvalidation_0-mlogloss:0.02437\tvalidation_1-mlogloss:0.11626\n",
      "[900]\tvalidation_0-mlogloss:0.02194\tvalidation_1-mlogloss:0.11384\n",
      "[950]\tvalidation_0-mlogloss:0.01958\tvalidation_1-mlogloss:0.11161\n",
      "[1000]\tvalidation_0-mlogloss:0.01750\tvalidation_1-mlogloss:0.10957\n",
      "[1050]\tvalidation_0-mlogloss:0.01570\tvalidation_1-mlogloss:0.10787\n",
      "[1100]\tvalidation_0-mlogloss:0.01426\tvalidation_1-mlogloss:0.10678\n",
      "[1150]\tvalidation_0-mlogloss:0.01291\tvalidation_1-mlogloss:0.10547\n",
      "[1200]\tvalidation_0-mlogloss:0.01173\tvalidation_1-mlogloss:0.10433\n",
      "[1250]\tvalidation_0-mlogloss:0.01071\tvalidation_1-mlogloss:0.10359\n"
     ]
    },
    {
     "name": "stderr",
     "output_type": "stream",
     "text": [
      "\u001b[32m[I 2022-08-03 21:37:25,233]\u001b[0m Trial 35 finished with value: 0.9253499462162056 and parameters: {'n_estimators': 1251, 'max_depth': 9, 'learning_rate': 0.06410924508847152, 'subsample': 0.9, 'colsample_bylevel': 0.8, 'reg_lambda': 0.0054822349374304335, 'reg_alpha': 0.0018409659135511026}. Best is trial 32 with value: 0.9278230740575764.\u001b[0m\n",
      "C:\\Users\\Oksana\\anaconda3\\envs\\TEST\\lib\\site-packages\\xgboost\\sklearn.py:793: UserWarning:\n",
      "\n",
      "`eval_metric` in `fit` method is deprecated for better compatibility with scikit-learn, use `eval_metric` in constructor or`set_params` instead.\n",
      "\n",
      "C:\\Users\\Oksana\\anaconda3\\envs\\TEST\\lib\\site-packages\\xgboost\\sklearn.py:793: UserWarning:\n",
      "\n",
      "`early_stopping_rounds` in `fit` method is deprecated for better compatibility with scikit-learn, use `early_stopping_rounds` in constructor or`set_params` instead.\n",
      "\n",
      "C:\\Users\\Oksana\\anaconda3\\envs\\TEST\\lib\\site-packages\\xgboost\\sklearn.py:793: UserWarning:\n",
      "\n",
      "`callbacks` in `fit` method is deprecated for better compatibility with scikit-learn, use `callbacks` in constructor or`set_params` instead.\n",
      "\n"
     ]
    },
    {
     "name": "stdout",
     "output_type": "stream",
     "text": [
      "[0]\tvalidation_0-mlogloss:1.14012\tvalidation_1-mlogloss:1.14753\n"
     ]
    },
    {
     "name": "stderr",
     "output_type": "stream",
     "text": [
      "\u001b[32m[I 2022-08-03 21:37:26,104]\u001b[0m Trial 36 pruned. Trial was pruned at iteration 0.\u001b[0m\n",
      "C:\\Users\\Oksana\\anaconda3\\envs\\TEST\\lib\\site-packages\\xgboost\\sklearn.py:793: UserWarning:\n",
      "\n",
      "`eval_metric` in `fit` method is deprecated for better compatibility with scikit-learn, use `eval_metric` in constructor or`set_params` instead.\n",
      "\n",
      "C:\\Users\\Oksana\\anaconda3\\envs\\TEST\\lib\\site-packages\\xgboost\\sklearn.py:793: UserWarning:\n",
      "\n",
      "`early_stopping_rounds` in `fit` method is deprecated for better compatibility with scikit-learn, use `early_stopping_rounds` in constructor or`set_params` instead.\n",
      "\n",
      "C:\\Users\\Oksana\\anaconda3\\envs\\TEST\\lib\\site-packages\\xgboost\\sklearn.py:793: UserWarning:\n",
      "\n",
      "`callbacks` in `fit` method is deprecated for better compatibility with scikit-learn, use `callbacks` in constructor or`set_params` instead.\n",
      "\n"
     ]
    },
    {
     "name": "stdout",
     "output_type": "stream",
     "text": [
      "[0]\tvalidation_0-mlogloss:1.39748\tvalidation_1-mlogloss:1.40157\n"
     ]
    },
    {
     "name": "stderr",
     "output_type": "stream",
     "text": [
      "\u001b[32m[I 2022-08-03 21:37:26,790]\u001b[0m Trial 37 pruned. Trial was pruned at iteration 0.\u001b[0m\n",
      "C:\\Users\\Oksana\\anaconda3\\envs\\TEST\\lib\\site-packages\\xgboost\\sklearn.py:793: UserWarning:\n",
      "\n",
      "`eval_metric` in `fit` method is deprecated for better compatibility with scikit-learn, use `eval_metric` in constructor or`set_params` instead.\n",
      "\n",
      "C:\\Users\\Oksana\\anaconda3\\envs\\TEST\\lib\\site-packages\\xgboost\\sklearn.py:793: UserWarning:\n",
      "\n",
      "`early_stopping_rounds` in `fit` method is deprecated for better compatibility with scikit-learn, use `early_stopping_rounds` in constructor or`set_params` instead.\n",
      "\n",
      "C:\\Users\\Oksana\\anaconda3\\envs\\TEST\\lib\\site-packages\\xgboost\\sklearn.py:793: UserWarning:\n",
      "\n",
      "`callbacks` in `fit` method is deprecated for better compatibility with scikit-learn, use `callbacks` in constructor or`set_params` instead.\n",
      "\n",
      "\u001b[32m[I 2022-08-03 21:37:27,541]\u001b[0m Trial 38 pruned. Trial was pruned at iteration 0.\u001b[0m\n",
      "C:\\Users\\Oksana\\anaconda3\\envs\\TEST\\lib\\site-packages\\xgboost\\sklearn.py:793: UserWarning:\n",
      "\n",
      "`eval_metric` in `fit` method is deprecated for better compatibility with scikit-learn, use `eval_metric` in constructor or`set_params` instead.\n",
      "\n",
      "C:\\Users\\Oksana\\anaconda3\\envs\\TEST\\lib\\site-packages\\xgboost\\sklearn.py:793: UserWarning:\n",
      "\n",
      "`early_stopping_rounds` in `fit` method is deprecated for better compatibility with scikit-learn, use `early_stopping_rounds` in constructor or`set_params` instead.\n",
      "\n",
      "C:\\Users\\Oksana\\anaconda3\\envs\\TEST\\lib\\site-packages\\xgboost\\sklearn.py:793: UserWarning:\n",
      "\n",
      "`callbacks` in `fit` method is deprecated for better compatibility with scikit-learn, use `callbacks` in constructor or`set_params` instead.\n",
      "\n",
      "\u001b[32m[I 2022-08-03 21:37:28,327]\u001b[0m Trial 39 pruned. Trial was pruned at iteration 0.\u001b[0m\n",
      "C:\\Users\\Oksana\\anaconda3\\envs\\TEST\\lib\\site-packages\\xgboost\\sklearn.py:793: UserWarning:\n",
      "\n",
      "`eval_metric` in `fit` method is deprecated for better compatibility with scikit-learn, use `eval_metric` in constructor or`set_params` instead.\n",
      "\n",
      "C:\\Users\\Oksana\\anaconda3\\envs\\TEST\\lib\\site-packages\\xgboost\\sklearn.py:793: UserWarning:\n",
      "\n",
      "`early_stopping_rounds` in `fit` method is deprecated for better compatibility with scikit-learn, use `early_stopping_rounds` in constructor or`set_params` instead.\n",
      "\n",
      "C:\\Users\\Oksana\\anaconda3\\envs\\TEST\\lib\\site-packages\\xgboost\\sklearn.py:793: UserWarning:\n",
      "\n",
      "`callbacks` in `fit` method is deprecated for better compatibility with scikit-learn, use `callbacks` in constructor or`set_params` instead.\n",
      "\n"
     ]
    },
    {
     "name": "stdout",
     "output_type": "stream",
     "text": [
      "[0]\tvalidation_0-mlogloss:1.55168\tvalidation_1-mlogloss:1.55400\n",
      "[50]\tvalidation_0-mlogloss:0.26497\tvalidation_1-mlogloss:0.31639\n",
      "[100]\tvalidation_0-mlogloss:0.19596\tvalidation_1-mlogloss:0.26044\n",
      "[150]\tvalidation_0-mlogloss:0.15646\tvalidation_1-mlogloss:0.22847\n",
      "[200]\tvalidation_0-mlogloss:0.12653\tvalidation_1-mlogloss:0.20399\n",
      "[250]\tvalidation_0-mlogloss:0.10479\tvalidation_1-mlogloss:0.18737\n",
      "[300]\tvalidation_0-mlogloss:0.08615\tvalidation_1-mlogloss:0.17154\n",
      "[350]\tvalidation_0-mlogloss:0.07235\tvalidation_1-mlogloss:0.15945\n",
      "[400]\tvalidation_0-mlogloss:0.06038\tvalidation_1-mlogloss:0.14838\n",
      "[450]\tvalidation_0-mlogloss:0.05170\tvalidation_1-mlogloss:0.14077\n",
      "[500]\tvalidation_0-mlogloss:0.04416\tvalidation_1-mlogloss:0.13426\n",
      "[550]\tvalidation_0-mlogloss:0.03786\tvalidation_1-mlogloss:0.12851\n",
      "[600]\tvalidation_0-mlogloss:0.03310\tvalidation_1-mlogloss:0.12431\n",
      "[650]\tvalidation_0-mlogloss:0.02865\tvalidation_1-mlogloss:0.12020\n",
      "[700]\tvalidation_0-mlogloss:0.02463\tvalidation_1-mlogloss:0.11640\n",
      "[750]\tvalidation_0-mlogloss:0.02159\tvalidation_1-mlogloss:0.11340\n",
      "[800]\tvalidation_0-mlogloss:0.01904\tvalidation_1-mlogloss:0.11107\n",
      "[850]\tvalidation_0-mlogloss:0.01707\tvalidation_1-mlogloss:0.10900\n",
      "[900]\tvalidation_0-mlogloss:0.01527\tvalidation_1-mlogloss:0.10731\n",
      "[950]\tvalidation_0-mlogloss:0.01366\tvalidation_1-mlogloss:0.10562\n",
      "[1000]\tvalidation_0-mlogloss:0.01224\tvalidation_1-mlogloss:0.10409\n",
      "[1050]\tvalidation_0-mlogloss:0.01113\tvalidation_1-mlogloss:0.10290\n",
      "[1100]\tvalidation_0-mlogloss:0.01015\tvalidation_1-mlogloss:0.10209\n",
      "[1150]\tvalidation_0-mlogloss:0.00932\tvalidation_1-mlogloss:0.10111\n",
      "[1200]\tvalidation_0-mlogloss:0.00856\tvalidation_1-mlogloss:0.10036\n",
      "[1240]\tvalidation_0-mlogloss:0.00801\tvalidation_1-mlogloss:0.09995\n"
     ]
    },
    {
     "name": "stderr",
     "output_type": "stream",
     "text": [
      "\u001b[32m[I 2022-08-03 21:40:49,268]\u001b[0m Trial 40 finished with value: 0.9268202564717561 and parameters: {'n_estimators': 1241, 'max_depth': 9, 'learning_rate': 0.106968234555816, 'subsample': 1.0, 'colsample_bylevel': 0.9, 'reg_lambda': 1.6897288245819668, 'reg_alpha': 0.002494337719659516}. Best is trial 32 with value: 0.9278230740575764.\u001b[0m\n",
      "C:\\Users\\Oksana\\anaconda3\\envs\\TEST\\lib\\site-packages\\xgboost\\sklearn.py:793: UserWarning:\n",
      "\n",
      "`eval_metric` in `fit` method is deprecated for better compatibility with scikit-learn, use `eval_metric` in constructor or`set_params` instead.\n",
      "\n",
      "C:\\Users\\Oksana\\anaconda3\\envs\\TEST\\lib\\site-packages\\xgboost\\sklearn.py:793: UserWarning:\n",
      "\n",
      "`early_stopping_rounds` in `fit` method is deprecated for better compatibility with scikit-learn, use `early_stopping_rounds` in constructor or`set_params` instead.\n",
      "\n",
      "C:\\Users\\Oksana\\anaconda3\\envs\\TEST\\lib\\site-packages\\xgboost\\sklearn.py:793: UserWarning:\n",
      "\n",
      "`callbacks` in `fit` method is deprecated for better compatibility with scikit-learn, use `callbacks` in constructor or`set_params` instead.\n",
      "\n"
     ]
    },
    {
     "name": "stdout",
     "output_type": "stream",
     "text": [
      "[0]\tvalidation_0-mlogloss:1.55460\tvalidation_1-mlogloss:1.55689\n",
      "[50]\tvalidation_0-mlogloss:0.26699\tvalidation_1-mlogloss:0.31730\n",
      "[100]\tvalidation_0-mlogloss:0.19676\tvalidation_1-mlogloss:0.25993\n",
      "[150]\tvalidation_0-mlogloss:0.15512\tvalidation_1-mlogloss:0.22659\n",
      "[200]\tvalidation_0-mlogloss:0.12753\tvalidation_1-mlogloss:0.20534\n",
      "[250]\tvalidation_0-mlogloss:0.10469\tvalidation_1-mlogloss:0.18751\n",
      "[300]\tvalidation_0-mlogloss:0.08590\tvalidation_1-mlogloss:0.17166\n",
      "[350]\tvalidation_0-mlogloss:0.07095\tvalidation_1-mlogloss:0.15820\n",
      "[400]\tvalidation_0-mlogloss:0.05972\tvalidation_1-mlogloss:0.14858\n",
      "[450]\tvalidation_0-mlogloss:0.05078\tvalidation_1-mlogloss:0.14069\n",
      "[500]\tvalidation_0-mlogloss:0.04339\tvalidation_1-mlogloss:0.13378\n",
      "[550]\tvalidation_0-mlogloss:0.03731\tvalidation_1-mlogloss:0.12859\n",
      "[600]\tvalidation_0-mlogloss:0.03185\tvalidation_1-mlogloss:0.12339\n",
      "[650]\tvalidation_0-mlogloss:0.02796\tvalidation_1-mlogloss:0.11983\n",
      "[700]\tvalidation_0-mlogloss:0.02465\tvalidation_1-mlogloss:0.11666\n",
      "[750]\tvalidation_0-mlogloss:0.02169\tvalidation_1-mlogloss:0.11370\n",
      "[800]\tvalidation_0-mlogloss:0.01897\tvalidation_1-mlogloss:0.11106\n",
      "[850]\tvalidation_0-mlogloss:0.01692\tvalidation_1-mlogloss:0.10916\n",
      "[900]\tvalidation_0-mlogloss:0.01507\tvalidation_1-mlogloss:0.10702\n",
      "[950]\tvalidation_0-mlogloss:0.01368\tvalidation_1-mlogloss:0.10552\n",
      "[1000]\tvalidation_0-mlogloss:0.01228\tvalidation_1-mlogloss:0.10424\n",
      "[1050]\tvalidation_0-mlogloss:0.01108\tvalidation_1-mlogloss:0.10314\n",
      "[1100]\tvalidation_0-mlogloss:0.01011\tvalidation_1-mlogloss:0.10239\n",
      "[1150]\tvalidation_0-mlogloss:0.00918\tvalidation_1-mlogloss:0.10129\n",
      "[1200]\tvalidation_0-mlogloss:0.00848\tvalidation_1-mlogloss:0.10062\n",
      "[1245]\tvalidation_0-mlogloss:0.00785\tvalidation_1-mlogloss:0.10009\n"
     ]
    },
    {
     "name": "stderr",
     "output_type": "stream",
     "text": [
      "\u001b[32m[I 2022-08-03 21:44:09,669]\u001b[0m Trial 41 finished with value: 0.9257341392250195 and parameters: {'n_estimators': 1246, 'max_depth': 9, 'learning_rate': 0.10560064122336561, 'subsample': 1.0, 'colsample_bylevel': 0.9, 'reg_lambda': 1.6386241899488823, 'reg_alpha': 0.002446293263733956}. Best is trial 32 with value: 0.9278230740575764.\u001b[0m\n",
      "C:\\Users\\Oksana\\anaconda3\\envs\\TEST\\lib\\site-packages\\xgboost\\sklearn.py:793: UserWarning:\n",
      "\n",
      "`eval_metric` in `fit` method is deprecated for better compatibility with scikit-learn, use `eval_metric` in constructor or`set_params` instead.\n",
      "\n",
      "C:\\Users\\Oksana\\anaconda3\\envs\\TEST\\lib\\site-packages\\xgboost\\sklearn.py:793: UserWarning:\n",
      "\n",
      "`early_stopping_rounds` in `fit` method is deprecated for better compatibility with scikit-learn, use `early_stopping_rounds` in constructor or`set_params` instead.\n",
      "\n",
      "C:\\Users\\Oksana\\anaconda3\\envs\\TEST\\lib\\site-packages\\xgboost\\sklearn.py:793: UserWarning:\n",
      "\n",
      "`callbacks` in `fit` method is deprecated for better compatibility with scikit-learn, use `callbacks` in constructor or`set_params` instead.\n",
      "\n",
      "\u001b[32m[I 2022-08-03 21:44:10,530]\u001b[0m Trial 42 pruned. Trial was pruned at iteration 0.\u001b[0m\n",
      "C:\\Users\\Oksana\\anaconda3\\envs\\TEST\\lib\\site-packages\\xgboost\\sklearn.py:793: UserWarning:\n",
      "\n",
      "`eval_metric` in `fit` method is deprecated for better compatibility with scikit-learn, use `eval_metric` in constructor or`set_params` instead.\n",
      "\n",
      "C:\\Users\\Oksana\\anaconda3\\envs\\TEST\\lib\\site-packages\\xgboost\\sklearn.py:793: UserWarning:\n",
      "\n",
      "`early_stopping_rounds` in `fit` method is deprecated for better compatibility with scikit-learn, use `early_stopping_rounds` in constructor or`set_params` instead.\n",
      "\n",
      "C:\\Users\\Oksana\\anaconda3\\envs\\TEST\\lib\\site-packages\\xgboost\\sklearn.py:793: UserWarning:\n",
      "\n",
      "`callbacks` in `fit` method is deprecated for better compatibility with scikit-learn, use `callbacks` in constructor or`set_params` instead.\n",
      "\n"
     ]
    },
    {
     "name": "stdout",
     "output_type": "stream",
     "text": [
      "[0]\tvalidation_0-mlogloss:1.69482\tvalidation_1-mlogloss:1.69558\n",
      "[50]\tvalidation_0-mlogloss:0.45945\tvalidation_1-mlogloss:0.48150\n",
      "[100]\tvalidation_0-mlogloss:0.31772\tvalidation_1-mlogloss:0.35482\n",
      "[150]\tvalidation_0-mlogloss:0.26618\tvalidation_1-mlogloss:0.31358\n",
      "[200]\tvalidation_0-mlogloss:0.23836\tvalidation_1-mlogloss:0.29209\n",
      "[250]\tvalidation_0-mlogloss:0.21925\tvalidation_1-mlogloss:0.27697\n",
      "[300]\tvalidation_0-mlogloss:0.20298\tvalidation_1-mlogloss:0.26381\n",
      "[350]\tvalidation_0-mlogloss:0.18802\tvalidation_1-mlogloss:0.25164\n",
      "[400]\tvalidation_0-mlogloss:0.17496\tvalidation_1-mlogloss:0.24159\n",
      "[450]\tvalidation_0-mlogloss:0.16277\tvalidation_1-mlogloss:0.23216\n",
      "[500]\tvalidation_0-mlogloss:0.15212\tvalidation_1-mlogloss:0.22365\n",
      "[550]\tvalidation_0-mlogloss:0.14233\tvalidation_1-mlogloss:0.21610\n",
      "[600]\tvalidation_0-mlogloss:0.13277\tvalidation_1-mlogloss:0.20816\n",
      "[650]\tvalidation_0-mlogloss:0.12470\tvalidation_1-mlogloss:0.20177\n",
      "[700]\tvalidation_0-mlogloss:0.11774\tvalidation_1-mlogloss:0.19637\n",
      "[750]\tvalidation_0-mlogloss:0.11117\tvalidation_1-mlogloss:0.19122\n",
      "[800]\tvalidation_0-mlogloss:0.10492\tvalidation_1-mlogloss:0.18620\n",
      "[850]\tvalidation_0-mlogloss:0.09908\tvalidation_1-mlogloss:0.18157\n",
      "[900]\tvalidation_0-mlogloss:0.09366\tvalidation_1-mlogloss:0.17711\n",
      "[950]\tvalidation_0-mlogloss:0.08833\tvalidation_1-mlogloss:0.17297\n",
      "[1000]\tvalidation_0-mlogloss:0.08311\tvalidation_1-mlogloss:0.16828\n",
      "[1050]\tvalidation_0-mlogloss:0.07919\tvalidation_1-mlogloss:0.16481\n",
      "[1100]\tvalidation_0-mlogloss:0.07487\tvalidation_1-mlogloss:0.16116\n",
      "[1150]\tvalidation_0-mlogloss:0.07083\tvalidation_1-mlogloss:0.15741\n",
      "[1200]\tvalidation_0-mlogloss:0.06696\tvalidation_1-mlogloss:0.15386\n",
      "[1234]\tvalidation_0-mlogloss:0.06492\tvalidation_1-mlogloss:0.15224\n"
     ]
    },
    {
     "name": "stderr",
     "output_type": "stream",
     "text": [
      "\u001b[32m[I 2022-08-03 21:48:04,145]\u001b[0m Trial 43 finished with value: 0.8967168564095499 and parameters: {'n_estimators': 1235, 'max_depth': 9, 'learning_rate': 0.04256889222601462, 'subsample': 1.0, 'colsample_bylevel': 0.9, 'reg_lambda': 6.304032445460351, 'reg_alpha': 0.0015728988834700366}. Best is trial 32 with value: 0.9278230740575764.\u001b[0m\n",
      "C:\\Users\\Oksana\\anaconda3\\envs\\TEST\\lib\\site-packages\\xgboost\\sklearn.py:793: UserWarning:\n",
      "\n",
      "`eval_metric` in `fit` method is deprecated for better compatibility with scikit-learn, use `eval_metric` in constructor or`set_params` instead.\n",
      "\n",
      "C:\\Users\\Oksana\\anaconda3\\envs\\TEST\\lib\\site-packages\\xgboost\\sklearn.py:793: UserWarning:\n",
      "\n",
      "`early_stopping_rounds` in `fit` method is deprecated for better compatibility with scikit-learn, use `early_stopping_rounds` in constructor or`set_params` instead.\n",
      "\n",
      "C:\\Users\\Oksana\\anaconda3\\envs\\TEST\\lib\\site-packages\\xgboost\\sklearn.py:793: UserWarning:\n",
      "\n",
      "`callbacks` in `fit` method is deprecated for better compatibility with scikit-learn, use `callbacks` in constructor or`set_params` instead.\n",
      "\n"
     ]
    },
    {
     "name": "stdout",
     "output_type": "stream",
     "text": [
      "[0]\tvalidation_0-mlogloss:1.58368\tvalidation_1-mlogloss:1.58530\n",
      "[50]\tvalidation_0-mlogloss:0.28851\tvalidation_1-mlogloss:0.33428\n",
      "[100]\tvalidation_0-mlogloss:0.21408\tvalidation_1-mlogloss:0.27523\n",
      "[150]\tvalidation_0-mlogloss:0.17667\tvalidation_1-mlogloss:0.24459\n",
      "[200]\tvalidation_0-mlogloss:0.14766\tvalidation_1-mlogloss:0.22154\n",
      "[250]\tvalidation_0-mlogloss:0.12446\tvalidation_1-mlogloss:0.20375\n",
      "[300]\tvalidation_0-mlogloss:0.10557\tvalidation_1-mlogloss:0.18858\n",
      "[350]\tvalidation_0-mlogloss:0.09101\tvalidation_1-mlogloss:0.17644\n",
      "[400]\tvalidation_0-mlogloss:0.07757\tvalidation_1-mlogloss:0.16524\n",
      "[450]\tvalidation_0-mlogloss:0.06759\tvalidation_1-mlogloss:0.15653\n",
      "[500]\tvalidation_0-mlogloss:0.05834\tvalidation_1-mlogloss:0.14830\n",
      "[550]\tvalidation_0-mlogloss:0.05081\tvalidation_1-mlogloss:0.14144\n",
      "[600]\tvalidation_0-mlogloss:0.04501\tvalidation_1-mlogloss:0.13631\n",
      "[650]\tvalidation_0-mlogloss:0.04033\tvalidation_1-mlogloss:0.13221\n",
      "[700]\tvalidation_0-mlogloss:0.03570\tvalidation_1-mlogloss:0.12819\n",
      "[750]\tvalidation_0-mlogloss:0.03172\tvalidation_1-mlogloss:0.12484\n",
      "[800]\tvalidation_0-mlogloss:0.02822\tvalidation_1-mlogloss:0.12148\n",
      "[850]\tvalidation_0-mlogloss:0.02526\tvalidation_1-mlogloss:0.11849\n",
      "[900]\tvalidation_0-mlogloss:0.02279\tvalidation_1-mlogloss:0.11628\n",
      "[950]\tvalidation_0-mlogloss:0.02059\tvalidation_1-mlogloss:0.11408\n",
      "[1000]\tvalidation_0-mlogloss:0.01873\tvalidation_1-mlogloss:0.11224\n",
      "[1003]\tvalidation_0-mlogloss:0.01859\tvalidation_1-mlogloss:0.11208\n"
     ]
    },
    {
     "name": "stderr",
     "output_type": "stream",
     "text": [
      "\u001b[32m[I 2022-08-03 21:50:45,219]\u001b[0m Trial 44 finished with value: 0.9207053662487787 and parameters: {'n_estimators': 1004, 'max_depth': 9, 'learning_rate': 0.09259654011378693, 'subsample': 1.0, 'colsample_bylevel': 0.6, 'reg_lambda': 2.0066805458685892, 'reg_alpha': 0.009605186452400752}. Best is trial 32 with value: 0.9278230740575764.\u001b[0m\n",
      "C:\\Users\\Oksana\\anaconda3\\envs\\TEST\\lib\\site-packages\\xgboost\\sklearn.py:793: UserWarning:\n",
      "\n",
      "`eval_metric` in `fit` method is deprecated for better compatibility with scikit-learn, use `eval_metric` in constructor or`set_params` instead.\n",
      "\n",
      "C:\\Users\\Oksana\\anaconda3\\envs\\TEST\\lib\\site-packages\\xgboost\\sklearn.py:793: UserWarning:\n",
      "\n",
      "`early_stopping_rounds` in `fit` method is deprecated for better compatibility with scikit-learn, use `early_stopping_rounds` in constructor or`set_params` instead.\n",
      "\n",
      "C:\\Users\\Oksana\\anaconda3\\envs\\TEST\\lib\\site-packages\\xgboost\\sklearn.py:793: UserWarning:\n",
      "\n",
      "`callbacks` in `fit` method is deprecated for better compatibility with scikit-learn, use `callbacks` in constructor or`set_params` instead.\n",
      "\n"
     ]
    },
    {
     "name": "stdout",
     "output_type": "stream",
     "text": [
      "[0]\tvalidation_0-mlogloss:1.75738\tvalidation_1-mlogloss:1.75762\n",
      "[50]\tvalidation_0-mlogloss:0.89579\tvalidation_1-mlogloss:0.90444\n",
      "[100]\tvalidation_0-mlogloss:0.59414\tvalidation_1-mlogloss:0.60890\n",
      "[150]\tvalidation_0-mlogloss:0.45736\tvalidation_1-mlogloss:0.47823\n",
      "[200]\tvalidation_0-mlogloss:0.38744\tvalidation_1-mlogloss:0.41399\n",
      "[250]\tvalidation_0-mlogloss:0.34703\tvalidation_1-mlogloss:0.37873\n",
      "[300]\tvalidation_0-mlogloss:0.32000\tvalidation_1-mlogloss:0.35620\n",
      "[350]\tvalidation_0-mlogloss:0.29795\tvalidation_1-mlogloss:0.33850\n",
      "[400]\tvalidation_0-mlogloss:0.28010\tvalidation_1-mlogloss:0.32440\n",
      "[450]\tvalidation_0-mlogloss:0.26602\tvalidation_1-mlogloss:0.31312\n",
      "[500]\tvalidation_0-mlogloss:0.25401\tvalidation_1-mlogloss:0.30367\n",
      "[550]\tvalidation_0-mlogloss:0.24295\tvalidation_1-mlogloss:0.29492\n",
      "[600]\tvalidation_0-mlogloss:0.23333\tvalidation_1-mlogloss:0.28732\n",
      "[650]\tvalidation_0-mlogloss:0.22432\tvalidation_1-mlogloss:0.28006\n",
      "[700]\tvalidation_0-mlogloss:0.21622\tvalidation_1-mlogloss:0.27360\n",
      "[750]\tvalidation_0-mlogloss:0.20842\tvalidation_1-mlogloss:0.26747\n",
      "[800]\tvalidation_0-mlogloss:0.20081\tvalidation_1-mlogloss:0.26158\n",
      "[850]\tvalidation_0-mlogloss:0.19388\tvalidation_1-mlogloss:0.25631\n",
      "[900]\tvalidation_0-mlogloss:0.18744\tvalidation_1-mlogloss:0.25123\n",
      "[950]\tvalidation_0-mlogloss:0.18128\tvalidation_1-mlogloss:0.24647\n",
      "[1000]\tvalidation_0-mlogloss:0.17543\tvalidation_1-mlogloss:0.24208\n",
      "[1050]\tvalidation_0-mlogloss:0.16945\tvalidation_1-mlogloss:0.23733\n",
      "[1100]\tvalidation_0-mlogloss:0.16409\tvalidation_1-mlogloss:0.23313\n",
      "[1150]\tvalidation_0-mlogloss:0.15906\tvalidation_1-mlogloss:0.22925\n",
      "[1200]\tvalidation_0-mlogloss:0.15411\tvalidation_1-mlogloss:0.22523\n",
      "[1250]\tvalidation_0-mlogloss:0.14951\tvalidation_1-mlogloss:0.22162\n",
      "[1277]\tvalidation_0-mlogloss:0.14715\tvalidation_1-mlogloss:0.21974\n"
     ]
    },
    {
     "name": "stderr",
     "output_type": "stream",
     "text": [
      "\u001b[32m[I 2022-08-03 21:55:47,924]\u001b[0m Trial 45 finished with value: 0.8480176598139566 and parameters: {'n_estimators': 1278, 'max_depth': 9, 'learning_rate': 0.014977452531306445, 'subsample': 0.9, 'colsample_bylevel': 0.9, 'reg_lambda': 0.7282578354474544, 'reg_alpha': 3.9234055017364984}. Best is trial 32 with value: 0.9278230740575764.\u001b[0m\n",
      "C:\\Users\\Oksana\\anaconda3\\envs\\TEST\\lib\\site-packages\\xgboost\\sklearn.py:793: UserWarning:\n",
      "\n",
      "`eval_metric` in `fit` method is deprecated for better compatibility with scikit-learn, use `eval_metric` in constructor or`set_params` instead.\n",
      "\n",
      "C:\\Users\\Oksana\\anaconda3\\envs\\TEST\\lib\\site-packages\\xgboost\\sklearn.py:793: UserWarning:\n",
      "\n",
      "`early_stopping_rounds` in `fit` method is deprecated for better compatibility with scikit-learn, use `early_stopping_rounds` in constructor or`set_params` instead.\n",
      "\n",
      "C:\\Users\\Oksana\\anaconda3\\envs\\TEST\\lib\\site-packages\\xgboost\\sklearn.py:793: UserWarning:\n",
      "\n",
      "`callbacks` in `fit` method is deprecated for better compatibility with scikit-learn, use `callbacks` in constructor or`set_params` instead.\n",
      "\n"
     ]
    },
    {
     "name": "stdout",
     "output_type": "stream",
     "text": [
      "[0]\tvalidation_0-mlogloss:0.71886\tvalidation_1-mlogloss:0.73240\n"
     ]
    },
    {
     "name": "stderr",
     "output_type": "stream",
     "text": [
      "\u001b[32m[I 2022-08-03 21:55:48,818]\u001b[0m Trial 46 pruned. Trial was pruned at iteration 0.\u001b[0m\n",
      "C:\\Users\\Oksana\\anaconda3\\envs\\TEST\\lib\\site-packages\\xgboost\\sklearn.py:793: UserWarning:\n",
      "\n",
      "`eval_metric` in `fit` method is deprecated for better compatibility with scikit-learn, use `eval_metric` in constructor or`set_params` instead.\n",
      "\n",
      "C:\\Users\\Oksana\\anaconda3\\envs\\TEST\\lib\\site-packages\\xgboost\\sklearn.py:793: UserWarning:\n",
      "\n",
      "`early_stopping_rounds` in `fit` method is deprecated for better compatibility with scikit-learn, use `early_stopping_rounds` in constructor or`set_params` instead.\n",
      "\n",
      "C:\\Users\\Oksana\\anaconda3\\envs\\TEST\\lib\\site-packages\\xgboost\\sklearn.py:793: UserWarning:\n",
      "\n",
      "`callbacks` in `fit` method is deprecated for better compatibility with scikit-learn, use `callbacks` in constructor or`set_params` instead.\n",
      "\n",
      "\u001b[32m[I 2022-08-03 21:55:49,502]\u001b[0m Trial 47 pruned. Trial was pruned at iteration 0.\u001b[0m\n",
      "C:\\Users\\Oksana\\anaconda3\\envs\\TEST\\lib\\site-packages\\xgboost\\sklearn.py:793: UserWarning:\n",
      "\n",
      "`eval_metric` in `fit` method is deprecated for better compatibility with scikit-learn, use `eval_metric` in constructor or`set_params` instead.\n",
      "\n",
      "C:\\Users\\Oksana\\anaconda3\\envs\\TEST\\lib\\site-packages\\xgboost\\sklearn.py:793: UserWarning:\n",
      "\n",
      "`early_stopping_rounds` in `fit` method is deprecated for better compatibility with scikit-learn, use `early_stopping_rounds` in constructor or`set_params` instead.\n",
      "\n",
      "C:\\Users\\Oksana\\anaconda3\\envs\\TEST\\lib\\site-packages\\xgboost\\sklearn.py:793: UserWarning:\n",
      "\n",
      "`callbacks` in `fit` method is deprecated for better compatibility with scikit-learn, use `callbacks` in constructor or`set_params` instead.\n",
      "\n",
      "\u001b[32m[I 2022-08-03 21:55:50,344]\u001b[0m Trial 48 pruned. Trial was pruned at iteration 0.\u001b[0m\n",
      "C:\\Users\\Oksana\\anaconda3\\envs\\TEST\\lib\\site-packages\\xgboost\\sklearn.py:793: UserWarning:\n",
      "\n",
      "`eval_metric` in `fit` method is deprecated for better compatibility with scikit-learn, use `eval_metric` in constructor or`set_params` instead.\n",
      "\n",
      "C:\\Users\\Oksana\\anaconda3\\envs\\TEST\\lib\\site-packages\\xgboost\\sklearn.py:793: UserWarning:\n",
      "\n",
      "`early_stopping_rounds` in `fit` method is deprecated for better compatibility with scikit-learn, use `early_stopping_rounds` in constructor or`set_params` instead.\n",
      "\n",
      "C:\\Users\\Oksana\\anaconda3\\envs\\TEST\\lib\\site-packages\\xgboost\\sklearn.py:793: UserWarning:\n",
      "\n",
      "`callbacks` in `fit` method is deprecated for better compatibility with scikit-learn, use `callbacks` in constructor or`set_params` instead.\n",
      "\n",
      "\u001b[32m[I 2022-08-03 21:55:50,973]\u001b[0m Trial 49 pruned. Trial was pruned at iteration 0.\u001b[0m\n"
     ]
    }
   ],
   "source": [
    "study = optuna.create_study(direction='maximize')\n",
    "study.optimize(run, n_trials=50)"
   ]
  },
  {
   "cell_type": "code",
   "execution_count": 173,
   "metadata": {},
   "outputs": [
    {
     "data": {
      "application/vnd.plotly.v1+json": {
       "config": {
        "plotlyServerURL": "https://plot.ly"
       },
       "data": [
        {
         "dimensions": [
          {
           "label": "Objective Value",
           "range": [
            0.518198057731992,
            0.9278230740575764
           ],
           "values": [
            0.8967602745560722,
            0.9143796294169614,
            0.8163061269664831,
            0.910441053041654,
            0.7402093012505893,
            0.9207053662487787,
            0.9159084036339008,
            0.9263493033289019,
            0.9253499462162056,
            0.9273540806836547,
            0.891547003843691,
            0.8990555150616097,
            0.9170157685324553,
            0.9259178781935213,
            0.926646837351568,
            0.926758286082049,
            0.84823758833284,
            0.9267744222205516,
            0.9278230740575764,
            0.8480176598139566,
            0.518198057731992,
            0.9268202564717561,
            0.9257341392250195,
            0.8967168564095499,
            0.9230879677609882
           ]
          },
          {
           "label": "colsample_bylevel",
           "range": [
            0,
            5
           ],
           "ticktext": [
            0.4,
            0.5,
            0.6,
            0.8,
            0.9,
            1
           ],
           "tickvals": [
            0,
            1,
            2,
            3,
            4,
            5
           ],
           "values": [
            0,
            0,
            1,
            2,
            2,
            2,
            3,
            3,
            3,
            3,
            4,
            4,
            4,
            4,
            4,
            4,
            4,
            4,
            4,
            4,
            4,
            4,
            4,
            4,
            5
           ]
          },
          {
           "label": "learning_rate",
           "range": [
            0.009188097722870964,
            0.5979353003733764
           ],
           "values": [
            0.04920529571649118,
            0.0762823683491904,
            0.09151825116103024,
            0.08585809843630281,
            0.19830666266888286,
            0.09259654011378693,
            0.5979353003733764,
            0.2503262908832366,
            0.06410924508847152,
            0.31297321970563313,
            0.030192807754922057,
            0.125091952498079,
            0.1078497794291817,
            0.19543574075908532,
            0.1548012505470977,
            0.14124782097985328,
            0.009188097722870964,
            0.14247777131451203,
            0.10846692523927018,
            0.014977452531306445,
            0.14837488461957715,
            0.106968234555816,
            0.10560064122336561,
            0.04256889222601462,
            0.13323196849667177
           ]
          },
          {
           "label": "max_depth",
           "range": [
            9,
            10
           ],
           "values": [
            9,
            9,
            9,
            10,
            10,
            9,
            9,
            10,
            9,
            9,
            9,
            9,
            9,
            9,
            9,
            9,
            9,
            9,
            9,
            9,
            10,
            9,
            9,
            9,
            9
           ]
          },
          {
           "label": "n_estimators",
           "range": [
            1004,
            1291
           ],
           "values": [
            1229,
            1123,
            1184,
            1023,
            1208,
            1004,
            1129,
            1284,
            1251,
            1291,
            1240,
            1162,
            1211,
            1291,
            1268,
            1264,
            1252,
            1239,
            1238,
            1278,
            1055,
            1241,
            1246,
            1235,
            1270
           ]
          },
          {
           "label": "reg_alpha",
           "range": [
            -2.8032991958525666,
            1.9853069133035877
           ],
           "ticktext": [
            "0.00157",
            "0.01",
            "0.1",
            "1",
            "10",
            "96.7"
           ],
           "tickvals": [
            -2.8032991958525666,
            -2,
            -1,
            0,
            1,
            1.9853069133035877
           ],
           "values": [
            -2.2024415416125604,
            -0.41441786838846656,
            0.04387947559155836,
            -2.74532222493193,
            1.5453030177921891,
            -2.0174942003532665,
            -1.438588447665568,
            -0.8868370335204516,
            -2.734954252611526,
            -1.5750789353823313,
            -1.758868486231605,
            0.3732847296962364,
            -2.2338902435483985,
            -0.9869052945031163,
            -0.9816846358750153,
            -0.3617692397307805,
            -0.2836048683864676,
            -1.7250476974556541,
            -2.0076461227829765,
            0.5936631967518946,
            1.9853069133035877,
            -2.6030447457833112,
            -2.6114914805839065,
            -2.8032991958525666,
            -1.5164632706318395
           ]
          },
          {
           "label": "reg_lambda",
           "range": [
            -2.9969143527737088,
            1.9359319493879068
           ],
           "ticktext": [
            "0.00101",
            "0.01",
            "0.1",
            "1",
            "10",
            "86.3"
           ],
           "tickvals": [
            -2.9969143527737088,
            -2,
            -1,
            0,
            1,
            1.9359319493879068
           ],
           "values": [
            -2.0221515517806137,
            -0.667824625981192,
            1.9359319493879068,
            0.6149694787299739,
            -0.018567645938049673,
            0.3024782403454526,
            -0.07758246995828369,
            -1.78212631630504,
            -2.2610423570045937,
            -0.6878813889434608,
            -2.4583222945792778,
            -2.9969143527737088,
            -2.766627217191643,
            -1.8827061450894778,
            -2.4415352204573018,
            -2.563949526814273,
            -2.6935964248729167,
            -2.4327349147533637,
            -2.3289430263357493,
            -0.13771483402842902,
            -0.4470628541160289,
            0.22781701263893536,
            0.2144793617791888,
            0.79961843970487,
            -0.21625430416911545
           ]
          },
          {
           "label": "subsample",
           "range": [
            0,
            6
           ],
           "ticktext": [
            0.4,
            0.5,
            0.6,
            0.7,
            0.8,
            0.9,
            1
           ],
           "tickvals": [
            0,
            1,
            2,
            3,
            4,
            5,
            6
           ],
           "values": [
            1,
            4,
            0,
            3,
            5,
            6,
            4,
            5,
            5,
            6,
            1,
            2,
            3,
            5,
            5,
            5,
            5,
            5,
            5,
            5,
            6,
            6,
            6,
            6,
            4
           ]
          }
         ],
         "labelangle": 30,
         "labelside": "bottom",
         "line": {
          "color": [
           0.8967602745560722,
           0.9143796294169614,
           0.8163061269664831,
           0.910441053041654,
           0.7402093012505893,
           0.9207053662487787,
           0.9159084036339008,
           0.9263493033289019,
           0.9253499462162056,
           0.9273540806836547,
           0.891547003843691,
           0.8990555150616097,
           0.9170157685324553,
           0.9259178781935213,
           0.926646837351568,
           0.926758286082049,
           0.84823758833284,
           0.9267744222205516,
           0.9278230740575764,
           0.8480176598139566,
           0.518198057731992,
           0.9268202564717561,
           0.9257341392250195,
           0.8967168564095499,
           0.9230879677609882
          ],
          "colorbar": {
           "title": {
            "text": "Objective Value"
           }
          },
          "colorscale": [
           [
            0,
            "rgb(247,251,255)"
           ],
           [
            0.125,
            "rgb(222,235,247)"
           ],
           [
            0.25,
            "rgb(198,219,239)"
           ],
           [
            0.375,
            "rgb(158,202,225)"
           ],
           [
            0.5,
            "rgb(107,174,214)"
           ],
           [
            0.625,
            "rgb(66,146,198)"
           ],
           [
            0.75,
            "rgb(33,113,181)"
           ],
           [
            0.875,
            "rgb(8,81,156)"
           ],
           [
            1,
            "rgb(8,48,107)"
           ]
          ],
          "reversescale": false,
          "showscale": true
         },
         "type": "parcoords"
        }
       ],
       "layout": {
        "template": {
         "data": {
          "bar": [
           {
            "error_x": {
             "color": "#2a3f5f"
            },
            "error_y": {
             "color": "#2a3f5f"
            },
            "marker": {
             "line": {
              "color": "#E5ECF6",
              "width": 0.5
             },
             "pattern": {
              "fillmode": "overlay",
              "size": 10,
              "solidity": 0.2
             }
            },
            "type": "bar"
           }
          ],
          "barpolar": [
           {
            "marker": {
             "line": {
              "color": "#E5ECF6",
              "width": 0.5
             },
             "pattern": {
              "fillmode": "overlay",
              "size": 10,
              "solidity": 0.2
             }
            },
            "type": "barpolar"
           }
          ],
          "carpet": [
           {
            "aaxis": {
             "endlinecolor": "#2a3f5f",
             "gridcolor": "white",
             "linecolor": "white",
             "minorgridcolor": "white",
             "startlinecolor": "#2a3f5f"
            },
            "baxis": {
             "endlinecolor": "#2a3f5f",
             "gridcolor": "white",
             "linecolor": "white",
             "minorgridcolor": "white",
             "startlinecolor": "#2a3f5f"
            },
            "type": "carpet"
           }
          ],
          "choropleth": [
           {
            "colorbar": {
             "outlinewidth": 0,
             "ticks": ""
            },
            "type": "choropleth"
           }
          ],
          "contour": [
           {
            "colorbar": {
             "outlinewidth": 0,
             "ticks": ""
            },
            "colorscale": [
             [
              0,
              "#0d0887"
             ],
             [
              0.1111111111111111,
              "#46039f"
             ],
             [
              0.2222222222222222,
              "#7201a8"
             ],
             [
              0.3333333333333333,
              "#9c179e"
             ],
             [
              0.4444444444444444,
              "#bd3786"
             ],
             [
              0.5555555555555556,
              "#d8576b"
             ],
             [
              0.6666666666666666,
              "#ed7953"
             ],
             [
              0.7777777777777778,
              "#fb9f3a"
             ],
             [
              0.8888888888888888,
              "#fdca26"
             ],
             [
              1,
              "#f0f921"
             ]
            ],
            "type": "contour"
           }
          ],
          "contourcarpet": [
           {
            "colorbar": {
             "outlinewidth": 0,
             "ticks": ""
            },
            "type": "contourcarpet"
           }
          ],
          "heatmap": [
           {
            "colorbar": {
             "outlinewidth": 0,
             "ticks": ""
            },
            "colorscale": [
             [
              0,
              "#0d0887"
             ],
             [
              0.1111111111111111,
              "#46039f"
             ],
             [
              0.2222222222222222,
              "#7201a8"
             ],
             [
              0.3333333333333333,
              "#9c179e"
             ],
             [
              0.4444444444444444,
              "#bd3786"
             ],
             [
              0.5555555555555556,
              "#d8576b"
             ],
             [
              0.6666666666666666,
              "#ed7953"
             ],
             [
              0.7777777777777778,
              "#fb9f3a"
             ],
             [
              0.8888888888888888,
              "#fdca26"
             ],
             [
              1,
              "#f0f921"
             ]
            ],
            "type": "heatmap"
           }
          ],
          "heatmapgl": [
           {
            "colorbar": {
             "outlinewidth": 0,
             "ticks": ""
            },
            "colorscale": [
             [
              0,
              "#0d0887"
             ],
             [
              0.1111111111111111,
              "#46039f"
             ],
             [
              0.2222222222222222,
              "#7201a8"
             ],
             [
              0.3333333333333333,
              "#9c179e"
             ],
             [
              0.4444444444444444,
              "#bd3786"
             ],
             [
              0.5555555555555556,
              "#d8576b"
             ],
             [
              0.6666666666666666,
              "#ed7953"
             ],
             [
              0.7777777777777778,
              "#fb9f3a"
             ],
             [
              0.8888888888888888,
              "#fdca26"
             ],
             [
              1,
              "#f0f921"
             ]
            ],
            "type": "heatmapgl"
           }
          ],
          "histogram": [
           {
            "marker": {
             "pattern": {
              "fillmode": "overlay",
              "size": 10,
              "solidity": 0.2
             }
            },
            "type": "histogram"
           }
          ],
          "histogram2d": [
           {
            "colorbar": {
             "outlinewidth": 0,
             "ticks": ""
            },
            "colorscale": [
             [
              0,
              "#0d0887"
             ],
             [
              0.1111111111111111,
              "#46039f"
             ],
             [
              0.2222222222222222,
              "#7201a8"
             ],
             [
              0.3333333333333333,
              "#9c179e"
             ],
             [
              0.4444444444444444,
              "#bd3786"
             ],
             [
              0.5555555555555556,
              "#d8576b"
             ],
             [
              0.6666666666666666,
              "#ed7953"
             ],
             [
              0.7777777777777778,
              "#fb9f3a"
             ],
             [
              0.8888888888888888,
              "#fdca26"
             ],
             [
              1,
              "#f0f921"
             ]
            ],
            "type": "histogram2d"
           }
          ],
          "histogram2dcontour": [
           {
            "colorbar": {
             "outlinewidth": 0,
             "ticks": ""
            },
            "colorscale": [
             [
              0,
              "#0d0887"
             ],
             [
              0.1111111111111111,
              "#46039f"
             ],
             [
              0.2222222222222222,
              "#7201a8"
             ],
             [
              0.3333333333333333,
              "#9c179e"
             ],
             [
              0.4444444444444444,
              "#bd3786"
             ],
             [
              0.5555555555555556,
              "#d8576b"
             ],
             [
              0.6666666666666666,
              "#ed7953"
             ],
             [
              0.7777777777777778,
              "#fb9f3a"
             ],
             [
              0.8888888888888888,
              "#fdca26"
             ],
             [
              1,
              "#f0f921"
             ]
            ],
            "type": "histogram2dcontour"
           }
          ],
          "mesh3d": [
           {
            "colorbar": {
             "outlinewidth": 0,
             "ticks": ""
            },
            "type": "mesh3d"
           }
          ],
          "parcoords": [
           {
            "line": {
             "colorbar": {
              "outlinewidth": 0,
              "ticks": ""
             }
            },
            "type": "parcoords"
           }
          ],
          "pie": [
           {
            "automargin": true,
            "type": "pie"
           }
          ],
          "scatter": [
           {
            "fillpattern": {
             "fillmode": "overlay",
             "size": 10,
             "solidity": 0.2
            },
            "type": "scatter"
           }
          ],
          "scatter3d": [
           {
            "line": {
             "colorbar": {
              "outlinewidth": 0,
              "ticks": ""
             }
            },
            "marker": {
             "colorbar": {
              "outlinewidth": 0,
              "ticks": ""
             }
            },
            "type": "scatter3d"
           }
          ],
          "scattercarpet": [
           {
            "marker": {
             "colorbar": {
              "outlinewidth": 0,
              "ticks": ""
             }
            },
            "type": "scattercarpet"
           }
          ],
          "scattergeo": [
           {
            "marker": {
             "colorbar": {
              "outlinewidth": 0,
              "ticks": ""
             }
            },
            "type": "scattergeo"
           }
          ],
          "scattergl": [
           {
            "marker": {
             "colorbar": {
              "outlinewidth": 0,
              "ticks": ""
             }
            },
            "type": "scattergl"
           }
          ],
          "scattermapbox": [
           {
            "marker": {
             "colorbar": {
              "outlinewidth": 0,
              "ticks": ""
             }
            },
            "type": "scattermapbox"
           }
          ],
          "scatterpolar": [
           {
            "marker": {
             "colorbar": {
              "outlinewidth": 0,
              "ticks": ""
             }
            },
            "type": "scatterpolar"
           }
          ],
          "scatterpolargl": [
           {
            "marker": {
             "colorbar": {
              "outlinewidth": 0,
              "ticks": ""
             }
            },
            "type": "scatterpolargl"
           }
          ],
          "scatterternary": [
           {
            "marker": {
             "colorbar": {
              "outlinewidth": 0,
              "ticks": ""
             }
            },
            "type": "scatterternary"
           }
          ],
          "surface": [
           {
            "colorbar": {
             "outlinewidth": 0,
             "ticks": ""
            },
            "colorscale": [
             [
              0,
              "#0d0887"
             ],
             [
              0.1111111111111111,
              "#46039f"
             ],
             [
              0.2222222222222222,
              "#7201a8"
             ],
             [
              0.3333333333333333,
              "#9c179e"
             ],
             [
              0.4444444444444444,
              "#bd3786"
             ],
             [
              0.5555555555555556,
              "#d8576b"
             ],
             [
              0.6666666666666666,
              "#ed7953"
             ],
             [
              0.7777777777777778,
              "#fb9f3a"
             ],
             [
              0.8888888888888888,
              "#fdca26"
             ],
             [
              1,
              "#f0f921"
             ]
            ],
            "type": "surface"
           }
          ],
          "table": [
           {
            "cells": {
             "fill": {
              "color": "#EBF0F8"
             },
             "line": {
              "color": "white"
             }
            },
            "header": {
             "fill": {
              "color": "#C8D4E3"
             },
             "line": {
              "color": "white"
             }
            },
            "type": "table"
           }
          ]
         },
         "layout": {
          "annotationdefaults": {
           "arrowcolor": "#2a3f5f",
           "arrowhead": 0,
           "arrowwidth": 1
          },
          "autotypenumbers": "strict",
          "coloraxis": {
           "colorbar": {
            "outlinewidth": 0,
            "ticks": ""
           }
          },
          "colorscale": {
           "diverging": [
            [
             0,
             "#8e0152"
            ],
            [
             0.1,
             "#c51b7d"
            ],
            [
             0.2,
             "#de77ae"
            ],
            [
             0.3,
             "#f1b6da"
            ],
            [
             0.4,
             "#fde0ef"
            ],
            [
             0.5,
             "#f7f7f7"
            ],
            [
             0.6,
             "#e6f5d0"
            ],
            [
             0.7,
             "#b8e186"
            ],
            [
             0.8,
             "#7fbc41"
            ],
            [
             0.9,
             "#4d9221"
            ],
            [
             1,
             "#276419"
            ]
           ],
           "sequential": [
            [
             0,
             "#0d0887"
            ],
            [
             0.1111111111111111,
             "#46039f"
            ],
            [
             0.2222222222222222,
             "#7201a8"
            ],
            [
             0.3333333333333333,
             "#9c179e"
            ],
            [
             0.4444444444444444,
             "#bd3786"
            ],
            [
             0.5555555555555556,
             "#d8576b"
            ],
            [
             0.6666666666666666,
             "#ed7953"
            ],
            [
             0.7777777777777778,
             "#fb9f3a"
            ],
            [
             0.8888888888888888,
             "#fdca26"
            ],
            [
             1,
             "#f0f921"
            ]
           ],
           "sequentialminus": [
            [
             0,
             "#0d0887"
            ],
            [
             0.1111111111111111,
             "#46039f"
            ],
            [
             0.2222222222222222,
             "#7201a8"
            ],
            [
             0.3333333333333333,
             "#9c179e"
            ],
            [
             0.4444444444444444,
             "#bd3786"
            ],
            [
             0.5555555555555556,
             "#d8576b"
            ],
            [
             0.6666666666666666,
             "#ed7953"
            ],
            [
             0.7777777777777778,
             "#fb9f3a"
            ],
            [
             0.8888888888888888,
             "#fdca26"
            ],
            [
             1,
             "#f0f921"
            ]
           ]
          },
          "colorway": [
           "#636efa",
           "#EF553B",
           "#00cc96",
           "#ab63fa",
           "#FFA15A",
           "#19d3f3",
           "#FF6692",
           "#B6E880",
           "#FF97FF",
           "#FECB52"
          ],
          "font": {
           "color": "#2a3f5f"
          },
          "geo": {
           "bgcolor": "white",
           "lakecolor": "white",
           "landcolor": "#E5ECF6",
           "showlakes": true,
           "showland": true,
           "subunitcolor": "white"
          },
          "hoverlabel": {
           "align": "left"
          },
          "hovermode": "closest",
          "mapbox": {
           "style": "light"
          },
          "paper_bgcolor": "white",
          "plot_bgcolor": "#E5ECF6",
          "polar": {
           "angularaxis": {
            "gridcolor": "white",
            "linecolor": "white",
            "ticks": ""
           },
           "bgcolor": "#E5ECF6",
           "radialaxis": {
            "gridcolor": "white",
            "linecolor": "white",
            "ticks": ""
           }
          },
          "scene": {
           "xaxis": {
            "backgroundcolor": "#E5ECF6",
            "gridcolor": "white",
            "gridwidth": 2,
            "linecolor": "white",
            "showbackground": true,
            "ticks": "",
            "zerolinecolor": "white"
           },
           "yaxis": {
            "backgroundcolor": "#E5ECF6",
            "gridcolor": "white",
            "gridwidth": 2,
            "linecolor": "white",
            "showbackground": true,
            "ticks": "",
            "zerolinecolor": "white"
           },
           "zaxis": {
            "backgroundcolor": "#E5ECF6",
            "gridcolor": "white",
            "gridwidth": 2,
            "linecolor": "white",
            "showbackground": true,
            "ticks": "",
            "zerolinecolor": "white"
           }
          },
          "shapedefaults": {
           "line": {
            "color": "#2a3f5f"
           }
          },
          "ternary": {
           "aaxis": {
            "gridcolor": "white",
            "linecolor": "white",
            "ticks": ""
           },
           "baxis": {
            "gridcolor": "white",
            "linecolor": "white",
            "ticks": ""
           },
           "bgcolor": "#E5ECF6",
           "caxis": {
            "gridcolor": "white",
            "linecolor": "white",
            "ticks": ""
           }
          },
          "title": {
           "x": 0.05
          },
          "xaxis": {
           "automargin": true,
           "gridcolor": "white",
           "linecolor": "white",
           "ticks": "",
           "title": {
            "standoff": 15
           },
           "zerolinecolor": "white",
           "zerolinewidth": 2
          },
          "yaxis": {
           "automargin": true,
           "gridcolor": "white",
           "linecolor": "white",
           "ticks": "",
           "title": {
            "standoff": 15
           },
           "zerolinecolor": "white",
           "zerolinewidth": 2
          }
         }
        },
        "title": {
         "text": "Parallel Coordinate Plot"
        }
       }
      },
      "text/html": [
       "<div>                            <div id=\"cb4e91ba-5234-4d8b-86ff-b6bdbe6ba802\" class=\"plotly-graph-div\" style=\"height:525px; width:100%;\"></div>            <script type=\"text/javascript\">                require([\"plotly\"], function(Plotly) {                    window.PLOTLYENV=window.PLOTLYENV || {};                                    if (document.getElementById(\"cb4e91ba-5234-4d8b-86ff-b6bdbe6ba802\")) {                    Plotly.newPlot(                        \"cb4e91ba-5234-4d8b-86ff-b6bdbe6ba802\",                        [{\"dimensions\":[{\"label\":\"Objective Value\",\"range\":[0.518198057731992,0.9278230740575764],\"values\":[0.8967602745560722,0.9143796294169614,0.8163061269664831,0.910441053041654,0.7402093012505893,0.9207053662487787,0.9159084036339008,0.9263493033289019,0.9253499462162056,0.9273540806836547,0.891547003843691,0.8990555150616097,0.9170157685324553,0.9259178781935213,0.926646837351568,0.926758286082049,0.84823758833284,0.9267744222205516,0.9278230740575764,0.8480176598139566,0.518198057731992,0.9268202564717561,0.9257341392250195,0.8967168564095499,0.9230879677609882]},{\"label\":\"colsample_bylevel\",\"range\":[0,5],\"ticktext\":[0.4,0.5,0.6,0.8,0.9,1.0],\"tickvals\":[0,1,2,3,4,5],\"values\":[0,0,1,2,2,2,3,3,3,3,4,4,4,4,4,4,4,4,4,4,4,4,4,4,5]},{\"label\":\"learning_rate\",\"range\":[0.009188097722870964,0.5979353003733764],\"values\":[0.04920529571649118,0.0762823683491904,0.09151825116103024,0.08585809843630281,0.19830666266888286,0.09259654011378693,0.5979353003733764,0.2503262908832366,0.06410924508847152,0.31297321970563313,0.030192807754922057,0.125091952498079,0.1078497794291817,0.19543574075908532,0.1548012505470977,0.14124782097985328,0.009188097722870964,0.14247777131451203,0.10846692523927018,0.014977452531306445,0.14837488461957715,0.106968234555816,0.10560064122336561,0.04256889222601462,0.13323196849667177]},{\"label\":\"max_depth\",\"range\":[9,10],\"values\":[9,9,9,10,10,9,9,10,9,9,9,9,9,9,9,9,9,9,9,9,10,9,9,9,9]},{\"label\":\"n_estimators\",\"range\":[1004,1291],\"values\":[1229,1123,1184,1023,1208,1004,1129,1284,1251,1291,1240,1162,1211,1291,1268,1264,1252,1239,1238,1278,1055,1241,1246,1235,1270]},{\"label\":\"reg_alpha\",\"range\":[-2.8032991958525666,1.9853069133035877],\"ticktext\":[\"0.00157\",\"0.01\",\"0.1\",\"1\",\"10\",\"96.7\"],\"tickvals\":[-2.8032991958525666,-2,-1,0,1,1.9853069133035877],\"values\":[-2.2024415416125604,-0.41441786838846656,0.04387947559155836,-2.74532222493193,1.5453030177921891,-2.0174942003532665,-1.438588447665568,-0.8868370335204516,-2.734954252611526,-1.5750789353823313,-1.758868486231605,0.3732847296962364,-2.2338902435483985,-0.9869052945031163,-0.9816846358750153,-0.3617692397307805,-0.2836048683864676,-1.7250476974556541,-2.0076461227829765,0.5936631967518946,1.9853069133035877,-2.6030447457833112,-2.6114914805839065,-2.8032991958525666,-1.5164632706318395]},{\"label\":\"reg_lambda\",\"range\":[-2.9969143527737088,1.9359319493879068],\"ticktext\":[\"0.00101\",\"0.01\",\"0.1\",\"1\",\"10\",\"86.3\"],\"tickvals\":[-2.9969143527737088,-2,-1,0,1,1.9359319493879068],\"values\":[-2.0221515517806137,-0.667824625981192,1.9359319493879068,0.6149694787299739,-0.018567645938049673,0.3024782403454526,-0.07758246995828369,-1.78212631630504,-2.2610423570045937,-0.6878813889434608,-2.4583222945792778,-2.9969143527737088,-2.766627217191643,-1.8827061450894778,-2.4415352204573018,-2.563949526814273,-2.6935964248729167,-2.4327349147533637,-2.3289430263357493,-0.13771483402842902,-0.4470628541160289,0.22781701263893536,0.2144793617791888,0.79961843970487,-0.21625430416911545]},{\"label\":\"subsample\",\"range\":[0,6],\"ticktext\":[0.4,0.5,0.6,0.7,0.8,0.9,1.0],\"tickvals\":[0,1,2,3,4,5,6],\"values\":[1,4,0,3,5,6,4,5,5,6,1,2,3,5,5,5,5,5,5,5,6,6,6,6,4]}],\"labelangle\":30,\"labelside\":\"bottom\",\"line\":{\"color\":[0.8967602745560722,0.9143796294169614,0.8163061269664831,0.910441053041654,0.7402093012505893,0.9207053662487787,0.9159084036339008,0.9263493033289019,0.9253499462162056,0.9273540806836547,0.891547003843691,0.8990555150616097,0.9170157685324553,0.9259178781935213,0.926646837351568,0.926758286082049,0.84823758833284,0.9267744222205516,0.9278230740575764,0.8480176598139566,0.518198057731992,0.9268202564717561,0.9257341392250195,0.8967168564095499,0.9230879677609882],\"colorbar\":{\"title\":{\"text\":\"Objective Value\"}},\"colorscale\":[[0.0,\"rgb(247,251,255)\"],[0.125,\"rgb(222,235,247)\"],[0.25,\"rgb(198,219,239)\"],[0.375,\"rgb(158,202,225)\"],[0.5,\"rgb(107,174,214)\"],[0.625,\"rgb(66,146,198)\"],[0.75,\"rgb(33,113,181)\"],[0.875,\"rgb(8,81,156)\"],[1.0,\"rgb(8,48,107)\"]],\"reversescale\":false,\"showscale\":true},\"type\":\"parcoords\"}],                        {\"title\":{\"text\":\"Parallel Coordinate Plot\"},\"template\":{\"data\":{\"histogram2dcontour\":[{\"type\":\"histogram2dcontour\",\"colorbar\":{\"outlinewidth\":0,\"ticks\":\"\"},\"colorscale\":[[0.0,\"#0d0887\"],[0.1111111111111111,\"#46039f\"],[0.2222222222222222,\"#7201a8\"],[0.3333333333333333,\"#9c179e\"],[0.4444444444444444,\"#bd3786\"],[0.5555555555555556,\"#d8576b\"],[0.6666666666666666,\"#ed7953\"],[0.7777777777777778,\"#fb9f3a\"],[0.8888888888888888,\"#fdca26\"],[1.0,\"#f0f921\"]]}],\"choropleth\":[{\"type\":\"choropleth\",\"colorbar\":{\"outlinewidth\":0,\"ticks\":\"\"}}],\"histogram2d\":[{\"type\":\"histogram2d\",\"colorbar\":{\"outlinewidth\":0,\"ticks\":\"\"},\"colorscale\":[[0.0,\"#0d0887\"],[0.1111111111111111,\"#46039f\"],[0.2222222222222222,\"#7201a8\"],[0.3333333333333333,\"#9c179e\"],[0.4444444444444444,\"#bd3786\"],[0.5555555555555556,\"#d8576b\"],[0.6666666666666666,\"#ed7953\"],[0.7777777777777778,\"#fb9f3a\"],[0.8888888888888888,\"#fdca26\"],[1.0,\"#f0f921\"]]}],\"heatmap\":[{\"type\":\"heatmap\",\"colorbar\":{\"outlinewidth\":0,\"ticks\":\"\"},\"colorscale\":[[0.0,\"#0d0887\"],[0.1111111111111111,\"#46039f\"],[0.2222222222222222,\"#7201a8\"],[0.3333333333333333,\"#9c179e\"],[0.4444444444444444,\"#bd3786\"],[0.5555555555555556,\"#d8576b\"],[0.6666666666666666,\"#ed7953\"],[0.7777777777777778,\"#fb9f3a\"],[0.8888888888888888,\"#fdca26\"],[1.0,\"#f0f921\"]]}],\"heatmapgl\":[{\"type\":\"heatmapgl\",\"colorbar\":{\"outlinewidth\":0,\"ticks\":\"\"},\"colorscale\":[[0.0,\"#0d0887\"],[0.1111111111111111,\"#46039f\"],[0.2222222222222222,\"#7201a8\"],[0.3333333333333333,\"#9c179e\"],[0.4444444444444444,\"#bd3786\"],[0.5555555555555556,\"#d8576b\"],[0.6666666666666666,\"#ed7953\"],[0.7777777777777778,\"#fb9f3a\"],[0.8888888888888888,\"#fdca26\"],[1.0,\"#f0f921\"]]}],\"contourcarpet\":[{\"type\":\"contourcarpet\",\"colorbar\":{\"outlinewidth\":0,\"ticks\":\"\"}}],\"contour\":[{\"type\":\"contour\",\"colorbar\":{\"outlinewidth\":0,\"ticks\":\"\"},\"colorscale\":[[0.0,\"#0d0887\"],[0.1111111111111111,\"#46039f\"],[0.2222222222222222,\"#7201a8\"],[0.3333333333333333,\"#9c179e\"],[0.4444444444444444,\"#bd3786\"],[0.5555555555555556,\"#d8576b\"],[0.6666666666666666,\"#ed7953\"],[0.7777777777777778,\"#fb9f3a\"],[0.8888888888888888,\"#fdca26\"],[1.0,\"#f0f921\"]]}],\"surface\":[{\"type\":\"surface\",\"colorbar\":{\"outlinewidth\":0,\"ticks\":\"\"},\"colorscale\":[[0.0,\"#0d0887\"],[0.1111111111111111,\"#46039f\"],[0.2222222222222222,\"#7201a8\"],[0.3333333333333333,\"#9c179e\"],[0.4444444444444444,\"#bd3786\"],[0.5555555555555556,\"#d8576b\"],[0.6666666666666666,\"#ed7953\"],[0.7777777777777778,\"#fb9f3a\"],[0.8888888888888888,\"#fdca26\"],[1.0,\"#f0f921\"]]}],\"mesh3d\":[{\"type\":\"mesh3d\",\"colorbar\":{\"outlinewidth\":0,\"ticks\":\"\"}}],\"scatter\":[{\"fillpattern\":{\"fillmode\":\"overlay\",\"size\":10,\"solidity\":0.2},\"type\":\"scatter\"}],\"parcoords\":[{\"type\":\"parcoords\",\"line\":{\"colorbar\":{\"outlinewidth\":0,\"ticks\":\"\"}}}],\"scatterpolargl\":[{\"type\":\"scatterpolargl\",\"marker\":{\"colorbar\":{\"outlinewidth\":0,\"ticks\":\"\"}}}],\"bar\":[{\"error_x\":{\"color\":\"#2a3f5f\"},\"error_y\":{\"color\":\"#2a3f5f\"},\"marker\":{\"line\":{\"color\":\"#E5ECF6\",\"width\":0.5},\"pattern\":{\"fillmode\":\"overlay\",\"size\":10,\"solidity\":0.2}},\"type\":\"bar\"}],\"scattergeo\":[{\"type\":\"scattergeo\",\"marker\":{\"colorbar\":{\"outlinewidth\":0,\"ticks\":\"\"}}}],\"scatterpolar\":[{\"type\":\"scatterpolar\",\"marker\":{\"colorbar\":{\"outlinewidth\":0,\"ticks\":\"\"}}}],\"histogram\":[{\"marker\":{\"pattern\":{\"fillmode\":\"overlay\",\"size\":10,\"solidity\":0.2}},\"type\":\"histogram\"}],\"scattergl\":[{\"type\":\"scattergl\",\"marker\":{\"colorbar\":{\"outlinewidth\":0,\"ticks\":\"\"}}}],\"scatter3d\":[{\"type\":\"scatter3d\",\"line\":{\"colorbar\":{\"outlinewidth\":0,\"ticks\":\"\"}},\"marker\":{\"colorbar\":{\"outlinewidth\":0,\"ticks\":\"\"}}}],\"scattermapbox\":[{\"type\":\"scattermapbox\",\"marker\":{\"colorbar\":{\"outlinewidth\":0,\"ticks\":\"\"}}}],\"scatterternary\":[{\"type\":\"scatterternary\",\"marker\":{\"colorbar\":{\"outlinewidth\":0,\"ticks\":\"\"}}}],\"scattercarpet\":[{\"type\":\"scattercarpet\",\"marker\":{\"colorbar\":{\"outlinewidth\":0,\"ticks\":\"\"}}}],\"carpet\":[{\"aaxis\":{\"endlinecolor\":\"#2a3f5f\",\"gridcolor\":\"white\",\"linecolor\":\"white\",\"minorgridcolor\":\"white\",\"startlinecolor\":\"#2a3f5f\"},\"baxis\":{\"endlinecolor\":\"#2a3f5f\",\"gridcolor\":\"white\",\"linecolor\":\"white\",\"minorgridcolor\":\"white\",\"startlinecolor\":\"#2a3f5f\"},\"type\":\"carpet\"}],\"table\":[{\"cells\":{\"fill\":{\"color\":\"#EBF0F8\"},\"line\":{\"color\":\"white\"}},\"header\":{\"fill\":{\"color\":\"#C8D4E3\"},\"line\":{\"color\":\"white\"}},\"type\":\"table\"}],\"barpolar\":[{\"marker\":{\"line\":{\"color\":\"#E5ECF6\",\"width\":0.5},\"pattern\":{\"fillmode\":\"overlay\",\"size\":10,\"solidity\":0.2}},\"type\":\"barpolar\"}],\"pie\":[{\"automargin\":true,\"type\":\"pie\"}]},\"layout\":{\"autotypenumbers\":\"strict\",\"colorway\":[\"#636efa\",\"#EF553B\",\"#00cc96\",\"#ab63fa\",\"#FFA15A\",\"#19d3f3\",\"#FF6692\",\"#B6E880\",\"#FF97FF\",\"#FECB52\"],\"font\":{\"color\":\"#2a3f5f\"},\"hovermode\":\"closest\",\"hoverlabel\":{\"align\":\"left\"},\"paper_bgcolor\":\"white\",\"plot_bgcolor\":\"#E5ECF6\",\"polar\":{\"bgcolor\":\"#E5ECF6\",\"angularaxis\":{\"gridcolor\":\"white\",\"linecolor\":\"white\",\"ticks\":\"\"},\"radialaxis\":{\"gridcolor\":\"white\",\"linecolor\":\"white\",\"ticks\":\"\"}},\"ternary\":{\"bgcolor\":\"#E5ECF6\",\"aaxis\":{\"gridcolor\":\"white\",\"linecolor\":\"white\",\"ticks\":\"\"},\"baxis\":{\"gridcolor\":\"white\",\"linecolor\":\"white\",\"ticks\":\"\"},\"caxis\":{\"gridcolor\":\"white\",\"linecolor\":\"white\",\"ticks\":\"\"}},\"coloraxis\":{\"colorbar\":{\"outlinewidth\":0,\"ticks\":\"\"}},\"colorscale\":{\"sequential\":[[0.0,\"#0d0887\"],[0.1111111111111111,\"#46039f\"],[0.2222222222222222,\"#7201a8\"],[0.3333333333333333,\"#9c179e\"],[0.4444444444444444,\"#bd3786\"],[0.5555555555555556,\"#d8576b\"],[0.6666666666666666,\"#ed7953\"],[0.7777777777777778,\"#fb9f3a\"],[0.8888888888888888,\"#fdca26\"],[1.0,\"#f0f921\"]],\"sequentialminus\":[[0.0,\"#0d0887\"],[0.1111111111111111,\"#46039f\"],[0.2222222222222222,\"#7201a8\"],[0.3333333333333333,\"#9c179e\"],[0.4444444444444444,\"#bd3786\"],[0.5555555555555556,\"#d8576b\"],[0.6666666666666666,\"#ed7953\"],[0.7777777777777778,\"#fb9f3a\"],[0.8888888888888888,\"#fdca26\"],[1.0,\"#f0f921\"]],\"diverging\":[[0,\"#8e0152\"],[0.1,\"#c51b7d\"],[0.2,\"#de77ae\"],[0.3,\"#f1b6da\"],[0.4,\"#fde0ef\"],[0.5,\"#f7f7f7\"],[0.6,\"#e6f5d0\"],[0.7,\"#b8e186\"],[0.8,\"#7fbc41\"],[0.9,\"#4d9221\"],[1,\"#276419\"]]},\"xaxis\":{\"gridcolor\":\"white\",\"linecolor\":\"white\",\"ticks\":\"\",\"title\":{\"standoff\":15},\"zerolinecolor\":\"white\",\"automargin\":true,\"zerolinewidth\":2},\"yaxis\":{\"gridcolor\":\"white\",\"linecolor\":\"white\",\"ticks\":\"\",\"title\":{\"standoff\":15},\"zerolinecolor\":\"white\",\"automargin\":true,\"zerolinewidth\":2},\"scene\":{\"xaxis\":{\"backgroundcolor\":\"#E5ECF6\",\"gridcolor\":\"white\",\"linecolor\":\"white\",\"showbackground\":true,\"ticks\":\"\",\"zerolinecolor\":\"white\",\"gridwidth\":2},\"yaxis\":{\"backgroundcolor\":\"#E5ECF6\",\"gridcolor\":\"white\",\"linecolor\":\"white\",\"showbackground\":true,\"ticks\":\"\",\"zerolinecolor\":\"white\",\"gridwidth\":2},\"zaxis\":{\"backgroundcolor\":\"#E5ECF6\",\"gridcolor\":\"white\",\"linecolor\":\"white\",\"showbackground\":true,\"ticks\":\"\",\"zerolinecolor\":\"white\",\"gridwidth\":2}},\"shapedefaults\":{\"line\":{\"color\":\"#2a3f5f\"}},\"annotationdefaults\":{\"arrowcolor\":\"#2a3f5f\",\"arrowhead\":0,\"arrowwidth\":1},\"geo\":{\"bgcolor\":\"white\",\"landcolor\":\"#E5ECF6\",\"subunitcolor\":\"white\",\"showland\":true,\"showlakes\":true,\"lakecolor\":\"white\"},\"title\":{\"x\":0.05},\"mapbox\":{\"style\":\"light\"}}}},                        {\"responsive\": true}                    ).then(function(){\n",
       "                            \n",
       "var gd = document.getElementById('cb4e91ba-5234-4d8b-86ff-b6bdbe6ba802');\n",
       "var x = new MutationObserver(function (mutations, observer) {{\n",
       "        var display = window.getComputedStyle(gd).display;\n",
       "        if (!display || display === 'none') {{\n",
       "            console.log([gd, 'removed!']);\n",
       "            Plotly.purge(gd);\n",
       "            observer.disconnect();\n",
       "        }}\n",
       "}});\n",
       "\n",
       "// Listen for the removal of the full notebook cells\n",
       "var notebookContainer = gd.closest('#notebook-container');\n",
       "if (notebookContainer) {{\n",
       "    x.observe(notebookContainer, {childList: true});\n",
       "}}\n",
       "\n",
       "// Listen for the clearing of the current output cell\n",
       "var outputEl = gd.closest('.output');\n",
       "if (outputEl) {{\n",
       "    x.observe(outputEl, {childList: true});\n",
       "}}\n",
       "\n",
       "                        })                };                });            </script>        </div>"
      ]
     },
     "metadata": {},
     "output_type": "display_data"
    }
   ],
   "source": [
    "optuna.visualization.plot_parallel_coordinate(study)"
   ]
  },
  {
   "cell_type": "code",
   "execution_count": 174,
   "metadata": {},
   "outputs": [
    {
     "data": {
      "application/vnd.plotly.v1+json": {
       "config": {
        "plotlyServerURL": "https://plot.ly"
       },
       "data": [
        {
         "mode": "markers",
         "name": "Objective Value",
         "type": "scatter",
         "x": [
          0,
          1,
          2,
          3,
          4,
          10,
          11,
          16,
          19,
          22,
          23,
          24,
          25,
          26,
          27,
          29,
          30,
          32,
          33,
          35,
          40,
          41,
          43,
          44,
          45
         ],
         "y": [
          0.9273540806836547,
          0.9159084036339008,
          0.910441053041654,
          0.7402093012505893,
          0.9263493033289019,
          0.8163061269664831,
          0.9259178781935213,
          0.8967602745560722,
          0.518198057731992,
          0.926646837351568,
          0.926758286082049,
          0.84823758833284,
          0.9267744222205516,
          0.8990555150616097,
          0.891547003843691,
          0.9143796294169614,
          0.9230879677609882,
          0.9278230740575764,
          0.9170157685324553,
          0.9253499462162056,
          0.9268202564717561,
          0.9257341392250195,
          0.8967168564095499,
          0.9207053662487787,
          0.8480176598139566
         ]
        },
        {
         "name": "Best Value",
         "type": "scatter",
         "x": [
          0,
          1,
          2,
          3,
          4,
          10,
          11,
          16,
          19,
          22,
          23,
          24,
          25,
          26,
          27,
          29,
          30,
          32,
          33,
          35,
          40,
          41,
          43,
          44,
          45
         ],
         "y": [
          0.9273540806836547,
          0.9273540806836547,
          0.9273540806836547,
          0.9273540806836547,
          0.9273540806836547,
          0.9273540806836547,
          0.9273540806836547,
          0.9273540806836547,
          0.9273540806836547,
          0.9273540806836547,
          0.9273540806836547,
          0.9273540806836547,
          0.9273540806836547,
          0.9273540806836547,
          0.9273540806836547,
          0.9273540806836547,
          0.9273540806836547,
          0.9278230740575764,
          0.9278230740575764,
          0.9278230740575764,
          0.9278230740575764,
          0.9278230740575764,
          0.9278230740575764,
          0.9278230740575764,
          0.9278230740575764
         ]
        }
       ],
       "layout": {
        "template": {
         "data": {
          "bar": [
           {
            "error_x": {
             "color": "#2a3f5f"
            },
            "error_y": {
             "color": "#2a3f5f"
            },
            "marker": {
             "line": {
              "color": "#E5ECF6",
              "width": 0.5
             },
             "pattern": {
              "fillmode": "overlay",
              "size": 10,
              "solidity": 0.2
             }
            },
            "type": "bar"
           }
          ],
          "barpolar": [
           {
            "marker": {
             "line": {
              "color": "#E5ECF6",
              "width": 0.5
             },
             "pattern": {
              "fillmode": "overlay",
              "size": 10,
              "solidity": 0.2
             }
            },
            "type": "barpolar"
           }
          ],
          "carpet": [
           {
            "aaxis": {
             "endlinecolor": "#2a3f5f",
             "gridcolor": "white",
             "linecolor": "white",
             "minorgridcolor": "white",
             "startlinecolor": "#2a3f5f"
            },
            "baxis": {
             "endlinecolor": "#2a3f5f",
             "gridcolor": "white",
             "linecolor": "white",
             "minorgridcolor": "white",
             "startlinecolor": "#2a3f5f"
            },
            "type": "carpet"
           }
          ],
          "choropleth": [
           {
            "colorbar": {
             "outlinewidth": 0,
             "ticks": ""
            },
            "type": "choropleth"
           }
          ],
          "contour": [
           {
            "colorbar": {
             "outlinewidth": 0,
             "ticks": ""
            },
            "colorscale": [
             [
              0,
              "#0d0887"
             ],
             [
              0.1111111111111111,
              "#46039f"
             ],
             [
              0.2222222222222222,
              "#7201a8"
             ],
             [
              0.3333333333333333,
              "#9c179e"
             ],
             [
              0.4444444444444444,
              "#bd3786"
             ],
             [
              0.5555555555555556,
              "#d8576b"
             ],
             [
              0.6666666666666666,
              "#ed7953"
             ],
             [
              0.7777777777777778,
              "#fb9f3a"
             ],
             [
              0.8888888888888888,
              "#fdca26"
             ],
             [
              1,
              "#f0f921"
             ]
            ],
            "type": "contour"
           }
          ],
          "contourcarpet": [
           {
            "colorbar": {
             "outlinewidth": 0,
             "ticks": ""
            },
            "type": "contourcarpet"
           }
          ],
          "heatmap": [
           {
            "colorbar": {
             "outlinewidth": 0,
             "ticks": ""
            },
            "colorscale": [
             [
              0,
              "#0d0887"
             ],
             [
              0.1111111111111111,
              "#46039f"
             ],
             [
              0.2222222222222222,
              "#7201a8"
             ],
             [
              0.3333333333333333,
              "#9c179e"
             ],
             [
              0.4444444444444444,
              "#bd3786"
             ],
             [
              0.5555555555555556,
              "#d8576b"
             ],
             [
              0.6666666666666666,
              "#ed7953"
             ],
             [
              0.7777777777777778,
              "#fb9f3a"
             ],
             [
              0.8888888888888888,
              "#fdca26"
             ],
             [
              1,
              "#f0f921"
             ]
            ],
            "type": "heatmap"
           }
          ],
          "heatmapgl": [
           {
            "colorbar": {
             "outlinewidth": 0,
             "ticks": ""
            },
            "colorscale": [
             [
              0,
              "#0d0887"
             ],
             [
              0.1111111111111111,
              "#46039f"
             ],
             [
              0.2222222222222222,
              "#7201a8"
             ],
             [
              0.3333333333333333,
              "#9c179e"
             ],
             [
              0.4444444444444444,
              "#bd3786"
             ],
             [
              0.5555555555555556,
              "#d8576b"
             ],
             [
              0.6666666666666666,
              "#ed7953"
             ],
             [
              0.7777777777777778,
              "#fb9f3a"
             ],
             [
              0.8888888888888888,
              "#fdca26"
             ],
             [
              1,
              "#f0f921"
             ]
            ],
            "type": "heatmapgl"
           }
          ],
          "histogram": [
           {
            "marker": {
             "pattern": {
              "fillmode": "overlay",
              "size": 10,
              "solidity": 0.2
             }
            },
            "type": "histogram"
           }
          ],
          "histogram2d": [
           {
            "colorbar": {
             "outlinewidth": 0,
             "ticks": ""
            },
            "colorscale": [
             [
              0,
              "#0d0887"
             ],
             [
              0.1111111111111111,
              "#46039f"
             ],
             [
              0.2222222222222222,
              "#7201a8"
             ],
             [
              0.3333333333333333,
              "#9c179e"
             ],
             [
              0.4444444444444444,
              "#bd3786"
             ],
             [
              0.5555555555555556,
              "#d8576b"
             ],
             [
              0.6666666666666666,
              "#ed7953"
             ],
             [
              0.7777777777777778,
              "#fb9f3a"
             ],
             [
              0.8888888888888888,
              "#fdca26"
             ],
             [
              1,
              "#f0f921"
             ]
            ],
            "type": "histogram2d"
           }
          ],
          "histogram2dcontour": [
           {
            "colorbar": {
             "outlinewidth": 0,
             "ticks": ""
            },
            "colorscale": [
             [
              0,
              "#0d0887"
             ],
             [
              0.1111111111111111,
              "#46039f"
             ],
             [
              0.2222222222222222,
              "#7201a8"
             ],
             [
              0.3333333333333333,
              "#9c179e"
             ],
             [
              0.4444444444444444,
              "#bd3786"
             ],
             [
              0.5555555555555556,
              "#d8576b"
             ],
             [
              0.6666666666666666,
              "#ed7953"
             ],
             [
              0.7777777777777778,
              "#fb9f3a"
             ],
             [
              0.8888888888888888,
              "#fdca26"
             ],
             [
              1,
              "#f0f921"
             ]
            ],
            "type": "histogram2dcontour"
           }
          ],
          "mesh3d": [
           {
            "colorbar": {
             "outlinewidth": 0,
             "ticks": ""
            },
            "type": "mesh3d"
           }
          ],
          "parcoords": [
           {
            "line": {
             "colorbar": {
              "outlinewidth": 0,
              "ticks": ""
             }
            },
            "type": "parcoords"
           }
          ],
          "pie": [
           {
            "automargin": true,
            "type": "pie"
           }
          ],
          "scatter": [
           {
            "fillpattern": {
             "fillmode": "overlay",
             "size": 10,
             "solidity": 0.2
            },
            "type": "scatter"
           }
          ],
          "scatter3d": [
           {
            "line": {
             "colorbar": {
              "outlinewidth": 0,
              "ticks": ""
             }
            },
            "marker": {
             "colorbar": {
              "outlinewidth": 0,
              "ticks": ""
             }
            },
            "type": "scatter3d"
           }
          ],
          "scattercarpet": [
           {
            "marker": {
             "colorbar": {
              "outlinewidth": 0,
              "ticks": ""
             }
            },
            "type": "scattercarpet"
           }
          ],
          "scattergeo": [
           {
            "marker": {
             "colorbar": {
              "outlinewidth": 0,
              "ticks": ""
             }
            },
            "type": "scattergeo"
           }
          ],
          "scattergl": [
           {
            "marker": {
             "colorbar": {
              "outlinewidth": 0,
              "ticks": ""
             }
            },
            "type": "scattergl"
           }
          ],
          "scattermapbox": [
           {
            "marker": {
             "colorbar": {
              "outlinewidth": 0,
              "ticks": ""
             }
            },
            "type": "scattermapbox"
           }
          ],
          "scatterpolar": [
           {
            "marker": {
             "colorbar": {
              "outlinewidth": 0,
              "ticks": ""
             }
            },
            "type": "scatterpolar"
           }
          ],
          "scatterpolargl": [
           {
            "marker": {
             "colorbar": {
              "outlinewidth": 0,
              "ticks": ""
             }
            },
            "type": "scatterpolargl"
           }
          ],
          "scatterternary": [
           {
            "marker": {
             "colorbar": {
              "outlinewidth": 0,
              "ticks": ""
             }
            },
            "type": "scatterternary"
           }
          ],
          "surface": [
           {
            "colorbar": {
             "outlinewidth": 0,
             "ticks": ""
            },
            "colorscale": [
             [
              0,
              "#0d0887"
             ],
             [
              0.1111111111111111,
              "#46039f"
             ],
             [
              0.2222222222222222,
              "#7201a8"
             ],
             [
              0.3333333333333333,
              "#9c179e"
             ],
             [
              0.4444444444444444,
              "#bd3786"
             ],
             [
              0.5555555555555556,
              "#d8576b"
             ],
             [
              0.6666666666666666,
              "#ed7953"
             ],
             [
              0.7777777777777778,
              "#fb9f3a"
             ],
             [
              0.8888888888888888,
              "#fdca26"
             ],
             [
              1,
              "#f0f921"
             ]
            ],
            "type": "surface"
           }
          ],
          "table": [
           {
            "cells": {
             "fill": {
              "color": "#EBF0F8"
             },
             "line": {
              "color": "white"
             }
            },
            "header": {
             "fill": {
              "color": "#C8D4E3"
             },
             "line": {
              "color": "white"
             }
            },
            "type": "table"
           }
          ]
         },
         "layout": {
          "annotationdefaults": {
           "arrowcolor": "#2a3f5f",
           "arrowhead": 0,
           "arrowwidth": 1
          },
          "autotypenumbers": "strict",
          "coloraxis": {
           "colorbar": {
            "outlinewidth": 0,
            "ticks": ""
           }
          },
          "colorscale": {
           "diverging": [
            [
             0,
             "#8e0152"
            ],
            [
             0.1,
             "#c51b7d"
            ],
            [
             0.2,
             "#de77ae"
            ],
            [
             0.3,
             "#f1b6da"
            ],
            [
             0.4,
             "#fde0ef"
            ],
            [
             0.5,
             "#f7f7f7"
            ],
            [
             0.6,
             "#e6f5d0"
            ],
            [
             0.7,
             "#b8e186"
            ],
            [
             0.8,
             "#7fbc41"
            ],
            [
             0.9,
             "#4d9221"
            ],
            [
             1,
             "#276419"
            ]
           ],
           "sequential": [
            [
             0,
             "#0d0887"
            ],
            [
             0.1111111111111111,
             "#46039f"
            ],
            [
             0.2222222222222222,
             "#7201a8"
            ],
            [
             0.3333333333333333,
             "#9c179e"
            ],
            [
             0.4444444444444444,
             "#bd3786"
            ],
            [
             0.5555555555555556,
             "#d8576b"
            ],
            [
             0.6666666666666666,
             "#ed7953"
            ],
            [
             0.7777777777777778,
             "#fb9f3a"
            ],
            [
             0.8888888888888888,
             "#fdca26"
            ],
            [
             1,
             "#f0f921"
            ]
           ],
           "sequentialminus": [
            [
             0,
             "#0d0887"
            ],
            [
             0.1111111111111111,
             "#46039f"
            ],
            [
             0.2222222222222222,
             "#7201a8"
            ],
            [
             0.3333333333333333,
             "#9c179e"
            ],
            [
             0.4444444444444444,
             "#bd3786"
            ],
            [
             0.5555555555555556,
             "#d8576b"
            ],
            [
             0.6666666666666666,
             "#ed7953"
            ],
            [
             0.7777777777777778,
             "#fb9f3a"
            ],
            [
             0.8888888888888888,
             "#fdca26"
            ],
            [
             1,
             "#f0f921"
            ]
           ]
          },
          "colorway": [
           "#636efa",
           "#EF553B",
           "#00cc96",
           "#ab63fa",
           "#FFA15A",
           "#19d3f3",
           "#FF6692",
           "#B6E880",
           "#FF97FF",
           "#FECB52"
          ],
          "font": {
           "color": "#2a3f5f"
          },
          "geo": {
           "bgcolor": "white",
           "lakecolor": "white",
           "landcolor": "#E5ECF6",
           "showlakes": true,
           "showland": true,
           "subunitcolor": "white"
          },
          "hoverlabel": {
           "align": "left"
          },
          "hovermode": "closest",
          "mapbox": {
           "style": "light"
          },
          "paper_bgcolor": "white",
          "plot_bgcolor": "#E5ECF6",
          "polar": {
           "angularaxis": {
            "gridcolor": "white",
            "linecolor": "white",
            "ticks": ""
           },
           "bgcolor": "#E5ECF6",
           "radialaxis": {
            "gridcolor": "white",
            "linecolor": "white",
            "ticks": ""
           }
          },
          "scene": {
           "xaxis": {
            "backgroundcolor": "#E5ECF6",
            "gridcolor": "white",
            "gridwidth": 2,
            "linecolor": "white",
            "showbackground": true,
            "ticks": "",
            "zerolinecolor": "white"
           },
           "yaxis": {
            "backgroundcolor": "#E5ECF6",
            "gridcolor": "white",
            "gridwidth": 2,
            "linecolor": "white",
            "showbackground": true,
            "ticks": "",
            "zerolinecolor": "white"
           },
           "zaxis": {
            "backgroundcolor": "#E5ECF6",
            "gridcolor": "white",
            "gridwidth": 2,
            "linecolor": "white",
            "showbackground": true,
            "ticks": "",
            "zerolinecolor": "white"
           }
          },
          "shapedefaults": {
           "line": {
            "color": "#2a3f5f"
           }
          },
          "ternary": {
           "aaxis": {
            "gridcolor": "white",
            "linecolor": "white",
            "ticks": ""
           },
           "baxis": {
            "gridcolor": "white",
            "linecolor": "white",
            "ticks": ""
           },
           "bgcolor": "#E5ECF6",
           "caxis": {
            "gridcolor": "white",
            "linecolor": "white",
            "ticks": ""
           }
          },
          "title": {
           "x": 0.05
          },
          "xaxis": {
           "automargin": true,
           "gridcolor": "white",
           "linecolor": "white",
           "ticks": "",
           "title": {
            "standoff": 15
           },
           "zerolinecolor": "white",
           "zerolinewidth": 2
          },
          "yaxis": {
           "automargin": true,
           "gridcolor": "white",
           "linecolor": "white",
           "ticks": "",
           "title": {
            "standoff": 15
           },
           "zerolinecolor": "white",
           "zerolinewidth": 2
          }
         }
        },
        "title": {
         "text": "Optimization History Plot"
        },
        "xaxis": {
         "title": {
          "text": "#Trials"
         }
        },
        "yaxis": {
         "title": {
          "text": "Objective Value"
         }
        }
       }
      },
      "text/html": [
       "<div>                            <div id=\"b70f93c6-2f60-42e7-a0c2-2f8b1b7007cd\" class=\"plotly-graph-div\" style=\"height:525px; width:100%;\"></div>            <script type=\"text/javascript\">                require([\"plotly\"], function(Plotly) {                    window.PLOTLYENV=window.PLOTLYENV || {};                                    if (document.getElementById(\"b70f93c6-2f60-42e7-a0c2-2f8b1b7007cd\")) {                    Plotly.newPlot(                        \"b70f93c6-2f60-42e7-a0c2-2f8b1b7007cd\",                        [{\"mode\":\"markers\",\"name\":\"Objective Value\",\"x\":[0,1,2,3,4,10,11,16,19,22,23,24,25,26,27,29,30,32,33,35,40,41,43,44,45],\"y\":[0.9273540806836547,0.9159084036339008,0.910441053041654,0.7402093012505893,0.9263493033289019,0.8163061269664831,0.9259178781935213,0.8967602745560722,0.518198057731992,0.926646837351568,0.926758286082049,0.84823758833284,0.9267744222205516,0.8990555150616097,0.891547003843691,0.9143796294169614,0.9230879677609882,0.9278230740575764,0.9170157685324553,0.9253499462162056,0.9268202564717561,0.9257341392250195,0.8967168564095499,0.9207053662487787,0.8480176598139566],\"type\":\"scatter\"},{\"name\":\"Best Value\",\"x\":[0,1,2,3,4,10,11,16,19,22,23,24,25,26,27,29,30,32,33,35,40,41,43,44,45],\"y\":[0.9273540806836547,0.9273540806836547,0.9273540806836547,0.9273540806836547,0.9273540806836547,0.9273540806836547,0.9273540806836547,0.9273540806836547,0.9273540806836547,0.9273540806836547,0.9273540806836547,0.9273540806836547,0.9273540806836547,0.9273540806836547,0.9273540806836547,0.9273540806836547,0.9273540806836547,0.9278230740575764,0.9278230740575764,0.9278230740575764,0.9278230740575764,0.9278230740575764,0.9278230740575764,0.9278230740575764,0.9278230740575764],\"type\":\"scatter\"}],                        {\"title\":{\"text\":\"Optimization History Plot\"},\"xaxis\":{\"title\":{\"text\":\"#Trials\"}},\"yaxis\":{\"title\":{\"text\":\"Objective Value\"}},\"template\":{\"data\":{\"histogram2dcontour\":[{\"type\":\"histogram2dcontour\",\"colorbar\":{\"outlinewidth\":0,\"ticks\":\"\"},\"colorscale\":[[0.0,\"#0d0887\"],[0.1111111111111111,\"#46039f\"],[0.2222222222222222,\"#7201a8\"],[0.3333333333333333,\"#9c179e\"],[0.4444444444444444,\"#bd3786\"],[0.5555555555555556,\"#d8576b\"],[0.6666666666666666,\"#ed7953\"],[0.7777777777777778,\"#fb9f3a\"],[0.8888888888888888,\"#fdca26\"],[1.0,\"#f0f921\"]]}],\"choropleth\":[{\"type\":\"choropleth\",\"colorbar\":{\"outlinewidth\":0,\"ticks\":\"\"}}],\"histogram2d\":[{\"type\":\"histogram2d\",\"colorbar\":{\"outlinewidth\":0,\"ticks\":\"\"},\"colorscale\":[[0.0,\"#0d0887\"],[0.1111111111111111,\"#46039f\"],[0.2222222222222222,\"#7201a8\"],[0.3333333333333333,\"#9c179e\"],[0.4444444444444444,\"#bd3786\"],[0.5555555555555556,\"#d8576b\"],[0.6666666666666666,\"#ed7953\"],[0.7777777777777778,\"#fb9f3a\"],[0.8888888888888888,\"#fdca26\"],[1.0,\"#f0f921\"]]}],\"heatmap\":[{\"type\":\"heatmap\",\"colorbar\":{\"outlinewidth\":0,\"ticks\":\"\"},\"colorscale\":[[0.0,\"#0d0887\"],[0.1111111111111111,\"#46039f\"],[0.2222222222222222,\"#7201a8\"],[0.3333333333333333,\"#9c179e\"],[0.4444444444444444,\"#bd3786\"],[0.5555555555555556,\"#d8576b\"],[0.6666666666666666,\"#ed7953\"],[0.7777777777777778,\"#fb9f3a\"],[0.8888888888888888,\"#fdca26\"],[1.0,\"#f0f921\"]]}],\"heatmapgl\":[{\"type\":\"heatmapgl\",\"colorbar\":{\"outlinewidth\":0,\"ticks\":\"\"},\"colorscale\":[[0.0,\"#0d0887\"],[0.1111111111111111,\"#46039f\"],[0.2222222222222222,\"#7201a8\"],[0.3333333333333333,\"#9c179e\"],[0.4444444444444444,\"#bd3786\"],[0.5555555555555556,\"#d8576b\"],[0.6666666666666666,\"#ed7953\"],[0.7777777777777778,\"#fb9f3a\"],[0.8888888888888888,\"#fdca26\"],[1.0,\"#f0f921\"]]}],\"contourcarpet\":[{\"type\":\"contourcarpet\",\"colorbar\":{\"outlinewidth\":0,\"ticks\":\"\"}}],\"contour\":[{\"type\":\"contour\",\"colorbar\":{\"outlinewidth\":0,\"ticks\":\"\"},\"colorscale\":[[0.0,\"#0d0887\"],[0.1111111111111111,\"#46039f\"],[0.2222222222222222,\"#7201a8\"],[0.3333333333333333,\"#9c179e\"],[0.4444444444444444,\"#bd3786\"],[0.5555555555555556,\"#d8576b\"],[0.6666666666666666,\"#ed7953\"],[0.7777777777777778,\"#fb9f3a\"],[0.8888888888888888,\"#fdca26\"],[1.0,\"#f0f921\"]]}],\"surface\":[{\"type\":\"surface\",\"colorbar\":{\"outlinewidth\":0,\"ticks\":\"\"},\"colorscale\":[[0.0,\"#0d0887\"],[0.1111111111111111,\"#46039f\"],[0.2222222222222222,\"#7201a8\"],[0.3333333333333333,\"#9c179e\"],[0.4444444444444444,\"#bd3786\"],[0.5555555555555556,\"#d8576b\"],[0.6666666666666666,\"#ed7953\"],[0.7777777777777778,\"#fb9f3a\"],[0.8888888888888888,\"#fdca26\"],[1.0,\"#f0f921\"]]}],\"mesh3d\":[{\"type\":\"mesh3d\",\"colorbar\":{\"outlinewidth\":0,\"ticks\":\"\"}}],\"scatter\":[{\"fillpattern\":{\"fillmode\":\"overlay\",\"size\":10,\"solidity\":0.2},\"type\":\"scatter\"}],\"parcoords\":[{\"type\":\"parcoords\",\"line\":{\"colorbar\":{\"outlinewidth\":0,\"ticks\":\"\"}}}],\"scatterpolargl\":[{\"type\":\"scatterpolargl\",\"marker\":{\"colorbar\":{\"outlinewidth\":0,\"ticks\":\"\"}}}],\"bar\":[{\"error_x\":{\"color\":\"#2a3f5f\"},\"error_y\":{\"color\":\"#2a3f5f\"},\"marker\":{\"line\":{\"color\":\"#E5ECF6\",\"width\":0.5},\"pattern\":{\"fillmode\":\"overlay\",\"size\":10,\"solidity\":0.2}},\"type\":\"bar\"}],\"scattergeo\":[{\"type\":\"scattergeo\",\"marker\":{\"colorbar\":{\"outlinewidth\":0,\"ticks\":\"\"}}}],\"scatterpolar\":[{\"type\":\"scatterpolar\",\"marker\":{\"colorbar\":{\"outlinewidth\":0,\"ticks\":\"\"}}}],\"histogram\":[{\"marker\":{\"pattern\":{\"fillmode\":\"overlay\",\"size\":10,\"solidity\":0.2}},\"type\":\"histogram\"}],\"scattergl\":[{\"type\":\"scattergl\",\"marker\":{\"colorbar\":{\"outlinewidth\":0,\"ticks\":\"\"}}}],\"scatter3d\":[{\"type\":\"scatter3d\",\"line\":{\"colorbar\":{\"outlinewidth\":0,\"ticks\":\"\"}},\"marker\":{\"colorbar\":{\"outlinewidth\":0,\"ticks\":\"\"}}}],\"scattermapbox\":[{\"type\":\"scattermapbox\",\"marker\":{\"colorbar\":{\"outlinewidth\":0,\"ticks\":\"\"}}}],\"scatterternary\":[{\"type\":\"scatterternary\",\"marker\":{\"colorbar\":{\"outlinewidth\":0,\"ticks\":\"\"}}}],\"scattercarpet\":[{\"type\":\"scattercarpet\",\"marker\":{\"colorbar\":{\"outlinewidth\":0,\"ticks\":\"\"}}}],\"carpet\":[{\"aaxis\":{\"endlinecolor\":\"#2a3f5f\",\"gridcolor\":\"white\",\"linecolor\":\"white\",\"minorgridcolor\":\"white\",\"startlinecolor\":\"#2a3f5f\"},\"baxis\":{\"endlinecolor\":\"#2a3f5f\",\"gridcolor\":\"white\",\"linecolor\":\"white\",\"minorgridcolor\":\"white\",\"startlinecolor\":\"#2a3f5f\"},\"type\":\"carpet\"}],\"table\":[{\"cells\":{\"fill\":{\"color\":\"#EBF0F8\"},\"line\":{\"color\":\"white\"}},\"header\":{\"fill\":{\"color\":\"#C8D4E3\"},\"line\":{\"color\":\"white\"}},\"type\":\"table\"}],\"barpolar\":[{\"marker\":{\"line\":{\"color\":\"#E5ECF6\",\"width\":0.5},\"pattern\":{\"fillmode\":\"overlay\",\"size\":10,\"solidity\":0.2}},\"type\":\"barpolar\"}],\"pie\":[{\"automargin\":true,\"type\":\"pie\"}]},\"layout\":{\"autotypenumbers\":\"strict\",\"colorway\":[\"#636efa\",\"#EF553B\",\"#00cc96\",\"#ab63fa\",\"#FFA15A\",\"#19d3f3\",\"#FF6692\",\"#B6E880\",\"#FF97FF\",\"#FECB52\"],\"font\":{\"color\":\"#2a3f5f\"},\"hovermode\":\"closest\",\"hoverlabel\":{\"align\":\"left\"},\"paper_bgcolor\":\"white\",\"plot_bgcolor\":\"#E5ECF6\",\"polar\":{\"bgcolor\":\"#E5ECF6\",\"angularaxis\":{\"gridcolor\":\"white\",\"linecolor\":\"white\",\"ticks\":\"\"},\"radialaxis\":{\"gridcolor\":\"white\",\"linecolor\":\"white\",\"ticks\":\"\"}},\"ternary\":{\"bgcolor\":\"#E5ECF6\",\"aaxis\":{\"gridcolor\":\"white\",\"linecolor\":\"white\",\"ticks\":\"\"},\"baxis\":{\"gridcolor\":\"white\",\"linecolor\":\"white\",\"ticks\":\"\"},\"caxis\":{\"gridcolor\":\"white\",\"linecolor\":\"white\",\"ticks\":\"\"}},\"coloraxis\":{\"colorbar\":{\"outlinewidth\":0,\"ticks\":\"\"}},\"colorscale\":{\"sequential\":[[0.0,\"#0d0887\"],[0.1111111111111111,\"#46039f\"],[0.2222222222222222,\"#7201a8\"],[0.3333333333333333,\"#9c179e\"],[0.4444444444444444,\"#bd3786\"],[0.5555555555555556,\"#d8576b\"],[0.6666666666666666,\"#ed7953\"],[0.7777777777777778,\"#fb9f3a\"],[0.8888888888888888,\"#fdca26\"],[1.0,\"#f0f921\"]],\"sequentialminus\":[[0.0,\"#0d0887\"],[0.1111111111111111,\"#46039f\"],[0.2222222222222222,\"#7201a8\"],[0.3333333333333333,\"#9c179e\"],[0.4444444444444444,\"#bd3786\"],[0.5555555555555556,\"#d8576b\"],[0.6666666666666666,\"#ed7953\"],[0.7777777777777778,\"#fb9f3a\"],[0.8888888888888888,\"#fdca26\"],[1.0,\"#f0f921\"]],\"diverging\":[[0,\"#8e0152\"],[0.1,\"#c51b7d\"],[0.2,\"#de77ae\"],[0.3,\"#f1b6da\"],[0.4,\"#fde0ef\"],[0.5,\"#f7f7f7\"],[0.6,\"#e6f5d0\"],[0.7,\"#b8e186\"],[0.8,\"#7fbc41\"],[0.9,\"#4d9221\"],[1,\"#276419\"]]},\"xaxis\":{\"gridcolor\":\"white\",\"linecolor\":\"white\",\"ticks\":\"\",\"title\":{\"standoff\":15},\"zerolinecolor\":\"white\",\"automargin\":true,\"zerolinewidth\":2},\"yaxis\":{\"gridcolor\":\"white\",\"linecolor\":\"white\",\"ticks\":\"\",\"title\":{\"standoff\":15},\"zerolinecolor\":\"white\",\"automargin\":true,\"zerolinewidth\":2},\"scene\":{\"xaxis\":{\"backgroundcolor\":\"#E5ECF6\",\"gridcolor\":\"white\",\"linecolor\":\"white\",\"showbackground\":true,\"ticks\":\"\",\"zerolinecolor\":\"white\",\"gridwidth\":2},\"yaxis\":{\"backgroundcolor\":\"#E5ECF6\",\"gridcolor\":\"white\",\"linecolor\":\"white\",\"showbackground\":true,\"ticks\":\"\",\"zerolinecolor\":\"white\",\"gridwidth\":2},\"zaxis\":{\"backgroundcolor\":\"#E5ECF6\",\"gridcolor\":\"white\",\"linecolor\":\"white\",\"showbackground\":true,\"ticks\":\"\",\"zerolinecolor\":\"white\",\"gridwidth\":2}},\"shapedefaults\":{\"line\":{\"color\":\"#2a3f5f\"}},\"annotationdefaults\":{\"arrowcolor\":\"#2a3f5f\",\"arrowhead\":0,\"arrowwidth\":1},\"geo\":{\"bgcolor\":\"white\",\"landcolor\":\"#E5ECF6\",\"subunitcolor\":\"white\",\"showland\":true,\"showlakes\":true,\"lakecolor\":\"white\"},\"title\":{\"x\":0.05},\"mapbox\":{\"style\":\"light\"}}}},                        {\"responsive\": true}                    ).then(function(){\n",
       "                            \n",
       "var gd = document.getElementById('b70f93c6-2f60-42e7-a0c2-2f8b1b7007cd');\n",
       "var x = new MutationObserver(function (mutations, observer) {{\n",
       "        var display = window.getComputedStyle(gd).display;\n",
       "        if (!display || display === 'none') {{\n",
       "            console.log([gd, 'removed!']);\n",
       "            Plotly.purge(gd);\n",
       "            observer.disconnect();\n",
       "        }}\n",
       "}});\n",
       "\n",
       "// Listen for the removal of the full notebook cells\n",
       "var notebookContainer = gd.closest('#notebook-container');\n",
       "if (notebookContainer) {{\n",
       "    x.observe(notebookContainer, {childList: true});\n",
       "}}\n",
       "\n",
       "// Listen for the clearing of the current output cell\n",
       "var outputEl = gd.closest('.output');\n",
       "if (outputEl) {{\n",
       "    x.observe(outputEl, {childList: true});\n",
       "}}\n",
       "\n",
       "                        })                };                });            </script>        </div>"
      ]
     },
     "metadata": {},
     "output_type": "display_data"
    }
   ],
   "source": [
    "optuna.visualization.plot_optimization_history(study)"
   ]
  },
  {
   "cell_type": "code",
   "execution_count": 175,
   "metadata": {},
   "outputs": [
    {
     "data": {
      "application/vnd.plotly.v1+json": {
       "config": {
        "plotlyServerURL": "https://plot.ly"
       },
       "data": [
        {
         "cliponaxis": false,
         "hovertemplate": [
          "reg_lambda (LogUniformDistribution): 0.020576140551258417<extra></extra>",
          "subsample (CategoricalDistribution): 0.036023550126562796<extra></extra>",
          "learning_rate (UniformDistribution): 0.05137891931317954<extra></extra>",
          "max_depth (IntUniformDistribution): 0.07214259405670047<extra></extra>",
          "n_estimators (IntUniformDistribution): 0.08253013372569157<extra></extra>",
          "colsample_bylevel (CategoricalDistribution): 0.12526010018867617<extra></extra>",
          "reg_alpha (LogUniformDistribution): 0.6120885620379309<extra></extra>"
         ],
         "marker": {
          "color": "rgb(66,146,198)"
         },
         "orientation": "h",
         "text": [
          "0.020576140551258417",
          "0.036023550126562796",
          "0.05137891931317954",
          "0.07214259405670047",
          "0.08253013372569157",
          "0.12526010018867617",
          "0.6120885620379309"
         ],
         "textposition": "outside",
         "texttemplate": "%{text:.2f}",
         "type": "bar",
         "x": [
          0.020576140551258417,
          0.036023550126562796,
          0.05137891931317954,
          0.07214259405670047,
          0.08253013372569157,
          0.12526010018867617,
          0.6120885620379309
         ],
         "y": [
          "reg_lambda",
          "subsample",
          "learning_rate",
          "max_depth",
          "n_estimators",
          "colsample_bylevel",
          "reg_alpha"
         ]
        }
       ],
       "layout": {
        "showlegend": false,
        "template": {
         "data": {
          "bar": [
           {
            "error_x": {
             "color": "#2a3f5f"
            },
            "error_y": {
             "color": "#2a3f5f"
            },
            "marker": {
             "line": {
              "color": "#E5ECF6",
              "width": 0.5
             },
             "pattern": {
              "fillmode": "overlay",
              "size": 10,
              "solidity": 0.2
             }
            },
            "type": "bar"
           }
          ],
          "barpolar": [
           {
            "marker": {
             "line": {
              "color": "#E5ECF6",
              "width": 0.5
             },
             "pattern": {
              "fillmode": "overlay",
              "size": 10,
              "solidity": 0.2
             }
            },
            "type": "barpolar"
           }
          ],
          "carpet": [
           {
            "aaxis": {
             "endlinecolor": "#2a3f5f",
             "gridcolor": "white",
             "linecolor": "white",
             "minorgridcolor": "white",
             "startlinecolor": "#2a3f5f"
            },
            "baxis": {
             "endlinecolor": "#2a3f5f",
             "gridcolor": "white",
             "linecolor": "white",
             "minorgridcolor": "white",
             "startlinecolor": "#2a3f5f"
            },
            "type": "carpet"
           }
          ],
          "choropleth": [
           {
            "colorbar": {
             "outlinewidth": 0,
             "ticks": ""
            },
            "type": "choropleth"
           }
          ],
          "contour": [
           {
            "colorbar": {
             "outlinewidth": 0,
             "ticks": ""
            },
            "colorscale": [
             [
              0,
              "#0d0887"
             ],
             [
              0.1111111111111111,
              "#46039f"
             ],
             [
              0.2222222222222222,
              "#7201a8"
             ],
             [
              0.3333333333333333,
              "#9c179e"
             ],
             [
              0.4444444444444444,
              "#bd3786"
             ],
             [
              0.5555555555555556,
              "#d8576b"
             ],
             [
              0.6666666666666666,
              "#ed7953"
             ],
             [
              0.7777777777777778,
              "#fb9f3a"
             ],
             [
              0.8888888888888888,
              "#fdca26"
             ],
             [
              1,
              "#f0f921"
             ]
            ],
            "type": "contour"
           }
          ],
          "contourcarpet": [
           {
            "colorbar": {
             "outlinewidth": 0,
             "ticks": ""
            },
            "type": "contourcarpet"
           }
          ],
          "heatmap": [
           {
            "colorbar": {
             "outlinewidth": 0,
             "ticks": ""
            },
            "colorscale": [
             [
              0,
              "#0d0887"
             ],
             [
              0.1111111111111111,
              "#46039f"
             ],
             [
              0.2222222222222222,
              "#7201a8"
             ],
             [
              0.3333333333333333,
              "#9c179e"
             ],
             [
              0.4444444444444444,
              "#bd3786"
             ],
             [
              0.5555555555555556,
              "#d8576b"
             ],
             [
              0.6666666666666666,
              "#ed7953"
             ],
             [
              0.7777777777777778,
              "#fb9f3a"
             ],
             [
              0.8888888888888888,
              "#fdca26"
             ],
             [
              1,
              "#f0f921"
             ]
            ],
            "type": "heatmap"
           }
          ],
          "heatmapgl": [
           {
            "colorbar": {
             "outlinewidth": 0,
             "ticks": ""
            },
            "colorscale": [
             [
              0,
              "#0d0887"
             ],
             [
              0.1111111111111111,
              "#46039f"
             ],
             [
              0.2222222222222222,
              "#7201a8"
             ],
             [
              0.3333333333333333,
              "#9c179e"
             ],
             [
              0.4444444444444444,
              "#bd3786"
             ],
             [
              0.5555555555555556,
              "#d8576b"
             ],
             [
              0.6666666666666666,
              "#ed7953"
             ],
             [
              0.7777777777777778,
              "#fb9f3a"
             ],
             [
              0.8888888888888888,
              "#fdca26"
             ],
             [
              1,
              "#f0f921"
             ]
            ],
            "type": "heatmapgl"
           }
          ],
          "histogram": [
           {
            "marker": {
             "pattern": {
              "fillmode": "overlay",
              "size": 10,
              "solidity": 0.2
             }
            },
            "type": "histogram"
           }
          ],
          "histogram2d": [
           {
            "colorbar": {
             "outlinewidth": 0,
             "ticks": ""
            },
            "colorscale": [
             [
              0,
              "#0d0887"
             ],
             [
              0.1111111111111111,
              "#46039f"
             ],
             [
              0.2222222222222222,
              "#7201a8"
             ],
             [
              0.3333333333333333,
              "#9c179e"
             ],
             [
              0.4444444444444444,
              "#bd3786"
             ],
             [
              0.5555555555555556,
              "#d8576b"
             ],
             [
              0.6666666666666666,
              "#ed7953"
             ],
             [
              0.7777777777777778,
              "#fb9f3a"
             ],
             [
              0.8888888888888888,
              "#fdca26"
             ],
             [
              1,
              "#f0f921"
             ]
            ],
            "type": "histogram2d"
           }
          ],
          "histogram2dcontour": [
           {
            "colorbar": {
             "outlinewidth": 0,
             "ticks": ""
            },
            "colorscale": [
             [
              0,
              "#0d0887"
             ],
             [
              0.1111111111111111,
              "#46039f"
             ],
             [
              0.2222222222222222,
              "#7201a8"
             ],
             [
              0.3333333333333333,
              "#9c179e"
             ],
             [
              0.4444444444444444,
              "#bd3786"
             ],
             [
              0.5555555555555556,
              "#d8576b"
             ],
             [
              0.6666666666666666,
              "#ed7953"
             ],
             [
              0.7777777777777778,
              "#fb9f3a"
             ],
             [
              0.8888888888888888,
              "#fdca26"
             ],
             [
              1,
              "#f0f921"
             ]
            ],
            "type": "histogram2dcontour"
           }
          ],
          "mesh3d": [
           {
            "colorbar": {
             "outlinewidth": 0,
             "ticks": ""
            },
            "type": "mesh3d"
           }
          ],
          "parcoords": [
           {
            "line": {
             "colorbar": {
              "outlinewidth": 0,
              "ticks": ""
             }
            },
            "type": "parcoords"
           }
          ],
          "pie": [
           {
            "automargin": true,
            "type": "pie"
           }
          ],
          "scatter": [
           {
            "fillpattern": {
             "fillmode": "overlay",
             "size": 10,
             "solidity": 0.2
            },
            "type": "scatter"
           }
          ],
          "scatter3d": [
           {
            "line": {
             "colorbar": {
              "outlinewidth": 0,
              "ticks": ""
             }
            },
            "marker": {
             "colorbar": {
              "outlinewidth": 0,
              "ticks": ""
             }
            },
            "type": "scatter3d"
           }
          ],
          "scattercarpet": [
           {
            "marker": {
             "colorbar": {
              "outlinewidth": 0,
              "ticks": ""
             }
            },
            "type": "scattercarpet"
           }
          ],
          "scattergeo": [
           {
            "marker": {
             "colorbar": {
              "outlinewidth": 0,
              "ticks": ""
             }
            },
            "type": "scattergeo"
           }
          ],
          "scattergl": [
           {
            "marker": {
             "colorbar": {
              "outlinewidth": 0,
              "ticks": ""
             }
            },
            "type": "scattergl"
           }
          ],
          "scattermapbox": [
           {
            "marker": {
             "colorbar": {
              "outlinewidth": 0,
              "ticks": ""
             }
            },
            "type": "scattermapbox"
           }
          ],
          "scatterpolar": [
           {
            "marker": {
             "colorbar": {
              "outlinewidth": 0,
              "ticks": ""
             }
            },
            "type": "scatterpolar"
           }
          ],
          "scatterpolargl": [
           {
            "marker": {
             "colorbar": {
              "outlinewidth": 0,
              "ticks": ""
             }
            },
            "type": "scatterpolargl"
           }
          ],
          "scatterternary": [
           {
            "marker": {
             "colorbar": {
              "outlinewidth": 0,
              "ticks": ""
             }
            },
            "type": "scatterternary"
           }
          ],
          "surface": [
           {
            "colorbar": {
             "outlinewidth": 0,
             "ticks": ""
            },
            "colorscale": [
             [
              0,
              "#0d0887"
             ],
             [
              0.1111111111111111,
              "#46039f"
             ],
             [
              0.2222222222222222,
              "#7201a8"
             ],
             [
              0.3333333333333333,
              "#9c179e"
             ],
             [
              0.4444444444444444,
              "#bd3786"
             ],
             [
              0.5555555555555556,
              "#d8576b"
             ],
             [
              0.6666666666666666,
              "#ed7953"
             ],
             [
              0.7777777777777778,
              "#fb9f3a"
             ],
             [
              0.8888888888888888,
              "#fdca26"
             ],
             [
              1,
              "#f0f921"
             ]
            ],
            "type": "surface"
           }
          ],
          "table": [
           {
            "cells": {
             "fill": {
              "color": "#EBF0F8"
             },
             "line": {
              "color": "white"
             }
            },
            "header": {
             "fill": {
              "color": "#C8D4E3"
             },
             "line": {
              "color": "white"
             }
            },
            "type": "table"
           }
          ]
         },
         "layout": {
          "annotationdefaults": {
           "arrowcolor": "#2a3f5f",
           "arrowhead": 0,
           "arrowwidth": 1
          },
          "autotypenumbers": "strict",
          "coloraxis": {
           "colorbar": {
            "outlinewidth": 0,
            "ticks": ""
           }
          },
          "colorscale": {
           "diverging": [
            [
             0,
             "#8e0152"
            ],
            [
             0.1,
             "#c51b7d"
            ],
            [
             0.2,
             "#de77ae"
            ],
            [
             0.3,
             "#f1b6da"
            ],
            [
             0.4,
             "#fde0ef"
            ],
            [
             0.5,
             "#f7f7f7"
            ],
            [
             0.6,
             "#e6f5d0"
            ],
            [
             0.7,
             "#b8e186"
            ],
            [
             0.8,
             "#7fbc41"
            ],
            [
             0.9,
             "#4d9221"
            ],
            [
             1,
             "#276419"
            ]
           ],
           "sequential": [
            [
             0,
             "#0d0887"
            ],
            [
             0.1111111111111111,
             "#46039f"
            ],
            [
             0.2222222222222222,
             "#7201a8"
            ],
            [
             0.3333333333333333,
             "#9c179e"
            ],
            [
             0.4444444444444444,
             "#bd3786"
            ],
            [
             0.5555555555555556,
             "#d8576b"
            ],
            [
             0.6666666666666666,
             "#ed7953"
            ],
            [
             0.7777777777777778,
             "#fb9f3a"
            ],
            [
             0.8888888888888888,
             "#fdca26"
            ],
            [
             1,
             "#f0f921"
            ]
           ],
           "sequentialminus": [
            [
             0,
             "#0d0887"
            ],
            [
             0.1111111111111111,
             "#46039f"
            ],
            [
             0.2222222222222222,
             "#7201a8"
            ],
            [
             0.3333333333333333,
             "#9c179e"
            ],
            [
             0.4444444444444444,
             "#bd3786"
            ],
            [
             0.5555555555555556,
             "#d8576b"
            ],
            [
             0.6666666666666666,
             "#ed7953"
            ],
            [
             0.7777777777777778,
             "#fb9f3a"
            ],
            [
             0.8888888888888888,
             "#fdca26"
            ],
            [
             1,
             "#f0f921"
            ]
           ]
          },
          "colorway": [
           "#636efa",
           "#EF553B",
           "#00cc96",
           "#ab63fa",
           "#FFA15A",
           "#19d3f3",
           "#FF6692",
           "#B6E880",
           "#FF97FF",
           "#FECB52"
          ],
          "font": {
           "color": "#2a3f5f"
          },
          "geo": {
           "bgcolor": "white",
           "lakecolor": "white",
           "landcolor": "#E5ECF6",
           "showlakes": true,
           "showland": true,
           "subunitcolor": "white"
          },
          "hoverlabel": {
           "align": "left"
          },
          "hovermode": "closest",
          "mapbox": {
           "style": "light"
          },
          "paper_bgcolor": "white",
          "plot_bgcolor": "#E5ECF6",
          "polar": {
           "angularaxis": {
            "gridcolor": "white",
            "linecolor": "white",
            "ticks": ""
           },
           "bgcolor": "#E5ECF6",
           "radialaxis": {
            "gridcolor": "white",
            "linecolor": "white",
            "ticks": ""
           }
          },
          "scene": {
           "xaxis": {
            "backgroundcolor": "#E5ECF6",
            "gridcolor": "white",
            "gridwidth": 2,
            "linecolor": "white",
            "showbackground": true,
            "ticks": "",
            "zerolinecolor": "white"
           },
           "yaxis": {
            "backgroundcolor": "#E5ECF6",
            "gridcolor": "white",
            "gridwidth": 2,
            "linecolor": "white",
            "showbackground": true,
            "ticks": "",
            "zerolinecolor": "white"
           },
           "zaxis": {
            "backgroundcolor": "#E5ECF6",
            "gridcolor": "white",
            "gridwidth": 2,
            "linecolor": "white",
            "showbackground": true,
            "ticks": "",
            "zerolinecolor": "white"
           }
          },
          "shapedefaults": {
           "line": {
            "color": "#2a3f5f"
           }
          },
          "ternary": {
           "aaxis": {
            "gridcolor": "white",
            "linecolor": "white",
            "ticks": ""
           },
           "baxis": {
            "gridcolor": "white",
            "linecolor": "white",
            "ticks": ""
           },
           "bgcolor": "#E5ECF6",
           "caxis": {
            "gridcolor": "white",
            "linecolor": "white",
            "ticks": ""
           }
          },
          "title": {
           "x": 0.05
          },
          "xaxis": {
           "automargin": true,
           "gridcolor": "white",
           "linecolor": "white",
           "ticks": "",
           "title": {
            "standoff": 15
           },
           "zerolinecolor": "white",
           "zerolinewidth": 2
          },
          "yaxis": {
           "automargin": true,
           "gridcolor": "white",
           "linecolor": "white",
           "ticks": "",
           "title": {
            "standoff": 15
           },
           "zerolinecolor": "white",
           "zerolinewidth": 2
          }
         }
        },
        "title": {
         "text": "Hyperparameter Importances"
        },
        "xaxis": {
         "title": {
          "text": "Importance for Objective Value"
         }
        },
        "yaxis": {
         "title": {
          "text": "Hyperparameter"
         }
        }
       }
      },
      "text/html": [
       "<div>                            <div id=\"d0cc72dc-4d69-41ac-bb62-6f5899745caa\" class=\"plotly-graph-div\" style=\"height:525px; width:100%;\"></div>            <script type=\"text/javascript\">                require([\"plotly\"], function(Plotly) {                    window.PLOTLYENV=window.PLOTLYENV || {};                                    if (document.getElementById(\"d0cc72dc-4d69-41ac-bb62-6f5899745caa\")) {                    Plotly.newPlot(                        \"d0cc72dc-4d69-41ac-bb62-6f5899745caa\",                        [{\"cliponaxis\":false,\"hovertemplate\":[\"reg_lambda (LogUniformDistribution): 0.020576140551258417<extra></extra>\",\"subsample (CategoricalDistribution): 0.036023550126562796<extra></extra>\",\"learning_rate (UniformDistribution): 0.05137891931317954<extra></extra>\",\"max_depth (IntUniformDistribution): 0.07214259405670047<extra></extra>\",\"n_estimators (IntUniformDistribution): 0.08253013372569157<extra></extra>\",\"colsample_bylevel (CategoricalDistribution): 0.12526010018867617<extra></extra>\",\"reg_alpha (LogUniformDistribution): 0.6120885620379309<extra></extra>\"],\"marker\":{\"color\":\"rgb(66,146,198)\"},\"orientation\":\"h\",\"text\":[\"0.020576140551258417\",\"0.036023550126562796\",\"0.05137891931317954\",\"0.07214259405670047\",\"0.08253013372569157\",\"0.12526010018867617\",\"0.6120885620379309\"],\"textposition\":\"outside\",\"texttemplate\":\"%{text:.2f}\",\"x\":[0.020576140551258417,0.036023550126562796,0.05137891931317954,0.07214259405670047,0.08253013372569157,0.12526010018867617,0.6120885620379309],\"y\":[\"reg_lambda\",\"subsample\",\"learning_rate\",\"max_depth\",\"n_estimators\",\"colsample_bylevel\",\"reg_alpha\"],\"type\":\"bar\"}],                        {\"showlegend\":false,\"title\":{\"text\":\"Hyperparameter Importances\"},\"xaxis\":{\"title\":{\"text\":\"Importance for Objective Value\"}},\"yaxis\":{\"title\":{\"text\":\"Hyperparameter\"}},\"template\":{\"data\":{\"histogram2dcontour\":[{\"type\":\"histogram2dcontour\",\"colorbar\":{\"outlinewidth\":0,\"ticks\":\"\"},\"colorscale\":[[0.0,\"#0d0887\"],[0.1111111111111111,\"#46039f\"],[0.2222222222222222,\"#7201a8\"],[0.3333333333333333,\"#9c179e\"],[0.4444444444444444,\"#bd3786\"],[0.5555555555555556,\"#d8576b\"],[0.6666666666666666,\"#ed7953\"],[0.7777777777777778,\"#fb9f3a\"],[0.8888888888888888,\"#fdca26\"],[1.0,\"#f0f921\"]]}],\"choropleth\":[{\"type\":\"choropleth\",\"colorbar\":{\"outlinewidth\":0,\"ticks\":\"\"}}],\"histogram2d\":[{\"type\":\"histogram2d\",\"colorbar\":{\"outlinewidth\":0,\"ticks\":\"\"},\"colorscale\":[[0.0,\"#0d0887\"],[0.1111111111111111,\"#46039f\"],[0.2222222222222222,\"#7201a8\"],[0.3333333333333333,\"#9c179e\"],[0.4444444444444444,\"#bd3786\"],[0.5555555555555556,\"#d8576b\"],[0.6666666666666666,\"#ed7953\"],[0.7777777777777778,\"#fb9f3a\"],[0.8888888888888888,\"#fdca26\"],[1.0,\"#f0f921\"]]}],\"heatmap\":[{\"type\":\"heatmap\",\"colorbar\":{\"outlinewidth\":0,\"ticks\":\"\"},\"colorscale\":[[0.0,\"#0d0887\"],[0.1111111111111111,\"#46039f\"],[0.2222222222222222,\"#7201a8\"],[0.3333333333333333,\"#9c179e\"],[0.4444444444444444,\"#bd3786\"],[0.5555555555555556,\"#d8576b\"],[0.6666666666666666,\"#ed7953\"],[0.7777777777777778,\"#fb9f3a\"],[0.8888888888888888,\"#fdca26\"],[1.0,\"#f0f921\"]]}],\"heatmapgl\":[{\"type\":\"heatmapgl\",\"colorbar\":{\"outlinewidth\":0,\"ticks\":\"\"},\"colorscale\":[[0.0,\"#0d0887\"],[0.1111111111111111,\"#46039f\"],[0.2222222222222222,\"#7201a8\"],[0.3333333333333333,\"#9c179e\"],[0.4444444444444444,\"#bd3786\"],[0.5555555555555556,\"#d8576b\"],[0.6666666666666666,\"#ed7953\"],[0.7777777777777778,\"#fb9f3a\"],[0.8888888888888888,\"#fdca26\"],[1.0,\"#f0f921\"]]}],\"contourcarpet\":[{\"type\":\"contourcarpet\",\"colorbar\":{\"outlinewidth\":0,\"ticks\":\"\"}}],\"contour\":[{\"type\":\"contour\",\"colorbar\":{\"outlinewidth\":0,\"ticks\":\"\"},\"colorscale\":[[0.0,\"#0d0887\"],[0.1111111111111111,\"#46039f\"],[0.2222222222222222,\"#7201a8\"],[0.3333333333333333,\"#9c179e\"],[0.4444444444444444,\"#bd3786\"],[0.5555555555555556,\"#d8576b\"],[0.6666666666666666,\"#ed7953\"],[0.7777777777777778,\"#fb9f3a\"],[0.8888888888888888,\"#fdca26\"],[1.0,\"#f0f921\"]]}],\"surface\":[{\"type\":\"surface\",\"colorbar\":{\"outlinewidth\":0,\"ticks\":\"\"},\"colorscale\":[[0.0,\"#0d0887\"],[0.1111111111111111,\"#46039f\"],[0.2222222222222222,\"#7201a8\"],[0.3333333333333333,\"#9c179e\"],[0.4444444444444444,\"#bd3786\"],[0.5555555555555556,\"#d8576b\"],[0.6666666666666666,\"#ed7953\"],[0.7777777777777778,\"#fb9f3a\"],[0.8888888888888888,\"#fdca26\"],[1.0,\"#f0f921\"]]}],\"mesh3d\":[{\"type\":\"mesh3d\",\"colorbar\":{\"outlinewidth\":0,\"ticks\":\"\"}}],\"scatter\":[{\"fillpattern\":{\"fillmode\":\"overlay\",\"size\":10,\"solidity\":0.2},\"type\":\"scatter\"}],\"parcoords\":[{\"type\":\"parcoords\",\"line\":{\"colorbar\":{\"outlinewidth\":0,\"ticks\":\"\"}}}],\"scatterpolargl\":[{\"type\":\"scatterpolargl\",\"marker\":{\"colorbar\":{\"outlinewidth\":0,\"ticks\":\"\"}}}],\"bar\":[{\"error_x\":{\"color\":\"#2a3f5f\"},\"error_y\":{\"color\":\"#2a3f5f\"},\"marker\":{\"line\":{\"color\":\"#E5ECF6\",\"width\":0.5},\"pattern\":{\"fillmode\":\"overlay\",\"size\":10,\"solidity\":0.2}},\"type\":\"bar\"}],\"scattergeo\":[{\"type\":\"scattergeo\",\"marker\":{\"colorbar\":{\"outlinewidth\":0,\"ticks\":\"\"}}}],\"scatterpolar\":[{\"type\":\"scatterpolar\",\"marker\":{\"colorbar\":{\"outlinewidth\":0,\"ticks\":\"\"}}}],\"histogram\":[{\"marker\":{\"pattern\":{\"fillmode\":\"overlay\",\"size\":10,\"solidity\":0.2}},\"type\":\"histogram\"}],\"scattergl\":[{\"type\":\"scattergl\",\"marker\":{\"colorbar\":{\"outlinewidth\":0,\"ticks\":\"\"}}}],\"scatter3d\":[{\"type\":\"scatter3d\",\"line\":{\"colorbar\":{\"outlinewidth\":0,\"ticks\":\"\"}},\"marker\":{\"colorbar\":{\"outlinewidth\":0,\"ticks\":\"\"}}}],\"scattermapbox\":[{\"type\":\"scattermapbox\",\"marker\":{\"colorbar\":{\"outlinewidth\":0,\"ticks\":\"\"}}}],\"scatterternary\":[{\"type\":\"scatterternary\",\"marker\":{\"colorbar\":{\"outlinewidth\":0,\"ticks\":\"\"}}}],\"scattercarpet\":[{\"type\":\"scattercarpet\",\"marker\":{\"colorbar\":{\"outlinewidth\":0,\"ticks\":\"\"}}}],\"carpet\":[{\"aaxis\":{\"endlinecolor\":\"#2a3f5f\",\"gridcolor\":\"white\",\"linecolor\":\"white\",\"minorgridcolor\":\"white\",\"startlinecolor\":\"#2a3f5f\"},\"baxis\":{\"endlinecolor\":\"#2a3f5f\",\"gridcolor\":\"white\",\"linecolor\":\"white\",\"minorgridcolor\":\"white\",\"startlinecolor\":\"#2a3f5f\"},\"type\":\"carpet\"}],\"table\":[{\"cells\":{\"fill\":{\"color\":\"#EBF0F8\"},\"line\":{\"color\":\"white\"}},\"header\":{\"fill\":{\"color\":\"#C8D4E3\"},\"line\":{\"color\":\"white\"}},\"type\":\"table\"}],\"barpolar\":[{\"marker\":{\"line\":{\"color\":\"#E5ECF6\",\"width\":0.5},\"pattern\":{\"fillmode\":\"overlay\",\"size\":10,\"solidity\":0.2}},\"type\":\"barpolar\"}],\"pie\":[{\"automargin\":true,\"type\":\"pie\"}]},\"layout\":{\"autotypenumbers\":\"strict\",\"colorway\":[\"#636efa\",\"#EF553B\",\"#00cc96\",\"#ab63fa\",\"#FFA15A\",\"#19d3f3\",\"#FF6692\",\"#B6E880\",\"#FF97FF\",\"#FECB52\"],\"font\":{\"color\":\"#2a3f5f\"},\"hovermode\":\"closest\",\"hoverlabel\":{\"align\":\"left\"},\"paper_bgcolor\":\"white\",\"plot_bgcolor\":\"#E5ECF6\",\"polar\":{\"bgcolor\":\"#E5ECF6\",\"angularaxis\":{\"gridcolor\":\"white\",\"linecolor\":\"white\",\"ticks\":\"\"},\"radialaxis\":{\"gridcolor\":\"white\",\"linecolor\":\"white\",\"ticks\":\"\"}},\"ternary\":{\"bgcolor\":\"#E5ECF6\",\"aaxis\":{\"gridcolor\":\"white\",\"linecolor\":\"white\",\"ticks\":\"\"},\"baxis\":{\"gridcolor\":\"white\",\"linecolor\":\"white\",\"ticks\":\"\"},\"caxis\":{\"gridcolor\":\"white\",\"linecolor\":\"white\",\"ticks\":\"\"}},\"coloraxis\":{\"colorbar\":{\"outlinewidth\":0,\"ticks\":\"\"}},\"colorscale\":{\"sequential\":[[0.0,\"#0d0887\"],[0.1111111111111111,\"#46039f\"],[0.2222222222222222,\"#7201a8\"],[0.3333333333333333,\"#9c179e\"],[0.4444444444444444,\"#bd3786\"],[0.5555555555555556,\"#d8576b\"],[0.6666666666666666,\"#ed7953\"],[0.7777777777777778,\"#fb9f3a\"],[0.8888888888888888,\"#fdca26\"],[1.0,\"#f0f921\"]],\"sequentialminus\":[[0.0,\"#0d0887\"],[0.1111111111111111,\"#46039f\"],[0.2222222222222222,\"#7201a8\"],[0.3333333333333333,\"#9c179e\"],[0.4444444444444444,\"#bd3786\"],[0.5555555555555556,\"#d8576b\"],[0.6666666666666666,\"#ed7953\"],[0.7777777777777778,\"#fb9f3a\"],[0.8888888888888888,\"#fdca26\"],[1.0,\"#f0f921\"]],\"diverging\":[[0,\"#8e0152\"],[0.1,\"#c51b7d\"],[0.2,\"#de77ae\"],[0.3,\"#f1b6da\"],[0.4,\"#fde0ef\"],[0.5,\"#f7f7f7\"],[0.6,\"#e6f5d0\"],[0.7,\"#b8e186\"],[0.8,\"#7fbc41\"],[0.9,\"#4d9221\"],[1,\"#276419\"]]},\"xaxis\":{\"gridcolor\":\"white\",\"linecolor\":\"white\",\"ticks\":\"\",\"title\":{\"standoff\":15},\"zerolinecolor\":\"white\",\"automargin\":true,\"zerolinewidth\":2},\"yaxis\":{\"gridcolor\":\"white\",\"linecolor\":\"white\",\"ticks\":\"\",\"title\":{\"standoff\":15},\"zerolinecolor\":\"white\",\"automargin\":true,\"zerolinewidth\":2},\"scene\":{\"xaxis\":{\"backgroundcolor\":\"#E5ECF6\",\"gridcolor\":\"white\",\"linecolor\":\"white\",\"showbackground\":true,\"ticks\":\"\",\"zerolinecolor\":\"white\",\"gridwidth\":2},\"yaxis\":{\"backgroundcolor\":\"#E5ECF6\",\"gridcolor\":\"white\",\"linecolor\":\"white\",\"showbackground\":true,\"ticks\":\"\",\"zerolinecolor\":\"white\",\"gridwidth\":2},\"zaxis\":{\"backgroundcolor\":\"#E5ECF6\",\"gridcolor\":\"white\",\"linecolor\":\"white\",\"showbackground\":true,\"ticks\":\"\",\"zerolinecolor\":\"white\",\"gridwidth\":2}},\"shapedefaults\":{\"line\":{\"color\":\"#2a3f5f\"}},\"annotationdefaults\":{\"arrowcolor\":\"#2a3f5f\",\"arrowhead\":0,\"arrowwidth\":1},\"geo\":{\"bgcolor\":\"white\",\"landcolor\":\"#E5ECF6\",\"subunitcolor\":\"white\",\"showland\":true,\"showlakes\":true,\"lakecolor\":\"white\"},\"title\":{\"x\":0.05},\"mapbox\":{\"style\":\"light\"}}}},                        {\"responsive\": true}                    ).then(function(){\n",
       "                            \n",
       "var gd = document.getElementById('d0cc72dc-4d69-41ac-bb62-6f5899745caa');\n",
       "var x = new MutationObserver(function (mutations, observer) {{\n",
       "        var display = window.getComputedStyle(gd).display;\n",
       "        if (!display || display === 'none') {{\n",
       "            console.log([gd, 'removed!']);\n",
       "            Plotly.purge(gd);\n",
       "            observer.disconnect();\n",
       "        }}\n",
       "}});\n",
       "\n",
       "// Listen for the removal of the full notebook cells\n",
       "var notebookContainer = gd.closest('#notebook-container');\n",
       "if (notebookContainer) {{\n",
       "    x.observe(notebookContainer, {childList: true});\n",
       "}}\n",
       "\n",
       "// Listen for the clearing of the current output cell\n",
       "var outputEl = gd.closest('.output');\n",
       "if (outputEl) {{\n",
       "    x.observe(outputEl, {childList: true});\n",
       "}}\n",
       "\n",
       "                        })                };                });            </script>        </div>"
      ]
     },
     "metadata": {},
     "output_type": "display_data"
    }
   ],
   "source": [
    "optuna.visualization.plot_param_importances(study)"
   ]
  },
  {
   "cell_type": "code",
   "execution_count": 176,
   "metadata": {},
   "outputs": [
    {
     "data": {
      "text/plain": [
       "{'n_estimators': 1238,\n",
       " 'max_depth': 9,\n",
       " 'learning_rate': 0.10846692523927018,\n",
       " 'subsample': 0.9,\n",
       " 'colsample_bylevel': 0.9,\n",
       " 'reg_lambda': 0.004688748882647761,\n",
       " 'reg_alpha': 0.009825482290623943}"
      ]
     },
     "execution_count": 176,
     "metadata": {},
     "output_type": "execute_result"
    }
   ],
   "source": [
    "study.best_params"
   ]
  },
  {
   "cell_type": "code",
   "execution_count": 42,
   "metadata": {},
   "outputs": [
    {
     "name": "stdout",
     "output_type": "stream",
     "text": [
      "fold: 1 ==> score: 0.9209092675971409\n",
      "Score_mean: 0.9209092675971409\n",
      "fold: 2 ==> score: 0.9183604704330579\n",
      "Score_mean: 0.9196348690150994\n",
      "fold: 3 ==> score: 0.9304775781074844\n",
      "Score_mean: 0.9232491053792278\n",
      "fold: 4 ==> score: 0.9235359550763781\n",
      "Score_mean: 0.9233208178035154\n",
      "fold: 5 ==> score: 0.9205343367235772\n",
      "Score_mean: 0.9227635215875278\n",
      "fold: 6 ==> score: 0.9196378292912036\n",
      "Score_mean: 0.9222425728714737\n",
      "fold: 7 ==> score: 0.917853474740769\n",
      "Score_mean: 0.9216155588528017\n",
      "fold: 8 ==> score: 0.9239799380938932\n",
      "Score_mean: 0.921911106257938\n",
      "fold: 9 ==> score: 0.9336189221112677\n",
      "Score_mean: 0.9232119746860857\n",
      "fold: 10 ==> score: 0.9250577965766572\n",
      "Score_mean: 0.923396556875143\n"
     ]
    }
   ],
   "source": [
    "kf = KFold(n_splits=10,random_state=42,shuffle=True)\n",
    "score=[] \n",
    "scores = []\n",
    "n=0\n",
    "for trn_idx, test_idx in kf.split(X[future],train['target']):\n",
    "    X_tr,X_val=X[future].iloc[trn_idx],X[future].iloc[test_idx]\n",
    "    y_tr,y_val=train['target'].iloc[trn_idx],train['target'].iloc[test_idx]\n",
    "    model = XGBClassifier(   n_estimators= 1238,\n",
    "                             max_depth= 9,\n",
    "                             learning_rate= 0.10846692523927018,\n",
    "                             subsample= 0.9,\n",
    "                             colsample_bylevel= 0.9,\n",
    "                             reg_lambda= 0.004688748882647761,\n",
    "                             reg_alpha= 0.009825482290623943,\n",
    "                             use_label_encoder=False, nthread=32,tree_method='gpu_hist')\n",
    "    model.fit(X_tr,y_tr,eval_set=[(X_val,y_val)],early_stopping_rounds=100,verbose=False)\n",
    "   \n",
    "    score.append(0.2* recall_score(y_val, (model.predict(X_val)), average='macro') + 0.8* precision_score(y_val, (model.predict(X_val)), average='macro'))\n",
    "    score_test=(0.2* recall_score(y_val, (model.predict(X_val)), average='macro') + 0.8* precision_score(y_val, (model.predict(X_val)), average='macro'))\n",
    "    scores.append(score_test)\n",
    "    score_test = np.array(scores).mean()\n",
    "    print(f\"fold: {n+1} ==> score: {score[n]}\")\n",
    "    print(f'Score_mean: {score_test}')\n",
    "    n+=1"
   ]
  },
  {
   "cell_type": "code",
   "execution_count": 25,
   "metadata": {},
   "outputs": [],
   "source": [
    "X_train, X_val, y_train, y_val = train_test_split(X, y, test_size=0.1, random_state=7777)"
   ]
  },
  {
   "cell_type": "code",
   "execution_count": 26,
   "metadata": {},
   "outputs": [
    {
     "name": "stdout",
     "output_type": "stream",
     "text": [
      "[0]\tvalidation_0-mlogloss:1.54983\n",
      "[50]\tvalidation_0-mlogloss:0.30209\n",
      "[100]\tvalidation_0-mlogloss:0.23801\n",
      "[150]\tvalidation_0-mlogloss:0.20475\n",
      "[200]\tvalidation_0-mlogloss:0.18077\n",
      "[250]\tvalidation_0-mlogloss:0.16200\n",
      "[300]\tvalidation_0-mlogloss:0.14779\n",
      "[350]\tvalidation_0-mlogloss:0.13692\n",
      "[400]\tvalidation_0-mlogloss:0.12879\n",
      "[450]\tvalidation_0-mlogloss:0.12249\n",
      "[500]\tvalidation_0-mlogloss:0.11780\n",
      "[550]\tvalidation_0-mlogloss:0.11362\n",
      "[600]\tvalidation_0-mlogloss:0.11025\n",
      "[650]\tvalidation_0-mlogloss:0.10772\n",
      "[700]\tvalidation_0-mlogloss:0.10516\n",
      "[750]\tvalidation_0-mlogloss:0.10345\n",
      "[800]\tvalidation_0-mlogloss:0.10241\n",
      "[850]\tvalidation_0-mlogloss:0.10178\n",
      "[900]\tvalidation_0-mlogloss:0.10103\n",
      "[950]\tvalidation_0-mlogloss:0.10046\n",
      "[1000]\tvalidation_0-mlogloss:0.09999\n",
      "[1050]\tvalidation_0-mlogloss:0.09982\n",
      "[1100]\tvalidation_0-mlogloss:0.09987\n",
      "[1150]\tvalidation_0-mlogloss:0.09967\n",
      "[1200]\tvalidation_0-mlogloss:0.09965\n",
      "[1237]\tvalidation_0-mlogloss:0.09968\n"
     ]
    },
    {
     "data": {
      "text/html": [
       "<style>#sk-container-id-1 {color: black;background-color: white;}#sk-container-id-1 pre{padding: 0;}#sk-container-id-1 div.sk-toggleable {background-color: white;}#sk-container-id-1 label.sk-toggleable__label {cursor: pointer;display: block;width: 100%;margin-bottom: 0;padding: 0.3em;box-sizing: border-box;text-align: center;}#sk-container-id-1 label.sk-toggleable__label-arrow:before {content: \"▸\";float: left;margin-right: 0.25em;color: #696969;}#sk-container-id-1 label.sk-toggleable__label-arrow:hover:before {color: black;}#sk-container-id-1 div.sk-estimator:hover label.sk-toggleable__label-arrow:before {color: black;}#sk-container-id-1 div.sk-toggleable__content {max-height: 0;max-width: 0;overflow: hidden;text-align: left;background-color: #f0f8ff;}#sk-container-id-1 div.sk-toggleable__content pre {margin: 0.2em;color: black;border-radius: 0.25em;background-color: #f0f8ff;}#sk-container-id-1 input.sk-toggleable__control:checked~div.sk-toggleable__content {max-height: 200px;max-width: 100%;overflow: auto;}#sk-container-id-1 input.sk-toggleable__control:checked~label.sk-toggleable__label-arrow:before {content: \"▾\";}#sk-container-id-1 div.sk-estimator input.sk-toggleable__control:checked~label.sk-toggleable__label {background-color: #d4ebff;}#sk-container-id-1 div.sk-label input.sk-toggleable__control:checked~label.sk-toggleable__label {background-color: #d4ebff;}#sk-container-id-1 input.sk-hidden--visually {border: 0;clip: rect(1px 1px 1px 1px);clip: rect(1px, 1px, 1px, 1px);height: 1px;margin: -1px;overflow: hidden;padding: 0;position: absolute;width: 1px;}#sk-container-id-1 div.sk-estimator {font-family: monospace;background-color: #f0f8ff;border: 1px dotted black;border-radius: 0.25em;box-sizing: border-box;margin-bottom: 0.5em;}#sk-container-id-1 div.sk-estimator:hover {background-color: #d4ebff;}#sk-container-id-1 div.sk-parallel-item::after {content: \"\";width: 100%;border-bottom: 1px solid gray;flex-grow: 1;}#sk-container-id-1 div.sk-label:hover label.sk-toggleable__label {background-color: #d4ebff;}#sk-container-id-1 div.sk-serial::before {content: \"\";position: absolute;border-left: 1px solid gray;box-sizing: border-box;top: 0;bottom: 0;left: 50%;z-index: 0;}#sk-container-id-1 div.sk-serial {display: flex;flex-direction: column;align-items: center;background-color: white;padding-right: 0.2em;padding-left: 0.2em;position: relative;}#sk-container-id-1 div.sk-item {position: relative;z-index: 1;}#sk-container-id-1 div.sk-parallel {display: flex;align-items: stretch;justify-content: center;background-color: white;position: relative;}#sk-container-id-1 div.sk-item::before, #sk-container-id-1 div.sk-parallel-item::before {content: \"\";position: absolute;border-left: 1px solid gray;box-sizing: border-box;top: 0;bottom: 0;left: 50%;z-index: -1;}#sk-container-id-1 div.sk-parallel-item {display: flex;flex-direction: column;z-index: 1;position: relative;background-color: white;}#sk-container-id-1 div.sk-parallel-item:first-child::after {align-self: flex-end;width: 50%;}#sk-container-id-1 div.sk-parallel-item:last-child::after {align-self: flex-start;width: 50%;}#sk-container-id-1 div.sk-parallel-item:only-child::after {width: 0;}#sk-container-id-1 div.sk-dashed-wrapped {border: 1px dashed gray;margin: 0 0.4em 0.5em 0.4em;box-sizing: border-box;padding-bottom: 0.4em;background-color: white;}#sk-container-id-1 div.sk-label label {font-family: monospace;font-weight: bold;display: inline-block;line-height: 1.2em;}#sk-container-id-1 div.sk-label-container {text-align: center;}#sk-container-id-1 div.sk-container {/* jupyter's `normalize.less` sets `[hidden] { display: none; }` but bootstrap.min.css set `[hidden] { display: none !important; }` so we also need the `!important` here to be able to override the default hidden behavior on the sphinx rendered scikit-learn.org. See: https://github.com/scikit-learn/scikit-learn/issues/21755 */display: inline-block !important;position: relative;}#sk-container-id-1 div.sk-text-repr-fallback {display: none;}</style><div id=\"sk-container-id-1\" class=\"sk-top-container\"><div class=\"sk-text-repr-fallback\"><pre>XGBClassifier(base_score=0.5, booster=&#x27;gbtree&#x27;, callbacks=None,\n",
       "              colsample_bylevel=0.9, colsample_bynode=1, colsample_bytree=1,\n",
       "              early_stopping_rounds=None, enable_categorical=False,\n",
       "              eval_metric=None, gamma=0, gpu_id=0, grow_policy=&#x27;depthwise&#x27;,\n",
       "              importance_type=None, interaction_constraints=&#x27;&#x27;,\n",
       "              learning_rate=0.10846692523927018, max_bin=256,\n",
       "              max_cat_to_onehot=4, max_delta_step=0, max_depth=9, max_leaves=0,\n",
       "              min_child_weight=1, missing=nan, monotone_constraints=&#x27;()&#x27;,\n",
       "              n_estimators=1238, n_jobs=32, nthread=32, num_parallel_tree=1,\n",
       "              objective=&#x27;multi:softprob&#x27;, predictor=&#x27;auto&#x27;, random_state=0, ...)</pre><b>In a Jupyter environment, please rerun this cell to show the HTML representation or trust the notebook. <br />On GitHub, the HTML representation is unable to render, please try loading this page with nbviewer.org.</b></div><div class=\"sk-container\" hidden><div class=\"sk-item\"><div class=\"sk-estimator sk-toggleable\"><input class=\"sk-toggleable__control sk-hidden--visually\" id=\"sk-estimator-id-1\" type=\"checkbox\" checked><label for=\"sk-estimator-id-1\" class=\"sk-toggleable__label sk-toggleable__label-arrow\">XGBClassifier</label><div class=\"sk-toggleable__content\"><pre>XGBClassifier(base_score=0.5, booster=&#x27;gbtree&#x27;, callbacks=None,\n",
       "              colsample_bylevel=0.9, colsample_bynode=1, colsample_bytree=1,\n",
       "              early_stopping_rounds=None, enable_categorical=False,\n",
       "              eval_metric=None, gamma=0, gpu_id=0, grow_policy=&#x27;depthwise&#x27;,\n",
       "              importance_type=None, interaction_constraints=&#x27;&#x27;,\n",
       "              learning_rate=0.10846692523927018, max_bin=256,\n",
       "              max_cat_to_onehot=4, max_delta_step=0, max_depth=9, max_leaves=0,\n",
       "              min_child_weight=1, missing=nan, monotone_constraints=&#x27;()&#x27;,\n",
       "              n_estimators=1238, n_jobs=32, nthread=32, num_parallel_tree=1,\n",
       "              objective=&#x27;multi:softprob&#x27;, predictor=&#x27;auto&#x27;, random_state=0, ...)</pre></div></div></div></div></div>"
      ],
      "text/plain": [
       "XGBClassifier(base_score=0.5, booster='gbtree', callbacks=None,\n",
       "              colsample_bylevel=0.9, colsample_bynode=1, colsample_bytree=1,\n",
       "              early_stopping_rounds=None, enable_categorical=False,\n",
       "              eval_metric=None, gamma=0, gpu_id=0, grow_policy='depthwise',\n",
       "              importance_type=None, interaction_constraints='',\n",
       "              learning_rate=0.10846692523927018, max_bin=256,\n",
       "              max_cat_to_onehot=4, max_delta_step=0, max_depth=9, max_leaves=0,\n",
       "              min_child_weight=1, missing=nan, monotone_constraints='()',\n",
       "              n_estimators=1238, n_jobs=32, nthread=32, num_parallel_tree=1,\n",
       "              objective='multi:softprob', predictor='auto', random_state=0, ...)"
      ]
     },
     "execution_count": 26,
     "metadata": {},
     "output_type": "execute_result"
    }
   ],
   "source": [
    "model =  XGBClassifier(      n_estimators= 1238,\n",
    "                             max_depth= 9,\n",
    "                             learning_rate= 0.10846692523927018,\n",
    "                             subsample= 0.9,\n",
    "                             colsample_bylevel= 0.9,\n",
    "                             reg_lambda= 0.004688748882647761,\n",
    "                             reg_alpha= 0.009825482290623943,\n",
    "                             use_label_encoder=False, nthread=32,tree_method='gpu_hist')\n",
    "model.fit(X_train,y_train,eval_set=[(X_val,y_val)],early_stopping_rounds=100,verbose=50)"
   ]
  },
  {
   "cell_type": "code",
   "execution_count": 27,
   "metadata": {},
   "outputs": [
    {
     "data": {
      "image/png": "[encoded data removed]",
      "text/plain": [
       "<Figure size 1080x720 with 1 Axes>"
      ]
     },
     "metadata": {
      "needs_background": "light"
     },
     "output_type": "display_data"
    }
   ],
   "source": [
    "fig, ax = plt.subplots(figsize=(15,10))\n",
    "plot_importance(model,height=0.5, ax=ax,importance_type='weight')\n",
    "plt.show()"
   ]
  },
  {
   "cell_type": "code",
   "execution_count": 51,
   "metadata": {},
   "outputs": [],
   "source": [
    "threshold = np.sort(model.feature_importances_)[14:]"
   ]
  },
  {
   "cell_type": "code",
   "execution_count": 53,
   "metadata": {},
   "outputs": [
    {
     "name": "stdout",
     "output_type": "stream",
     "text": [
      "Thresh=0.0097470,score: 0.93731% \n",
      "Thresh=0.0101413,score: 0.93862% \n",
      "Thresh=0.0101956,score: 0.94167% \n",
      "Thresh=0.0103787,score: 0.94060% \n",
      "Thresh=0.0107432,score: 0.94103% \n",
      "Thresh=0.0108315,score: 0.94141% \n",
      "Thresh=0.0109440,score: 0.93996% \n",
      "Thresh=0.0127347,score: 0.94089% \n",
      "Thresh=0.0130244,score: 0.94105% \n",
      "Thresh=0.0132321,score: 0.93905% \n",
      "Thresh=0.0135252,score: 0.94126% \n",
      "Thresh=0.0139571,score: 0.93866% \n",
      "Thresh=0.0146918,score: 0.93134% \n",
      "Thresh=0.0158009,score: 0.93449% \n",
      "Thresh=0.0161679,score: 0.91521% \n",
      "Thresh=0.0167832,score: 0.90741% \n",
      "Thresh=0.0172767,score: 0.90795% \n",
      "Thresh=0.0175228,score: 0.90850% \n",
      "Thresh=0.0176172,score: 0.90225% \n",
      "Thresh=0.0184000,score: 0.90265% \n",
      "Thresh=0.0184006,score: 0.82798% \n",
      "Thresh=0.0184983,score: 0.82945% \n",
      "Thresh=0.0185305,score: 0.81369% \n",
      "Thresh=0.0187287,score: 0.80828% \n",
      "Thresh=0.0188311,score: 0.80472% \n",
      "Thresh=0.0192299,score: 0.78530% \n",
      "Thresh=0.0201119,score: 0.76424% \n",
      "Thresh=0.0206240,score: 0.77059% \n",
      "Thresh=0.0206654,score: 0.61297% \n",
      "Thresh=0.0206911,score: 0.43287% \n",
      "Thresh=0.0213187,score: 0.43642% \n",
      "Thresh=0.0214302,score: 0.42333% \n",
      "Thresh=0.0222067,score: 0.40873% \n",
      "Thresh=0.0222958,score: 0.38276% \n",
      "Thresh=0.0226148,score: 0.38993% \n",
      "Thresh=0.0231282,score: 0.39645% \n",
      "Thresh=0.0241394,score: 0.36992% \n",
      "Thresh=0.0242748,score: 0.36257% \n",
      "Thresh=0.0252428,score: 0.33609% \n",
      "Thresh=0.0260067,score: 0.29357% \n",
      "Thresh=0.0286538,score: 0.32340% \n",
      "Thresh=0.0305363,score: 0.26556% \n",
      "Thresh=0.0321836,score: 0.32573% \n",
      "Thresh=0.0334261,score: 0.27865% \n",
      "Thresh=0.0385128,score: 0.28310% \n",
      "Thresh=0.0393494,score: 0.17174% \n"
     ]
    }
   ],
   "source": [
    "for thresh in threshold:\n",
    "    selection = SelectFromModel(model, threshold=thresh, prefit=True)\n",
    "    X_train_s = selection.transform(X_train)\n",
    "    model_select = XGBClassifier( n_estimators= 1238,\n",
    "                                     max_depth= 9,\n",
    "                                     learning_rate= 0.10846692523927018,\n",
    "                                     subsample= 0.9,\n",
    "                                     colsample_bylevel= 0.9,\n",
    "                                     reg_lambda= 0.004688748882647761,\n",
    "                                     reg_alpha= 0.009825482290623943,\n",
    "                                     use_label_encoder=False, nthread=32,tree_method='gpu_hist')\n",
    "    model_select.fit(X_train_s, y_train)\n",
    "    X_test_s = selection.transform(X_val)\n",
    "    predict = model_select.predict(X_test_s)\n",
    "    score = (0.2* recall_score(y_val, predict, average='macro') + 0.8* precision_score(y_val, predict, average='macro'))\n",
    "    print(\"Thresh=%.7f,score: %.5f%% \" % (thresh, score))"
   ]
  },
  {
   "cell_type": "code",
   "execution_count": 28,
   "metadata": {},
   "outputs": [],
   "source": [
    "best=0.01019557"
   ]
  },
  {
   "cell_type": "code",
   "execution_count": 38,
   "metadata": {},
   "outputs": [],
   "source": [
    "selection = SelectFromModel(model, threshold=0.01019557, prefit=True)\n",
    "X_train_s = selection.transform(X)\n",
    "model_s = XGBClassifier( n_estimators= 1238,\n",
    "                         max_depth= 9,\n",
    "                         learning_rate= 0.10846692523927018,\n",
    "                         subsample= 0.9,\n",
    "                         colsample_bylevel= 0.9,\n",
    "                         reg_lambda= 0.004688748882647761,\n",
    "                         reg_alpha= 0.009825482290623943,\n",
    "                        use_label_encoder=False, nthread=32,tree_method='gpu_hist')\n",
    "model_s.fit(X_train_s, y)\n",
    "X_valid_s = selection.transform(X_valid)\n",
    "predict = model_s.predict(X_valid_s)"
   ]
  },
  {
   "cell_type": "code",
   "execution_count": 39,
   "metadata": {},
   "outputs": [],
   "source": [
    "sub['target']=predict"
   ]
  },
  {
   "cell_type": "code",
   "execution_count": 40,
   "metadata": {},
   "outputs": [
    {
     "data": {
      "text/plain": [
       "0    74903\n",
       "1     5434\n",
       "4     1447\n",
       "5     1341\n",
       "3     1218\n",
       "2      654\n",
       "Name: target, dtype: int64"
      ]
     },
     "execution_count": 40,
     "metadata": {},
     "output_type": "execute_result"
    }
   ],
   "source": [
    "sub['target'].value_counts()"
   ]
  },
  {
   "cell_type": "code",
   "execution_count": 41,
   "metadata": {},
   "outputs": [],
   "source": [
    "sub.to_csv('submission.csv', index = False)"
   ]
  },
  {
   "cell_type": "code",
   "execution_count": null,
   "metadata": {},
   "outputs": [],
   "source": []
  },
  {
   "cell_type": "code",
   "execution_count": null,
   "metadata": {},
   "outputs": [],
   "source": []
  }
 ],
 "metadata": {
  "colab": {
   "collapsed_sections": [],
   "name": "Нетология_baseline.ipynb",
   "provenance": []
  },
  "kernelspec": {
   "display_name": "Python 3 (ipykernel)",
   "language": "python",
   "name": "python3"
  },
  "language_info": {
   "codemirror_mode": {
    "name": "ipython",
    "version": 3
   },
   "file_extension": ".py",
   "mimetype": "text/x-python",
   "name": "python",
   "nbconvert_exporter": "python",
   "pygments_lexer": "ipython3",
   "version": "3.8.13"
  }
 },
 "nbformat": 4,
 "nbformat_minor": 1
}
